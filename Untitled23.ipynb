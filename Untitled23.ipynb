{
  "nbformat": 4,
  "nbformat_minor": 0,
  "metadata": {
    "colab": {
      "name": "Untitled23.ipynb",
      "private_outputs": true,
      "provenance": [],
      "include_colab_link": true
    },
    "kernelspec": {
      "name": "python3",
      "display_name": "Python 3"
    },
    "language_info": {
      "name": "python"
    }
  },
  "cells": [
    {
      "cell_type": "markdown",
      "metadata": {
        "id": "view-in-github",
        "colab_type": "text"
      },
      "source": [
        "<a href=\"https://colab.research.google.com/github/ma7moud09/ma7moud09/blob/main/Untitled23.ipynb\" target=\"_parent\"><img src=\"https://colab.research.google.com/assets/colab-badge.svg\" alt=\"Open In Colab\"/></a>"
      ]
    },
    {
      "cell_type": "markdown",
      "metadata": {
        "id": "a8C9tTn52d0V"
      },
      "source": [
        "# Libraries"
      ]
    },
    {
      "cell_type": "code",
      "metadata": {
        "id": "YpwgIm89WV7l"
      },
      "source": [
        "import numpy as np\n",
        "import pandas as pd\n",
        "import matplotlib.pyplot as plt\n",
        "import seaborn as sns\n",
        "import missingno\n",
        "import datetime\n",
        "from matplotlib.dates import DateFormatter\n",
        "import re\n"
      ],
      "execution_count": null,
      "outputs": []
    },
    {
      "cell_type": "code",
      "metadata": {
        "id": "cy9FOgC2cJve"
      },
      "source": [
        "from google.colab import drive\n",
        "drive.mount('/content/drive')"
      ],
      "execution_count": null,
      "outputs": []
    },
    {
      "cell_type": "markdown",
      "metadata": {
        "id": "C4wR2Fsu2niS"
      },
      "source": [
        "# Import and read data\n"
      ]
    },
    {
      "cell_type": "code",
      "metadata": {
        "id": "8zZHgK0UWyoE"
      },
      "source": [
        "path_behav = '/content/drive/MyDrive/QVI_purchase_behaviour.csv'\n",
        "path_trans = '/content/drive/MyDrive/QVI_transaction_data.xlsx'\n",
        "\n",
        "df_behav = pd.read_csv(path_behav, header= None)\n",
        "df_trans = pd.read_excel(path_trans, header = None)\n"
      ],
      "execution_count": null,
      "outputs": []
    },
    {
      "cell_type": "code",
      "metadata": {
        "id": "OfZb-E40Zbx8"
      },
      "source": [
        "header_behav = ['LYLTY_CARD_NBR','LIFESTAGE','PREMIUM_CUSTOMER']\n",
        "df_behav.drop(df_behav[[0]],axis= 0, inplace = True )\n",
        "df_behav.columns= header_behav\n",
        "df_behav.head()"
      ],
      "execution_count": null,
      "outputs": []
    },
    {
      "cell_type": "code",
      "metadata": {
        "id": "4JgBAyXpaiww"
      },
      "source": [
        "df_behav['LYLTY_CARD_NBR'].head()"
      ],
      "execution_count": null,
      "outputs": []
    },
    {
      "cell_type": "markdown",
      "metadata": {
        "id": "0k-VO0Hk22UK"
      },
      "source": [
        "# Transaction data explor and anlysis"
      ]
    },
    {
      "cell_type": "code",
      "metadata": {
        "id": "fHxuPt3YYUtF"
      },
      "source": [
        "print(df_trans.shape)\n",
        "df_trans.head()"
      ],
      "execution_count": null,
      "outputs": []
    },
    {
      "cell_type": "code",
      "metadata": {
        "id": "4qRm-izGYgJd"
      },
      "source": [
        "header_trans = ['DATE','STORE_NBR','LYLTY_CARD_NBR','TXN_ID','PROD_NBR',\n",
        "                'PROD_NAME', 'PROD_QTY','TOT_SALES']\n",
        "\n",
        "df_trans.drop(df_trans[[0]], axis = 0, inplace = True)\n",
        "df_trans.columns = header_trans\n",
        "df_trans.head()"
      ],
      "execution_count": null,
      "outputs": []
    },
    {
      "cell_type": "code",
      "metadata": {
        "id": "ehTnsxthc5Vq"
      },
      "source": [
        "df_trans.describe()"
      ],
      "execution_count": null,
      "outputs": []
    },
    {
      "cell_type": "code",
      "metadata": {
        "id": "cRwQGRnIzdID"
      },
      "source": [
        "df_trans.dtypes"
      ],
      "execution_count": null,
      "outputs": []
    },
    {
      "cell_type": "code",
      "metadata": {
        "id": "Rf_CU21sd3Os"
      },
      "source": [
        "df_trans['DATE'] = df_trans['DATE'].astype(float)\n",
        "df_trans['STORE_NBR'] = df_trans['STORE_NBR'].astype(float)\n",
        "df_trans['LYLTY_CARD_NBR'] = df_trans['LYLTY_CARD_NBR'].astype(float)\n",
        "df_trans['TXN_ID'] = df_trans['TXN_ID'].astype(float)\n",
        "df_trans['PROD_NBR'] = df_trans['PROD_NBR'].astype(float)\n",
        "df_trans['PROD_QTY'] = df_trans['PROD_QTY'].astype(float)\n",
        "df_trans['TOT_SALES'] = df_trans['TOT_SALES'].astype(float)"
      ],
      "execution_count": null,
      "outputs": []
    },
    {
      "cell_type": "code",
      "metadata": {
        "id": "9xsqHpfDg29v"
      },
      "source": [
        "df_trans.dtypes"
      ],
      "execution_count": null,
      "outputs": []
    },
    {
      "cell_type": "code",
      "metadata": {
        "id": "OTCA01rudbXX"
      },
      "source": [
        "df_trans.isnull().sum().to_frame()"
      ],
      "execution_count": null,
      "outputs": []
    },
    {
      "cell_type": "code",
      "metadata": {
        "id": "ISR5NgXrg-Pi"
      },
      "source": [
        "df_trans['TXN_ID'].nunique()"
      ],
      "execution_count": null,
      "outputs": []
    },
    {
      "cell_type": "code",
      "metadata": {
        "id": "7t-0u-pmhOJQ"
      },
      "source": [
        "df_trans[df_trans.duplicated(['TXN_ID'])].head()"
      ],
      "execution_count": null,
      "outputs": []
    },
    {
      "cell_type": "code",
      "metadata": {
        "id": "e4g1Ku54iFwX"
      },
      "source": [
        "df_trans.loc[df_trans['TXN_ID']==7739, :]"
      ],
      "execution_count": null,
      "outputs": []
    },
    {
      "cell_type": "code",
      "metadata": {
        "id": "EH-Se2d4iqKt"
      },
      "source": [
        "missingno.matrix(df_trans)"
      ],
      "execution_count": null,
      "outputs": []
    },
    {
      "cell_type": "markdown",
      "metadata": {
        "id": "N9XB9z7S2Hqn"
      },
      "source": [
        "# Date is not in the right format\n",
        "#\n",
        " Apply function to Date feature in transactionData dataset\n"
      ]
    },
    {
      "cell_type": "code",
      "metadata": {
        "id": "SREAWO2xj_Yr"
      },
      "source": [
        "\n",
        "def xlseriesdate_to_datetime(xlserialdate):\n",
        "    excel_anchor = datetime.datetime(1900, 1, 1)\n",
        "    if(xlserialdate < 60):\n",
        "        delta_in_days = datetime.timedelta(days = (xlserialdate - 1))\n",
        "    else:\n",
        "        delta_in_days = datetime.timedelta(days = (xlserialdate - 2))\n",
        "    converted_date = excel_anchor + delta_in_days\n",
        "    return converted_date\n"
      ],
      "execution_count": null,
      "outputs": []
    },
    {
      "cell_type": "code",
      "metadata": {
        "id": "oMLJtwaEoTNl"
      },
      "source": [
        "\n",
        "df_trans['DATE'] = df_trans['DATE'].apply(xlseriesdate_to_datetime)"
      ],
      "execution_count": null,
      "outputs": []
    },
    {
      "cell_type": "code",
      "metadata": {
        "id": "-akMBLCWo1hH"
      },
      "source": [
        "df_trans.head()"
      ],
      "execution_count": null,
      "outputs": []
    },
    {
      "cell_type": "code",
      "metadata": {
        "id": "LRn9ADckpNH5"
      },
      "source": [
        "trans_date= df_trans.sort_values(['TOT_SALES'], ascending=False).groupby('DATE').head(10)\n",
        "top10_days = trans_date.head(10)\n",
        "print(top10_days.shape)\n",
        "top10_days.head()"
      ],
      "execution_count": null,
      "outputs": []
    },
    {
      "cell_type": "code",
      "metadata": {
        "id": "EWmnYi9i0wB0"
      },
      "source": [
        "# Extract weights out of 'PROD_NAME'\n",
        "\n",
        "df_trans['PROD_SIZE'] = df_trans['PROD_NAME'].str.extract('(\\d+)')\n",
        "df_trans['PROD_SIZE'] = df_trans['PROD_SIZE'].astype(float)\n",
        "df_trans.head()"
      ],
      "execution_count": null,
      "outputs": []
    },
    {
      "cell_type": "code",
      "metadata": {
        "id": "z92SpBDs18hB"
      },
      "source": [
        "# Create text cleaning function for PROD_NAME feature\n",
        "\n",
        "def clean_text (text):\n",
        "    text = re.sub('[&/]','',text)\n",
        "    text = re.sub('d\\w','',text)\n",
        "    return text"
      ],
      "execution_count": null,
      "outputs": []
    },
    {
      "cell_type": "code",
      "metadata": {
        "id": "O6DI9E7V1vjO"
      },
      "source": [
        "df_trans['PROD_NAME'] = df_trans['PROD_NAME'].apply(clean_text)\n",
        "df_trans.head()"
      ],
      "execution_count": null,
      "outputs": []
    },
    {
      "cell_type": "markdown",
      "metadata": {
        "id": "7EKx_NAi3gnX"
      },
      "source": [
        "\n",
        "# anlysis of Value counts of PROD_QTY"
      ]
    },
    {
      "cell_type": "code",
      "metadata": {
        "id": "eVSERKs3300d"
      },
      "source": [
        "df_trans['PROD_QTY'].value_counts().to_frame()"
      ],
      "execution_count": null,
      "outputs": []
    },
    {
      "cell_type": "code",
      "metadata": {
        "id": "0nLcEANs5JYQ"
      },
      "source": [
        "df_trans.loc[df_trans['PROD_QTY'] == 200, :]"
      ],
      "execution_count": null,
      "outputs": []
    },
    {
      "cell_type": "code",
      "metadata": {
        "id": "QRCZAV0R6UeW"
      },
      "source": [
        "df_trans.loc[df_trans['LYLTY_CARD_NBR'] == 226000, :]"
      ],
      "execution_count": null,
      "outputs": []
    },
    {
      "cell_type": "code",
      "metadata": {
        "id": "BJYaJ4G75zgW"
      },
      "source": [
        "df_trans.drop(df_trans.index[df_trans['PROD_QTY'] == 20], inplace = True)\n",
        "df_trans.drop(df_trans.index[df_trans['LYLTY_CARD_NBR'] == 226000], inplace = True)"
      ],
      "execution_count": null,
      "outputs": []
    },
    {
      "cell_type": "code",
      "metadata": {
        "id": "vZICsYVl7ZNy"
      },
      "source": [
        "df_trans['DATE'].nunique()"
      ],
      "execution_count": null,
      "outputs": []
    },
    {
      "cell_type": "markdown",
      "metadata": {
        "id": "f3SCgrul1xVI"
      },
      "source": [
        "# sales_per_day"
      ]
    },
    {
      "cell_type": "code",
      "metadata": {
        "id": "tsebDBkh7y0A"
      },
      "source": [
        "pd.date_range(start = '2018-07-01', end = '2019-06-30').difference(df_trans['DATE'])"
      ],
      "execution_count": null,
      "outputs": []
    },
    {
      "cell_type": "code",
      "metadata": {
        "id": "Kk2mbD6X9zLm"
      },
      "source": [
        "sales = df_trans.groupby('DATE')['TOT_SALES'].sum().to_frame()\n",
        "print(sales.shape)\n",
        "sales.head()"
      ],
      "execution_count": null,
      "outputs": []
    },
    {
      "cell_type": "code",
      "metadata": {
        "id": "tjZQI7rI_lNE"
      },
      "source": [
        "day = pd.DataFrame(index = pd.date_range(start = '2018-07-01', end= '2019-06-30'))\n",
        "day['TOT_SALES'] = 0\n",
        "day.head()"
      ],
      "execution_count": null,
      "outputs": []
    },
    {
      "cell_type": "code",
      "metadata": {
        "id": "TXHXrNzqAMiU"
      },
      "source": [
        "sales_per_day = sales + day\n",
        "sales_per_day.fillna(0, inplace=True)\n",
        "sales_per_day.head()"
      ],
      "execution_count": null,
      "outputs": []
    },
    {
      "cell_type": "code",
      "metadata": {
        "id": "lQhcNd6PEbvo"
      },
      "source": [
        "sales_per_day.index.name = 'Date'\n",
        "sales_per_day.rename(columns = {'TOT_SALES': 'Total Sales'}, inplace = True)\n",
        "sales_per_day.head()\n"
      ],
      "execution_count": null,
      "outputs": []
    },
    {
      "cell_type": "code",
      "metadata": {
        "id": "n19FueNOEnvt"
      },
      "source": [
        "timeline = sales_per_day.index\n",
        "graph = sales_per_day['Total Sales']\n",
        "\n",
        "fig, ax = plt.subplots(figsize = (10, 5))\n",
        "ax.plot(timeline, graph)\n",
        "\n",
        "date_form = DateFormatter(\"%Y-%m\")\n",
        "ax.xaxis.set_major_formatter(date_form)\n",
        "plt.title('Total Sales from July 2018 to June 2019')\n",
        "plt.xlabel('Time')\n",
        "plt.ylabel('Total Sales')\n",
        "\n",
        "plt.show()"
      ],
      "execution_count": null,
      "outputs": []
    },
    {
      "cell_type": "code",
      "metadata": {
        "id": "fbRFoPDsFCd1"
      },
      "source": [
        "sales_per_day[sales_per_day['Total Sales']==0].head()"
      ],
      "execution_count": null,
      "outputs": []
    },
    {
      "cell_type": "code",
      "metadata": {
        "id": "JHBybYurFqD8"
      },
      "source": [
        "sales_per_decem = sales_per_day[(sales_per_day.index <'2019-01-01') & (sales_per_day.index > '2018-11-30')]\n",
        "sales_per_day.head()"
      ],
      "execution_count": null,
      "outputs": []
    },
    {
      "cell_type": "code",
      "metadata": {
        "id": "Xg2ZQZbjG76I"
      },
      "source": [
        "timedecem = sales_per_decem.index\n",
        "graphdcem = sales_per_decem['Total Sales']\n",
        "\n",
        "fig, ax = plt.subplots(figsize = (10, 5))\n",
        "ax.plot(timedecem, graphdcem )\n",
        "\n",
        "date_form = DateFormatter(\"%Y-%m\")\n",
        "ax.xaxis.set_major_formatter(date_form)\n",
        "plt.title('2019-01-01 to 2018-11-30')\n",
        "plt.xlabel('Time')\n",
        "plt.ylabel('Total Sales')\n",
        "\n",
        "plt.show()"
      ],
      "execution_count": null,
      "outputs": []
    },
    {
      "cell_type": "code",
      "metadata": {
        "id": "fudpeE35IUMW"
      },
      "source": [
        "plt.figure(figsize = (20,10))\n",
        "sns.barplot(x =timedecem , y = graphdcem)"
      ],
      "execution_count": null,
      "outputs": []
    },
    {
      "cell_type": "code",
      "metadata": {
        "id": "Sn7f9SHAqAxZ"
      },
      "source": [
        "sales_per_decem.reset_index(drop=True, inplace=True)\n",
        "sales_per_decem.head()"
      ],
      "execution_count": null,
      "outputs": []
    },
    {
      "cell_type": "code",
      "metadata": {
        "id": "7ABI343nHk5u"
      },
      "source": [
        "sales_per_decem['Date'] = sales_per_decem.index +1\n",
        "sales_per_decem.head()"
      ],
      "execution_count": null,
      "outputs": []
    },
    {
      "cell_type": "code",
      "metadata": {
        "id": "iAluAVVuH00k"
      },
      "source": [
        "plt.figure(figsize = (15,5))\n",
        "sns.barplot(x = 'Date', y ='Total Sales', data = sales_per_decem)"
      ],
      "execution_count": null,
      "outputs": []
    },
    {
      "cell_type": "code",
      "metadata": {
        "id": "r7Ruxs-FI4RK"
      },
      "source": [
        "df_trans.groupby('PROD_SIZE')['TOT_SALES'].sum().to_frame()"
      ],
      "execution_count": null,
      "outputs": []
    },
    {
      "cell_type": "code",
      "metadata": {
        "id": "sXMf9NwsKXti"
      },
      "source": [
        "plt.figure(figsize = (10,5))\n",
        "plt.hist(df_trans['PROD_SIZE'])"
      ],
      "execution_count": null,
      "outputs": []
    },
    {
      "cell_type": "code",
      "metadata": {
        "id": "RtfrKymuqLR5"
      },
      "source": [
        "part = df_trans['PROD_NAME'].str.partition()\n",
        "df_trans['BRAND'] = part[0]\n",
        "df_trans.head()"
      ],
      "execution_count": null,
      "outputs": []
    },
    {
      "cell_type": "code",
      "metadata": {
        "id": "SRV8-WmNq0wo"
      },
      "source": [
        "df_trans['BRAND'].unique()"
      ],
      "execution_count": null,
      "outputs": []
    },
    {
      "cell_type": "code",
      "metadata": {
        "id": "AimPmSocq_d-"
      },
      "source": [
        "df_trans['BRAND'].replace('Ncc', 'Natural', inplace = True)\n",
        "df_trans['BRAND'].replace('Ccs', 'CCS', inplace = True)\n",
        "df_trans['BRAND'].replace('Smith', 'Smiths', inplace = True)\n",
        "df_trans['BRAND'].replace(['Grain', 'Grnwves'], 'Grainwaves', inplace = True)\n",
        "df_trans['BRAND'].replace('Dorito', 'Doritos', inplace = True)\n",
        "df_trans['BRAND'].replace('Ww', 'Woolworths', inplace = True)\n",
        "df_trans['BRAND'].replace('Infzns', 'Infuzions', inplace = True)\n",
        "df_trans['BRAND'].replace(['Red', 'Rrd'], 'Red Rock Deli', inplace = True)\n",
        "df_trans['BRAND'].replace('Snbts', 'Sunbites', inplace = True)\n",
        "\n",
        "df_trans['BRAND'].unique()\n"
      ],
      "execution_count": null,
      "outputs": []
    },
    {
      "cell_type": "markdown",
      "metadata": {
        "id": "KAcNCm371BS0"
      },
      "source": [
        "## Which `brand had the most sales`"
      ]
    },
    {
      "cell_type": "code",
      "metadata": {
        "id": "QIqYy3Tmrs24"
      },
      "source": [
        "\n",
        "df_trans.groupby('BRAND')['TOT_SALES'].sum().sort_values(ascending = False)\n"
      ],
      "execution_count": null,
      "outputs": []
    },
    {
      "cell_type": "code",
      "metadata": {
        "id": "t31vzbobsRso"
      },
      "source": [
        "brand_most_sales = pd.DataFrame(df_trans.groupby('BRAND')['TOT_SALES'].sum().sort_values(ascending = False))\n",
        "brand_most_sales.reset_index(drop=True, inplace=True)\n",
        "print(brand_most_sales.shape)\n",
        "brand_most_sales.head()"
      ],
      "execution_count": null,
      "outputs": []
    },
    {
      "cell_type": "code",
      "metadata": {
        "id": "lfHsjxwGv2Ri"
      },
      "source": [
        "brand_most_sales['BRAND'] =['Kettle','Doritos','Smiths','Pringles','Infuzions',\n",
        "                            'Old','Thins','Twisties','Tostitos','Cobs','RRD',\n",
        "                            'Tyrrells','Grainwaves','Cheezels','WW','Natural',\n",
        "                            'Red Rock Deli','CCs','Cheetos','Woolworths',\n",
        "                            'Sunbites','GrnWves','NNC','French','Burger']\n",
        "\n",
        "\n",
        "brand_most_sales.head()"
      ],
      "execution_count": null,
      "outputs": []
    },
    {
      "cell_type": "code",
      "metadata": {
        "id": "H9kdVCxjz1UA"
      },
      "source": [
        "plt.figure(figsize = (25,10))\n",
        "sns.barplot(data = brand_most_sales, x = 'BRAND', y = 'TOT_SALES')"
      ],
      "execution_count": null,
      "outputs": []
    },
    {
      "cell_type": "markdown",
      "metadata": {
        "id": "x2YUWFLr0x-z"
      },
      "source": [
        "# Customer Data\n"
      ]
    },
    {
      "cell_type": "code",
      "metadata": {
        "id": "hE8lHvEs04SD"
      },
      "source": [
        "list(df_behav.columns)"
      ],
      "execution_count": null,
      "outputs": []
    },
    {
      "cell_type": "code",
      "metadata": {
        "id": "m-cLsbG-_TNe"
      },
      "source": [
        "missingno.matrix(df_behav)"
      ],
      "execution_count": null,
      "outputs": []
    },
    {
      "cell_type": "code",
      "metadata": {
        "id": "RKZ6E9jP-YOj"
      },
      "source": [
        "print(df_behav.shape)\n",
        "df_behav['LYLTY_CARD_NBR'].nunique()"
      ],
      "execution_count": null,
      "outputs": []
    },
    {
      "cell_type": "code",
      "metadata": {
        "id": "rscSsV9u-uCF"
      },
      "source": [
        "print(df_behav['LIFESTAGE'].nunique())\n",
        "df_behav['LIFESTAGE'].unique()"
      ],
      "execution_count": null,
      "outputs": []
    },
    {
      "cell_type": "code",
      "metadata": {
        "id": "QtjeoojY_dmG"
      },
      "source": [
        "df_behav['LIFESTAGE'].value_counts(ascending = False).to_frame()"
      ],
      "execution_count": null,
      "outputs": []
    },
    {
      "cell_type": "code",
      "metadata": {
        "id": "Ufe-8mAmASH8"
      },
      "source": [
        "plt.figure(figsize=(10,5))\n",
        "sns.countplot(y= df_behav['LIFESTAGE'], order =df_behav['LIFESTAGE'].value_counts().index)"
      ],
      "execution_count": null,
      "outputs": []
    },
    {
      "cell_type": "code",
      "metadata": {
        "id": "G6z59Y81Bh5y"
      },
      "source": [
        "print(df_behav['PREMIUM_CUSTOMER'].nunique())\n",
        "df_behav['PREMIUM_CUSTOMER'].unique()"
      ],
      "execution_count": null,
      "outputs": []
    },
    {
      "cell_type": "code",
      "metadata": {
        "id": "8pe4BO2tB1uQ"
      },
      "source": [
        "df_behav['PREMIUM_CUSTOMER'].value_counts(ascending = False).to_frame()"
      ],
      "execution_count": null,
      "outputs": []
    },
    {
      "cell_type": "code",
      "metadata": {
        "id": "xHNOcDwXCVbG"
      },
      "source": [
        "plt.figure(figsize=(10,3))\n",
        "sns.countplot(y = df_behav['PREMIUM_CUSTOMER'], order= df_behav['PREMIUM_CUSTOMER'].value_counts(ascending = False).index)"
      ],
      "execution_count": null,
      "outputs": []
    },
    {
      "cell_type": "markdown",
      "metadata": {
        "id": "2nyqszsQFixV"
      },
      "source": [
        "# Merge transaction Data and customer Data together\n"
      ]
    },
    {
      "cell_type": "code",
      "metadata": {
        "id": "lbbHuKIwKTcF"
      },
      "source": [
        "df_behav['LYLTY_CARD_NBR'] = df_behav['LYLTY_CARD_NBR'].astype(float)\n",
        "data = pd.merge(df_trans, df_behav)\n",
        "data.head()"
      ],
      "execution_count": null,
      "outputs": []
    },
    {
      "cell_type": "code",
      "metadata": {
        "id": "F67vKciSKqWU"
      },
      "source": [
        "data.isnull().sum().to_frame()"
      ],
      "execution_count": null,
      "outputs": []
    },
    {
      "cell_type": "code",
      "metadata": {
        "id": "aYcScB-UZ7w_"
      },
      "source": [
        "missingno.matrix(data)"
      ],
      "execution_count": null,
      "outputs": []
    },
    {
      "cell_type": "markdown",
      "metadata": {
        "id": "nAhLJ1j8emWd"
      },
      "source": [
        "# Data analysis on customer segments\n",
        "Now that our data is ready for analysis, we can define some metrics of interest to the client:\n",
        "\n",
        "Who spends the most on chips, describing customers by lifestage and how premium their general purchasing behaviour is\n",
        "How many customers are in each segment\n",
        "How many chips are bought per customer by segment\n",
        "What is the average chip price by customer segment"
      ]
    },
    {
      "cell_type": "code",
      "metadata": {
        "id": "ywhMN3goaE9p"
      },
      "source": [
        "sale = data.groupby(['LIFESTAGE', 'PREMIUM_CUSTOMER'])['TOT_SALES'].sum().to_frame()\n",
        "sale.rename(columns= {'TOT_SALES':'tot_sales'}, inplace = True)\n",
        "sale.sort_values('tot_sales', inplace= False)"
      ],
      "execution_count": null,
      "outputs": []
    },
    {
      "cell_type": "code",
      "metadata": {
        "id": "fgL7w7NVcimb"
      },
      "source": [
        "sale.unstack().plot(kind = 'bar', figsize = (10,7), stacked = True,title = 'Total Sales by Customer Segment')\n",
        "plt.ylabel('Total Sales')"
      ],
      "execution_count": null,
      "outputs": []
    },
    {
      "cell_type": "markdown",
      "metadata": {
        "id": "-_5SsS6TfQIx"
      },
      "source": [
        "Top 3 sales come from budget older families, mainstream young singles/couples and mainstream retirees.\n",
        "\n"
      ]
    },
    {
      "cell_type": "code",
      "metadata": {
        "id": "MTTov1Sedgvu"
      },
      "source": [
        "customers = pd.DataFrame(data.groupby(['LIFESTAGE','PREMIUM_CUSTOMER'])['LYLTY_CARD_NBR'].nunique())\n",
        "customers.rename(columns = {'LYLTY_CARD_NBR': 'Number of Customers'}, inplace = True)\n",
        "customers.sort_values(by = 'Number of Customers', ascending = False).head(10)"
      ],
      "execution_count": null,
      "outputs": []
    },
    {
      "cell_type": "code",
      "metadata": {
        "id": "R-Oqq4Z9fnKx"
      },
      "source": [
        "customers.unstack().plot(kind = 'bar', figsize = (10,7), \n",
        "                         title = 'Number of Customers by Customer Segment')"
      ],
      "execution_count": null,
      "outputs": []
    },
    {
      "cell_type": "code",
      "metadata": {
        "id": "nHCNvT5Qw2Y5"
      },
      "source": [
        "# Average units per customer by PREMIUM_CUSTOMER and LIFESTAGE\n",
        "\n",
        "avg_units = data.groupby(['PREMIUM_CUSTOMER', 'LIFESTAGE']).PROD_QTY.sum() / data.groupby(['PREMIUM_CUSTOMER', 'LIFESTAGE'])['LYLTY_CARD_NBR'].nunique()\n",
        "avg_units = pd.DataFrame(avg_units, columns = {'Average Unit per Customer'})\n",
        "avg_units.sort_values(by = 'Average Unit per Customer', ascending = False).head()"
      ],
      "execution_count": null,
      "outputs": []
    },
    {
      "cell_type": "code",
      "metadata": {
        "id": "njLAMT4xxSpZ"
      },
      "source": [
        "avg_units.unstack().plot(kind = 'bar', figsize = (12, 7), title = 'Average Unit by Customer Segment')\n",
        "plt.ylabel('Average Number of Units')\n",
        "plt.legend(['Budget', 'Mainstream', 'Premium'], loc = 2)"
      ],
      "execution_count": null,
      "outputs": []
    },
    {
      "cell_type": "markdown",
      "metadata": {
        "id": "niuRpFSUtQGo"
      },
      "source": [
        "Older families and young families buy more chips per customer.\n",
        "\n"
      ]
    },
    {
      "cell_type": "code",
      "metadata": {
        "id": "vjdFC0f_mDma"
      },
      "source": [
        "# Average price per unit by PREMIUM_CUSTOMER and LIFESTAGE\n",
        "avg_price = data.groupby(['PREMIUM_CUSTOMER', 'LIFESTAGE']).TOT_SALES.sum() /data.groupby(['PREMIUM_CUSTOMER', 'LIFESTAGE']).PROD_QTY.sum()\n",
        "avg_price = pd.DataFrame(avg_price, columns = {'Price per Unit'})\n",
        "avg_price.sort_values(by = 'Price per Unit', ascending = False).head()"
      ],
      "execution_count": null,
      "outputs": []
    },
    {
      "cell_type": "code",
      "metadata": {
        "id": "rSsY3YnBtruI"
      },
      "source": [
        "avg_price.unstack().plot(kind = 'bar', figsize = (12, 7), title = 'Average Price by Customer Segment', ylim = (0, 6))\n",
        "plt.ylabel('Average Price')\n",
        "plt.legend(['Budget', 'Mainstream', 'Premium'], loc = 2)"
      ],
      "execution_count": null,
      "outputs": []
    },
    {
      "cell_type": "markdown",
      "metadata": {
        "id": "KUvKHeB6t8so"
      },
      "source": [
        "\n",
        "Mainstream midage and young singles and couples are more willing to pay more per packet of chips compared to their budget and premium counterparts. This may be due to premium shoppers being more likely to buy healthy snacks and when they do buy chips, it is mainly for entertainment purposes rather than their own consumption. This is also supported by there being fewer premium midage and young singles and couples buying chips compared to their mainstream counterparts."
      ]
    },
    {
      "cell_type": "markdown",
      "metadata": {
        "id": "4f1BA6RBwGhr"
      },
      "source": [
        "#creat price unit to make anlysis to undersatnd more about which life stage is most buy in minstream \n"
      ]
    },
    {
      "cell_type": "code",
      "metadata": {
        "id": "lGWauJ7fuBFg"
      },
      "source": [
        "pricePerUnit = data\n",
        "pricePerUnit['unit price'] = price_unit['TOT_SALES']/pricePerUnit['PROD_QTY']\n",
        "pricePerUnit.head()"
      ],
      "execution_count": null,
      "outputs": []
    },
    {
      "cell_type": "code",
      "metadata": {
        "id": "tz7Ag9KNvkt_"
      },
      "source": [
        " #Let's group our data into mainstream and non-mainstream\n",
        "\n",
        "mainstream=pricePerUnit.loc[(pricePerUnit['PREMIUM_CUSTOMER']=='Mainstream')&( (pricePerUnit['LIFESTAGE']=='YOUNG SINGLES/COUPLES')|(pricePerUnit['LIFESTAGE']=='MIDAGE SINGLES/COUPLES') ),'unit price']\n",
        "\n",
        "nonMainstream=pricePerUnit.loc[(pricePerUnit['PREMIUM_CUSTOMER']!='Mainstream')&( (pricePerUnit['LIFESTAGE']=='YOUNG SINGLES/COUPLES')|(pricePerUnit['LIFESTAGE']=='MIDAGE SINGLES/COUPLES') ),'unit price']"
      ],
      "execution_count": null,
      "outputs": []
    },
    {
      "cell_type": "code",
      "metadata": {
        "id": "Cgxz0Nay25fL"
      },
      "source": [
        "mainstream.head()"
      ],
      "execution_count": null,
      "outputs": []
    },
    {
      "cell_type": "code",
      "metadata": {
        "id": "AsaqrEIe0Tfb"
      },
      "source": [
        "# Compare histograms of mainstream and non-mainstream customers\n",
        "\n",
        "plt.figure(figsize = (10, 5))\n",
        "plt.hist(mainstream, label = 'Mainstream')\n",
        "plt.hist(nonMainstream, label = 'Premium & Budget')\n",
        "plt.legend()\n",
        "plt.xlabel('Price per Unit')"
      ],
      "execution_count": null,
      "outputs": []
    },
    {
      "cell_type": "code",
      "metadata": {
        "id": "mEXUh5aS0ryr"
      },
      "source": [
        "\n",
        "print(\"Mainstream average price per unit: ${:.2f}\".format(np.mean(mainstream)))\n",
        "print(\"Non-mainstream average price per unit: ${:.2f}\".format(np.mean(nonMainstream)))\n",
        "if np.mean(mainstream) > np.mean(nonMainstream):\n",
        "    print(\"Mainstream customers have higher average price per unit. \")\n",
        "else:\n",
        "    print(\"Non-mainstream customers have a higher average price per unit. \")"
      ],
      "execution_count": null,
      "outputs": []
    },
    {
      "cell_type": "markdown",
      "metadata": {
        "id": "x4fu77wi0-ua"
      },
      "source": [
        "Mainstream customers have higher average price per unit than that of non-mainstream customers.\n",
        "\n"
      ]
    },
    {
      "cell_type": "markdown",
      "metadata": {
        "id": "J8426FXJ0_5_"
      },
      "source": [
        "we might want to target customers segments that contribute the most to sales to retain them to further increase sales. Let's examine mainstream young singles/couples against the rest of the cutomer segments to see if they prefer any particular brand of chips."
      ]
    },
    {
      "cell_type": "code",
      "metadata": {
        "id": "MZW0dI-61Evf"
      },
      "source": [
        "target = data.loc[(data['LIFESTAGE'] == 'YOUNG SINGLES/COUPLES') & (data['PREMIUM_CUSTOMER'] == 'Mainstream'), :]\n",
        "nonTarget = data.loc[(data['LIFESTAGE'] != 'YOUNG SINGLES/COUPLES' ) & (data['PREMIUM_CUSTOMER'] != 'Mainstream'), :]\n",
        "target.head()"
      ],
      "execution_count": null,
      "outputs": []
    },
    {
      "cell_type": "markdown",
      "metadata": {
        "id": "zGb3PQzA3s_w"
      },
      "source": [
        "# Affinity to brand"
      ]
    },
    {
      "cell_type": "code",
      "metadata": {
        "id": "gRhlYOTB1ioF"
      },
      "source": [
        "# Target Segment\n",
        "targetBrand = target.loc[:, ['BRAND', 'PROD_QTY']]\n",
        "targetSum = targetBrand['PROD_QTY'].sum()\n",
        "targetBrand['Target Brand Affinity'] = targetBrand['PROD_QTY'] / targetSum\n",
        "targetBrand = pd.DataFrame(targetBrand.groupby('BRAND')['Target Brand Affinity'].sum())\n",
        "\n",
        "# Non-target segment\n",
        "nonTargetBrand = nonTarget.loc[:, ['BRAND', 'PROD_QTY']]\n",
        "nonTargetSum = nonTargetBrand['PROD_QTY'].sum()\n",
        "nonTargetBrand['Non-Target Brand Affinity'] = nonTargetBrand['PROD_QTY'] / nonTargetSum\n",
        "nonTargetBrand = pd.DataFrame(nonTargetBrand.groupby('BRAND')['Non-Target Brand Affinity'].sum())"
      ],
      "execution_count": null,
      "outputs": []
    },
    {
      "cell_type": "code",
      "metadata": {
        "id": "bSL70J8O3bBV"
      },
      "source": [
        "targetBrand.head()\n"
      ],
      "execution_count": null,
      "outputs": []
    },
    {
      "cell_type": "code",
      "metadata": {
        "id": "Ec7YNh9A4Dab"
      },
      "source": [
        "# Merge the two dataframes together\n",
        "\n",
        "brand_proportions = pd.merge(targetBrand, nonTargetBrand, left_index = True, right_index = True)\n",
        "brand_proportions.head()\n"
      ],
      "execution_count": null,
      "outputs": []
    },
    {
      "cell_type": "code",
      "metadata": {
        "id": "XdXnlkzH4M91"
      },
      "source": [
        "brand_proportions['Affinity to Brand'] = brand_proportions['Target Brand Affinity'] / brand_proportions['Non-Target Brand Affinity']\n",
        "brand_proportions.sort_values(by = 'Affinity to Brand', ascending = False)"
      ],
      "execution_count": null,
      "outputs": []
    },
    {
      "cell_type": "markdown",
      "metadata": {
        "id": "4MEg33WW4WQW"
      },
      "source": [
        "# Affinity to pack size"
      ]
    },
    {
      "cell_type": "code",
      "metadata": {
        "id": "Z36LfaSt4YLF"
      },
      "source": [
        "# Target segment \n",
        "targetSize = target.loc[:,['PROD_SIZE','PROD_QTY']]\n",
        "targetSum = targetSize['PROD_QTY'].sum()\n",
        "targetSize['Target Pack Affinity'] = targetSize['PROD_QTY'] / targetSum\n",
        "targetSize = pd.DataFrame(targetSize.groupby('PROD_SIZE')['Target Pack Affinity'].sum())\n",
        "\n",
        "# Non-target segment\n",
        "nonTargetSize = nonTarget.loc[:, ['PROD_SIZE', 'PROD_QTY']]\n",
        "nonTargetSum = nonTargetSize['PROD_QTY'].sum()\n",
        "nonTargetSize['Non-Target Pack Affinity'] = nonTargetSize['PROD_QTY'] / nonTargetSum\n",
        "nonTargetSize = pd.DataFrame(nonTargetSize.groupby('PROD_SIZE')['Non-Target Pack Affinity'].sum())"
      ],
      "execution_count": null,
      "outputs": []
    },
    {
      "cell_type": "code",
      "metadata": {
        "id": "ewcogETl6V0r"
      },
      "source": [
        "# Merge the two dataframes together\n",
        "\n",
        "pack_proportions = pd.merge(targetSize, nonTargetSize, left_index = True, right_index = True)\n",
        "pack_proportions.head()"
      ],
      "execution_count": null,
      "outputs": []
    },
    {
      "cell_type": "code",
      "metadata": {
        "id": "8ORf7OAv4Sua"
      },
      "source": [
        "pack_proportions['Affinity to Pack'] = pack_proportions['Target Pack Affinity'] / pack_proportions['Non-Target Pack Affinity']\n",
        "pack_proportions.sort_values(by = 'Affinity to Pack', ascending = False)"
      ],
      "execution_count": null,
      "outputs": []
    },
    {
      "cell_type": "markdown",
      "metadata": {
        "id": "7wx9tWiI45IE"
      },
      "source": [
        "It looks like mainstream singles/couples are more likely to purchase a 270g pack size compared to other pack sizes."
      ]
    },
    {
      "cell_type": "code",
      "metadata": {
        "id": "30xmV83l43Md"
      },
      "source": [
        "# Which brand offers 270g pack size?\n",
        "\n",
        "data.loc[data['PROD_SIZE'] == 270, :].head(10)"
      ],
      "execution_count": null,
      "outputs": []
    },
    {
      "cell_type": "code",
      "metadata": {
        "id": "5D0PacCV4-RL"
      },
      "source": [
        "# Is Twisties the only brand who sells 270g pack size?\n",
        "\n",
        "data.loc[data['PROD_SIZE'] == 270, 'BRAND'].unique()"
      ],
      "execution_count": null,
      "outputs": []
    },
    {
      "cell_type": "markdown",
      "metadata": {
        "id": "D4Lf4nDx5DjW"
      },
      "source": [
        "Twisties is the only brand that offers 270g pack size."
      ]
    },
    {
      "cell_type": "markdown",
      "metadata": {
        "id": "4LL4SyBr5G-Z"
      },
      "source": [
        "# Conclusion\n",
        "**bold text**Sales are highest for (Budget, OLDER FAMILIES), (Mainstream, YOUNG SINGLES/COUPLES) and (Mainstream, RETIREES)\n",
        "We found that (Mainstream, YOUNG SINGLES/COUPLES) and (Mainstream, RETIREES) are mainly due to the fact that there are more customers in these segments\n",
        "(Mainstream, YOUNG SINGLES/COUPLES) are more likely to pay more per packet of chips than their premium and budget counterparts\n",
        "They are also more likely to purchase 'Tyrrells' and '270g' pack sizes than the rest of the population"
      ]
    }
  ]
}
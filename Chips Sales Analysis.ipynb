{
  "nbformat": 4,
  "nbformat_minor": 0,
  "metadata": {
    "colab": {
      "name": "Untitled23.ipynb",
      "provenance": [],
      "collapsed_sections": [
        "0k-VO0Hk22UK",
        "N9XB9z7S2Hqn",
        "7EKx_NAi3gnX",
        "f3SCgrul1xVI",
        "KAcNCm371BS0",
        "x2YUWFLr0x-z",
        "2nyqszsQFixV",
        "nAhLJ1j8emWd",
        "4f1BA6RBwGhr",
        "zGb3PQzA3s_w",
        "4MEg33WW4WQW"
      ],
      "include_colab_link": true
    },
    "kernelspec": {
      "name": "python3",
      "display_name": "Python 3"
    },
    "language_info": {
      "name": "python"
    },
    "accelerator": "GPU"
  },
  "cells": [
    {
      "cell_type": "markdown",
      "metadata": {
        "id": "view-in-github",
        "colab_type": "text"
      },
      "source": [
        "<a href=\"https://colab.research.google.com/github/ma7moud09/ma7moud09/blob/main/Chips%20Sales%20Analysis.ipynb\" target=\"_parent\"><img src=\"https://colab.research.google.com/assets/colab-badge.svg\" alt=\"Open In Colab\"/></a>"
      ]
    },
    {
      "cell_type": "markdown",
      "metadata": {
        "id": "a8C9tTn52d0V"
      },
      "source": [
        "# Libraries"
      ]
    },
    {
      "cell_type": "code",
      "metadata": {
        "id": "YpwgIm89WV7l"
      },
      "source": [
        "import numpy as np\n",
        "import pandas as pd\n",
        "import matplotlib.pyplot as plt\n",
        "import seaborn as sns\n",
        "import missingno\n",
        "import datetime\n",
        "from matplotlib.dates import DateFormatter\n",
        "import re\n"
      ],
      "execution_count": null,
      "outputs": []
    },
    {
      "cell_type": "code",
      "metadata": {
        "id": "cy9FOgC2cJve",
        "colab": {
          "base_uri": "https://localhost:8080/"
        },
        "outputId": "4459fe85-8587-4e36-c690-94226b23d24a"
      },
      "source": [
        "from google.colab import drive\n",
        "drive.mount('/content/drive')"
      ],
      "execution_count": null,
      "outputs": [
        {
          "output_type": "stream",
          "name": "stdout",
          "text": [
            "Mounted at /content/drive\n"
          ]
        }
      ]
    },
    {
      "cell_type": "markdown",
      "metadata": {
        "id": "C4wR2Fsu2niS"
      },
      "source": [
        "# Import and read data\n"
      ]
    },
    {
      "cell_type": "code",
      "metadata": {
        "id": "8zZHgK0UWyoE"
      },
      "source": [
        "path_behav = '/content/drive/MyDrive/QVI_purchase_behaviour.csv'\n",
        "path_trans = '/content/drive/MyDrive/QVI_transaction_data.xlsx'\n",
        "\n",
        "df_behav = pd.read_csv(path_behav, header= None)\n",
        "df_trans = pd.read_excel(path_trans, header = None)\n"
      ],
      "execution_count": null,
      "outputs": []
    },
    {
      "cell_type": "code",
      "metadata": {
        "id": "OfZb-E40Zbx8",
        "colab": {
          "base_uri": "https://localhost:8080/",
          "height": 204
        },
        "outputId": "dd1518ba-2735-4459-fa43-9951459e7feb"
      },
      "source": [
        "header_behav = ['LYLTY_CARD_NBR','LIFESTAGE','PREMIUM_CUSTOMER']\n",
        "df_behav.drop(df_behav[[0]],axis= 0, inplace = True )\n",
        "df_behav.columns= header_behav\n",
        "df_behav.head()"
      ],
      "execution_count": null,
      "outputs": [
        {
          "output_type": "execute_result",
          "data": {
            "text/html": [
              "<div>\n",
              "<style scoped>\n",
              "    .dataframe tbody tr th:only-of-type {\n",
              "        vertical-align: middle;\n",
              "    }\n",
              "\n",
              "    .dataframe tbody tr th {\n",
              "        vertical-align: top;\n",
              "    }\n",
              "\n",
              "    .dataframe thead th {\n",
              "        text-align: right;\n",
              "    }\n",
              "</style>\n",
              "<table border=\"1\" class=\"dataframe\">\n",
              "  <thead>\n",
              "    <tr style=\"text-align: right;\">\n",
              "      <th></th>\n",
              "      <th>LYLTY_CARD_NBR</th>\n",
              "      <th>LIFESTAGE</th>\n",
              "      <th>PREMIUM_CUSTOMER</th>\n",
              "    </tr>\n",
              "  </thead>\n",
              "  <tbody>\n",
              "    <tr>\n",
              "      <th>1</th>\n",
              "      <td>1000</td>\n",
              "      <td>YOUNG SINGLES/COUPLES</td>\n",
              "      <td>Premium</td>\n",
              "    </tr>\n",
              "    <tr>\n",
              "      <th>2</th>\n",
              "      <td>1002</td>\n",
              "      <td>YOUNG SINGLES/COUPLES</td>\n",
              "      <td>Mainstream</td>\n",
              "    </tr>\n",
              "    <tr>\n",
              "      <th>3</th>\n",
              "      <td>1003</td>\n",
              "      <td>YOUNG FAMILIES</td>\n",
              "      <td>Budget</td>\n",
              "    </tr>\n",
              "    <tr>\n",
              "      <th>4</th>\n",
              "      <td>1004</td>\n",
              "      <td>OLDER SINGLES/COUPLES</td>\n",
              "      <td>Mainstream</td>\n",
              "    </tr>\n",
              "    <tr>\n",
              "      <th>5</th>\n",
              "      <td>1005</td>\n",
              "      <td>MIDAGE SINGLES/COUPLES</td>\n",
              "      <td>Mainstream</td>\n",
              "    </tr>\n",
              "  </tbody>\n",
              "</table>\n",
              "</div>"
            ],
            "text/plain": [
              "  LYLTY_CARD_NBR               LIFESTAGE PREMIUM_CUSTOMER\n",
              "1           1000   YOUNG SINGLES/COUPLES          Premium\n",
              "2           1002   YOUNG SINGLES/COUPLES       Mainstream\n",
              "3           1003          YOUNG FAMILIES           Budget\n",
              "4           1004   OLDER SINGLES/COUPLES       Mainstream\n",
              "5           1005  MIDAGE SINGLES/COUPLES       Mainstream"
            ]
          },
          "metadata": {},
          "execution_count": 4
        }
      ]
    },
    {
      "cell_type": "code",
      "metadata": {
        "id": "4JgBAyXpaiww",
        "colab": {
          "base_uri": "https://localhost:8080/"
        },
        "outputId": "69284093-f00d-41fa-c2f5-b4a59eec142f"
      },
      "source": [
        "df_behav['LYLTY_CARD_NBR'].head()"
      ],
      "execution_count": null,
      "outputs": [
        {
          "output_type": "execute_result",
          "data": {
            "text/plain": [
              "1    1000\n",
              "2    1002\n",
              "3    1003\n",
              "4    1004\n",
              "5    1005\n",
              "Name: LYLTY_CARD_NBR, dtype: object"
            ]
          },
          "metadata": {},
          "execution_count": 333
        }
      ]
    },
    {
      "cell_type": "markdown",
      "metadata": {
        "id": "0k-VO0Hk22UK"
      },
      "source": [
        "# Transaction data explor and anlysis"
      ]
    },
    {
      "cell_type": "code",
      "metadata": {
        "id": "fHxuPt3YYUtF",
        "colab": {
          "base_uri": "https://localhost:8080/"
        },
        "outputId": "547e1fd8-dabe-4490-eb5c-8e4aa2b6c3f9"
      },
      "source": [
        "print(df_trans.shape)\n",
        "df_trans.head()"
      ],
      "execution_count": null,
      "outputs": [
        {
          "output_type": "stream",
          "name": "stdout",
          "text": [
            "(264837, 8)\n"
          ]
        },
        {
          "output_type": "execute_result",
          "data": {
            "text/html": [
              "<div>\n",
              "<style scoped>\n",
              "    .dataframe tbody tr th:only-of-type {\n",
              "        vertical-align: middle;\n",
              "    }\n",
              "\n",
              "    .dataframe tbody tr th {\n",
              "        vertical-align: top;\n",
              "    }\n",
              "\n",
              "    .dataframe thead th {\n",
              "        text-align: right;\n",
              "    }\n",
              "</style>\n",
              "<table border=\"1\" class=\"dataframe\">\n",
              "  <thead>\n",
              "    <tr style=\"text-align: right;\">\n",
              "      <th></th>\n",
              "      <th>0</th>\n",
              "      <th>1</th>\n",
              "      <th>2</th>\n",
              "      <th>3</th>\n",
              "      <th>4</th>\n",
              "      <th>5</th>\n",
              "      <th>6</th>\n",
              "      <th>7</th>\n",
              "    </tr>\n",
              "  </thead>\n",
              "  <tbody>\n",
              "    <tr>\n",
              "      <th>0</th>\n",
              "      <td>DATE</td>\n",
              "      <td>STORE_NBR</td>\n",
              "      <td>LYLTY_CARD_NBR</td>\n",
              "      <td>TXN_ID</td>\n",
              "      <td>PROD_NBR</td>\n",
              "      <td>PROD_NAME</td>\n",
              "      <td>PROD_QTY</td>\n",
              "      <td>TOT_SALES</td>\n",
              "    </tr>\n",
              "    <tr>\n",
              "      <th>1</th>\n",
              "      <td>43390</td>\n",
              "      <td>1</td>\n",
              "      <td>1000</td>\n",
              "      <td>1</td>\n",
              "      <td>5</td>\n",
              "      <td>Natural Chip        Compny SeaSalt175g</td>\n",
              "      <td>2</td>\n",
              "      <td>6</td>\n",
              "    </tr>\n",
              "    <tr>\n",
              "      <th>2</th>\n",
              "      <td>43599</td>\n",
              "      <td>1</td>\n",
              "      <td>1307</td>\n",
              "      <td>348</td>\n",
              "      <td>66</td>\n",
              "      <td>CCs Nacho Cheese    175g</td>\n",
              "      <td>3</td>\n",
              "      <td>6.3</td>\n",
              "    </tr>\n",
              "    <tr>\n",
              "      <th>3</th>\n",
              "      <td>43605</td>\n",
              "      <td>1</td>\n",
              "      <td>1343</td>\n",
              "      <td>383</td>\n",
              "      <td>61</td>\n",
              "      <td>Smiths Crinkle Cut  Chips Chicken 170g</td>\n",
              "      <td>2</td>\n",
              "      <td>2.9</td>\n",
              "    </tr>\n",
              "    <tr>\n",
              "      <th>4</th>\n",
              "      <td>43329</td>\n",
              "      <td>2</td>\n",
              "      <td>2373</td>\n",
              "      <td>974</td>\n",
              "      <td>69</td>\n",
              "      <td>Smiths Chip Thinly  S/Cream&amp;Onion 175g</td>\n",
              "      <td>5</td>\n",
              "      <td>15</td>\n",
              "    </tr>\n",
              "  </tbody>\n",
              "</table>\n",
              "</div>"
            ],
            "text/plain": [
              "       0          1  ...         6          7\n",
              "0   DATE  STORE_NBR  ...  PROD_QTY  TOT_SALES\n",
              "1  43390          1  ...         2          6\n",
              "2  43599          1  ...         3        6.3\n",
              "3  43605          1  ...         2        2.9\n",
              "4  43329          2  ...         5         15\n",
              "\n",
              "[5 rows x 8 columns]"
            ]
          },
          "metadata": {},
          "execution_count": 246
        }
      ]
    },
    {
      "cell_type": "code",
      "metadata": {
        "id": "4qRm-izGYgJd",
        "colab": {
          "base_uri": "https://localhost:8080/"
        },
        "outputId": "7a64e259-7f7f-47cc-fc55-0026f60eed1b"
      },
      "source": [
        "header_trans = ['DATE','STORE_NBR','LYLTY_CARD_NBR','TXN_ID','PROD_NBR',\n",
        "                'PROD_NAME', 'PROD_QTY','TOT_SALES']\n",
        "\n",
        "df_trans.drop(df_trans[[0]], axis = 0, inplace = True)\n",
        "df_trans.columns = header_trans\n",
        "df_trans.head()"
      ],
      "execution_count": null,
      "outputs": [
        {
          "output_type": "execute_result",
          "data": {
            "text/html": [
              "<div>\n",
              "<style scoped>\n",
              "    .dataframe tbody tr th:only-of-type {\n",
              "        vertical-align: middle;\n",
              "    }\n",
              "\n",
              "    .dataframe tbody tr th {\n",
              "        vertical-align: top;\n",
              "    }\n",
              "\n",
              "    .dataframe thead th {\n",
              "        text-align: right;\n",
              "    }\n",
              "</style>\n",
              "<table border=\"1\" class=\"dataframe\">\n",
              "  <thead>\n",
              "    <tr style=\"text-align: right;\">\n",
              "      <th></th>\n",
              "      <th>DATE</th>\n",
              "      <th>STORE_NBR</th>\n",
              "      <th>LYLTY_CARD_NBR</th>\n",
              "      <th>TXN_ID</th>\n",
              "      <th>PROD_NBR</th>\n",
              "      <th>PROD_NAME</th>\n",
              "      <th>PROD_QTY</th>\n",
              "      <th>TOT_SALES</th>\n",
              "    </tr>\n",
              "  </thead>\n",
              "  <tbody>\n",
              "    <tr>\n",
              "      <th>1</th>\n",
              "      <td>43390</td>\n",
              "      <td>1</td>\n",
              "      <td>1000</td>\n",
              "      <td>1</td>\n",
              "      <td>5</td>\n",
              "      <td>Natural Chip        Compny SeaSalt175g</td>\n",
              "      <td>2</td>\n",
              "      <td>6</td>\n",
              "    </tr>\n",
              "    <tr>\n",
              "      <th>2</th>\n",
              "      <td>43599</td>\n",
              "      <td>1</td>\n",
              "      <td>1307</td>\n",
              "      <td>348</td>\n",
              "      <td>66</td>\n",
              "      <td>CCs Nacho Cheese    175g</td>\n",
              "      <td>3</td>\n",
              "      <td>6.3</td>\n",
              "    </tr>\n",
              "    <tr>\n",
              "      <th>3</th>\n",
              "      <td>43605</td>\n",
              "      <td>1</td>\n",
              "      <td>1343</td>\n",
              "      <td>383</td>\n",
              "      <td>61</td>\n",
              "      <td>Smiths Crinkle Cut  Chips Chicken 170g</td>\n",
              "      <td>2</td>\n",
              "      <td>2.9</td>\n",
              "    </tr>\n",
              "    <tr>\n",
              "      <th>4</th>\n",
              "      <td>43329</td>\n",
              "      <td>2</td>\n",
              "      <td>2373</td>\n",
              "      <td>974</td>\n",
              "      <td>69</td>\n",
              "      <td>Smiths Chip Thinly  S/Cream&amp;Onion 175g</td>\n",
              "      <td>5</td>\n",
              "      <td>15</td>\n",
              "    </tr>\n",
              "    <tr>\n",
              "      <th>5</th>\n",
              "      <td>43330</td>\n",
              "      <td>2</td>\n",
              "      <td>2426</td>\n",
              "      <td>1038</td>\n",
              "      <td>108</td>\n",
              "      <td>Kettle Tortilla ChpsHny&amp;Jlpno Chili 150g</td>\n",
              "      <td>3</td>\n",
              "      <td>13.8</td>\n",
              "    </tr>\n",
              "  </tbody>\n",
              "</table>\n",
              "</div>"
            ],
            "text/plain": [
              "    DATE STORE_NBR  ... PROD_QTY TOT_SALES\n",
              "1  43390         1  ...        2         6\n",
              "2  43599         1  ...        3       6.3\n",
              "3  43605         1  ...        2       2.9\n",
              "4  43329         2  ...        5        15\n",
              "5  43330         2  ...        3      13.8\n",
              "\n",
              "[5 rows x 8 columns]"
            ]
          },
          "metadata": {},
          "execution_count": 247
        }
      ]
    },
    {
      "cell_type": "code",
      "metadata": {
        "id": "ehTnsxthc5Vq",
        "colab": {
          "base_uri": "https://localhost:8080/"
        },
        "outputId": "1872d50e-1eb6-4616-ea29-b6be3d3eb52a"
      },
      "source": [
        "df_trans.describe()"
      ],
      "execution_count": null,
      "outputs": [
        {
          "output_type": "execute_result",
          "data": {
            "text/html": [
              "<div>\n",
              "<style scoped>\n",
              "    .dataframe tbody tr th:only-of-type {\n",
              "        vertical-align: middle;\n",
              "    }\n",
              "\n",
              "    .dataframe tbody tr th {\n",
              "        vertical-align: top;\n",
              "    }\n",
              "\n",
              "    .dataframe thead th {\n",
              "        text-align: right;\n",
              "    }\n",
              "</style>\n",
              "<table border=\"1\" class=\"dataframe\">\n",
              "  <thead>\n",
              "    <tr style=\"text-align: right;\">\n",
              "      <th></th>\n",
              "      <th>DATE</th>\n",
              "      <th>STORE_NBR</th>\n",
              "      <th>LYLTY_CARD_NBR</th>\n",
              "      <th>TXN_ID</th>\n",
              "      <th>PROD_NBR</th>\n",
              "      <th>PROD_NAME</th>\n",
              "      <th>PROD_QTY</th>\n",
              "      <th>TOT_SALES</th>\n",
              "    </tr>\n",
              "  </thead>\n",
              "  <tbody>\n",
              "    <tr>\n",
              "      <th>count</th>\n",
              "      <td>264836</td>\n",
              "      <td>264836</td>\n",
              "      <td>264836</td>\n",
              "      <td>264836</td>\n",
              "      <td>264836</td>\n",
              "      <td>264836</td>\n",
              "      <td>264836</td>\n",
              "      <td>264836.0</td>\n",
              "    </tr>\n",
              "    <tr>\n",
              "      <th>unique</th>\n",
              "      <td>364</td>\n",
              "      <td>272</td>\n",
              "      <td>72637</td>\n",
              "      <td>263127</td>\n",
              "      <td>114</td>\n",
              "      <td>114</td>\n",
              "      <td>6</td>\n",
              "      <td>112.0</td>\n",
              "    </tr>\n",
              "    <tr>\n",
              "      <th>top</th>\n",
              "      <td>43458</td>\n",
              "      <td>226</td>\n",
              "      <td>172032</td>\n",
              "      <td>1162</td>\n",
              "      <td>102</td>\n",
              "      <td>Kettle Mozzarella   Basil &amp; Pesto 175g</td>\n",
              "      <td>2</td>\n",
              "      <td>9.2</td>\n",
              "    </tr>\n",
              "    <tr>\n",
              "      <th>freq</th>\n",
              "      <td>939</td>\n",
              "      <td>2022</td>\n",
              "      <td>18</td>\n",
              "      <td>3</td>\n",
              "      <td>3304</td>\n",
              "      <td>3304</td>\n",
              "      <td>236039</td>\n",
              "      <td>22821.0</td>\n",
              "    </tr>\n",
              "  </tbody>\n",
              "</table>\n",
              "</div>"
            ],
            "text/plain": [
              "          DATE  STORE_NBR  ...  PROD_QTY  TOT_SALES\n",
              "count   264836     264836  ...    264836   264836.0\n",
              "unique     364        272  ...         6      112.0\n",
              "top      43458        226  ...         2        9.2\n",
              "freq       939       2022  ...    236039    22821.0\n",
              "\n",
              "[4 rows x 8 columns]"
            ]
          },
          "metadata": {},
          "execution_count": 248
        }
      ]
    },
    {
      "cell_type": "code",
      "metadata": {
        "id": "cRwQGRnIzdID",
        "colab": {
          "base_uri": "https://localhost:8080/"
        },
        "outputId": "14573584-32f1-4b3f-a08d-298f8540a708"
      },
      "source": [
        "df_trans.dtypes"
      ],
      "execution_count": null,
      "outputs": [
        {
          "output_type": "execute_result",
          "data": {
            "text/plain": [
              "DATE              object\n",
              "STORE_NBR         object\n",
              "LYLTY_CARD_NBR    object\n",
              "TXN_ID            object\n",
              "PROD_NBR          object\n",
              "PROD_NAME         object\n",
              "PROD_QTY          object\n",
              "TOT_SALES         object\n",
              "dtype: object"
            ]
          },
          "metadata": {},
          "execution_count": 249
        }
      ]
    },
    {
      "cell_type": "code",
      "metadata": {
        "id": "Rf_CU21sd3Os"
      },
      "source": [
        "df_trans['DATE'] = df_trans['DATE'].astype(float)\n",
        "df_trans['STORE_NBR'] = df_trans['STORE_NBR'].astype(float)\n",
        "df_trans['LYLTY_CARD_NBR'] = df_trans['LYLTY_CARD_NBR'].astype(float)\n",
        "df_trans['TXN_ID'] = df_trans['TXN_ID'].astype(float)\n",
        "df_trans['PROD_NBR'] = df_trans['PROD_NBR'].astype(float)\n",
        "df_trans['PROD_QTY'] = df_trans['PROD_QTY'].astype(float)\n",
        "df_trans['TOT_SALES'] = df_trans['TOT_SALES'].astype(float)"
      ],
      "execution_count": null,
      "outputs": []
    },
    {
      "cell_type": "code",
      "metadata": {
        "id": "9xsqHpfDg29v",
        "colab": {
          "base_uri": "https://localhost:8080/"
        },
        "outputId": "da7f41dd-7808-4261-8b1a-14c293bad2ec"
      },
      "source": [
        "df_trans.dtypes"
      ],
      "execution_count": null,
      "outputs": [
        {
          "output_type": "execute_result",
          "data": {
            "text/plain": [
              "DATE              float64\n",
              "STORE_NBR         float64\n",
              "LYLTY_CARD_NBR    float64\n",
              "TXN_ID            float64\n",
              "PROD_NBR          float64\n",
              "PROD_NAME          object\n",
              "PROD_QTY          float64\n",
              "TOT_SALES         float64\n",
              "dtype: object"
            ]
          },
          "metadata": {},
          "execution_count": 251
        }
      ]
    },
    {
      "cell_type": "code",
      "metadata": {
        "id": "OTCA01rudbXX",
        "colab": {
          "base_uri": "https://localhost:8080/"
        },
        "outputId": "b148d593-2b40-4131-bf0c-0ffe2542f0a2"
      },
      "source": [
        "df_trans.isnull().sum().to_frame()"
      ],
      "execution_count": null,
      "outputs": [
        {
          "output_type": "execute_result",
          "data": {
            "text/html": [
              "<div>\n",
              "<style scoped>\n",
              "    .dataframe tbody tr th:only-of-type {\n",
              "        vertical-align: middle;\n",
              "    }\n",
              "\n",
              "    .dataframe tbody tr th {\n",
              "        vertical-align: top;\n",
              "    }\n",
              "\n",
              "    .dataframe thead th {\n",
              "        text-align: right;\n",
              "    }\n",
              "</style>\n",
              "<table border=\"1\" class=\"dataframe\">\n",
              "  <thead>\n",
              "    <tr style=\"text-align: right;\">\n",
              "      <th></th>\n",
              "      <th>0</th>\n",
              "    </tr>\n",
              "  </thead>\n",
              "  <tbody>\n",
              "    <tr>\n",
              "      <th>DATE</th>\n",
              "      <td>0</td>\n",
              "    </tr>\n",
              "    <tr>\n",
              "      <th>STORE_NBR</th>\n",
              "      <td>0</td>\n",
              "    </tr>\n",
              "    <tr>\n",
              "      <th>LYLTY_CARD_NBR</th>\n",
              "      <td>0</td>\n",
              "    </tr>\n",
              "    <tr>\n",
              "      <th>TXN_ID</th>\n",
              "      <td>0</td>\n",
              "    </tr>\n",
              "    <tr>\n",
              "      <th>PROD_NBR</th>\n",
              "      <td>0</td>\n",
              "    </tr>\n",
              "    <tr>\n",
              "      <th>PROD_NAME</th>\n",
              "      <td>0</td>\n",
              "    </tr>\n",
              "    <tr>\n",
              "      <th>PROD_QTY</th>\n",
              "      <td>0</td>\n",
              "    </tr>\n",
              "    <tr>\n",
              "      <th>TOT_SALES</th>\n",
              "      <td>0</td>\n",
              "    </tr>\n",
              "  </tbody>\n",
              "</table>\n",
              "</div>"
            ],
            "text/plain": [
              "                0\n",
              "DATE            0\n",
              "STORE_NBR       0\n",
              "LYLTY_CARD_NBR  0\n",
              "TXN_ID          0\n",
              "PROD_NBR        0\n",
              "PROD_NAME       0\n",
              "PROD_QTY        0\n",
              "TOT_SALES       0"
            ]
          },
          "metadata": {},
          "execution_count": 252
        }
      ]
    },
    {
      "cell_type": "code",
      "metadata": {
        "id": "ISR5NgXrg-Pi",
        "colab": {
          "base_uri": "https://localhost:8080/"
        },
        "outputId": "b285e48f-f51b-4e66-e08f-4c5f25c39c25"
      },
      "source": [
        "df_trans['TXN_ID'].nunique()"
      ],
      "execution_count": null,
      "outputs": [
        {
          "output_type": "execute_result",
          "data": {
            "text/plain": [
              "263127"
            ]
          },
          "metadata": {},
          "execution_count": 253
        }
      ]
    },
    {
      "cell_type": "code",
      "metadata": {
        "id": "7t-0u-pmhOJQ",
        "colab": {
          "base_uri": "https://localhost:8080/"
        },
        "outputId": "80835cd7-62da-4ff1-f726-c641f9f8dce4"
      },
      "source": [
        "df_trans[df_trans.duplicated(['TXN_ID'])].head()"
      ],
      "execution_count": null,
      "outputs": [
        {
          "output_type": "execute_result",
          "data": {
            "text/html": [
              "<div>\n",
              "<style scoped>\n",
              "    .dataframe tbody tr th:only-of-type {\n",
              "        vertical-align: middle;\n",
              "    }\n",
              "\n",
              "    .dataframe tbody tr th {\n",
              "        vertical-align: top;\n",
              "    }\n",
              "\n",
              "    .dataframe thead th {\n",
              "        text-align: right;\n",
              "    }\n",
              "</style>\n",
              "<table border=\"1\" class=\"dataframe\">\n",
              "  <thead>\n",
              "    <tr style=\"text-align: right;\">\n",
              "      <th></th>\n",
              "      <th>DATE</th>\n",
              "      <th>STORE_NBR</th>\n",
              "      <th>LYLTY_CARD_NBR</th>\n",
              "      <th>TXN_ID</th>\n",
              "      <th>PROD_NBR</th>\n",
              "      <th>PROD_NAME</th>\n",
              "      <th>PROD_QTY</th>\n",
              "      <th>TOT_SALES</th>\n",
              "    </tr>\n",
              "  </thead>\n",
              "  <tbody>\n",
              "    <tr>\n",
              "      <th>43</th>\n",
              "      <td>43605.0</td>\n",
              "      <td>55.0</td>\n",
              "      <td>55073.0</td>\n",
              "      <td>48887.0</td>\n",
              "      <td>113.0</td>\n",
              "      <td>Twisties Chicken270g</td>\n",
              "      <td>1.0</td>\n",
              "      <td>4.6</td>\n",
              "    </tr>\n",
              "    <tr>\n",
              "      <th>378</th>\n",
              "      <td>43475.0</td>\n",
              "      <td>7.0</td>\n",
              "      <td>7364.0</td>\n",
              "      <td>7739.0</td>\n",
              "      <td>20.0</td>\n",
              "      <td>Doritos Cheese      Supreme 330g</td>\n",
              "      <td>2.0</td>\n",
              "      <td>11.4</td>\n",
              "    </tr>\n",
              "    <tr>\n",
              "      <th>420</th>\n",
              "      <td>43391.0</td>\n",
              "      <td>12.0</td>\n",
              "      <td>12301.0</td>\n",
              "      <td>10982.0</td>\n",
              "      <td>93.0</td>\n",
              "      <td>Doritos Corn Chip Southern Chicken 150g</td>\n",
              "      <td>2.0</td>\n",
              "      <td>7.8</td>\n",
              "    </tr>\n",
              "    <tr>\n",
              "      <th>477</th>\n",
              "      <td>43351.0</td>\n",
              "      <td>16.0</td>\n",
              "      <td>16427.0</td>\n",
              "      <td>14546.0</td>\n",
              "      <td>81.0</td>\n",
              "      <td>Pringles Original   Crisps 134g</td>\n",
              "      <td>1.0</td>\n",
              "      <td>3.7</td>\n",
              "    </tr>\n",
              "    <tr>\n",
              "      <th>512</th>\n",
              "      <td>43315.0</td>\n",
              "      <td>19.0</td>\n",
              "      <td>19272.0</td>\n",
              "      <td>16683.0</td>\n",
              "      <td>31.0</td>\n",
              "      <td>Infzns Crn Crnchers Tangy Gcamole 110g</td>\n",
              "      <td>2.0</td>\n",
              "      <td>7.6</td>\n",
              "    </tr>\n",
              "  </tbody>\n",
              "</table>\n",
              "</div>"
            ],
            "text/plain": [
              "        DATE  STORE_NBR  ...  PROD_QTY  TOT_SALES\n",
              "43   43605.0       55.0  ...       1.0        4.6\n",
              "378  43475.0        7.0  ...       2.0       11.4\n",
              "420  43391.0       12.0  ...       2.0        7.8\n",
              "477  43351.0       16.0  ...       1.0        3.7\n",
              "512  43315.0       19.0  ...       2.0        7.6\n",
              "\n",
              "[5 rows x 8 columns]"
            ]
          },
          "metadata": {},
          "execution_count": 254
        }
      ]
    },
    {
      "cell_type": "code",
      "metadata": {
        "id": "e4g1Ku54iFwX",
        "colab": {
          "base_uri": "https://localhost:8080/"
        },
        "outputId": "b2cb0946-581f-4a1c-a9d8-b9a1d6b8548b"
      },
      "source": [
        "df_trans.loc[df_trans['TXN_ID']==7739, :]"
      ],
      "execution_count": null,
      "outputs": [
        {
          "output_type": "execute_result",
          "data": {
            "text/html": [
              "<div>\n",
              "<style scoped>\n",
              "    .dataframe tbody tr th:only-of-type {\n",
              "        vertical-align: middle;\n",
              "    }\n",
              "\n",
              "    .dataframe tbody tr th {\n",
              "        vertical-align: top;\n",
              "    }\n",
              "\n",
              "    .dataframe thead th {\n",
              "        text-align: right;\n",
              "    }\n",
              "</style>\n",
              "<table border=\"1\" class=\"dataframe\">\n",
              "  <thead>\n",
              "    <tr style=\"text-align: right;\">\n",
              "      <th></th>\n",
              "      <th>DATE</th>\n",
              "      <th>STORE_NBR</th>\n",
              "      <th>LYLTY_CARD_NBR</th>\n",
              "      <th>TXN_ID</th>\n",
              "      <th>PROD_NBR</th>\n",
              "      <th>PROD_NAME</th>\n",
              "      <th>PROD_QTY</th>\n",
              "      <th>TOT_SALES</th>\n",
              "    </tr>\n",
              "  </thead>\n",
              "  <tbody>\n",
              "    <tr>\n",
              "      <th>377</th>\n",
              "      <td>43475.0</td>\n",
              "      <td>7.0</td>\n",
              "      <td>7364.0</td>\n",
              "      <td>7739.0</td>\n",
              "      <td>50.0</td>\n",
              "      <td>Tostitos Lightly    Salted 175g</td>\n",
              "      <td>2.0</td>\n",
              "      <td>8.8</td>\n",
              "    </tr>\n",
              "    <tr>\n",
              "      <th>378</th>\n",
              "      <td>43475.0</td>\n",
              "      <td>7.0</td>\n",
              "      <td>7364.0</td>\n",
              "      <td>7739.0</td>\n",
              "      <td>20.0</td>\n",
              "      <td>Doritos Cheese      Supreme 330g</td>\n",
              "      <td>2.0</td>\n",
              "      <td>11.4</td>\n",
              "    </tr>\n",
              "  </tbody>\n",
              "</table>\n",
              "</div>"
            ],
            "text/plain": [
              "        DATE  STORE_NBR  ...  PROD_QTY  TOT_SALES\n",
              "377  43475.0        7.0  ...       2.0        8.8\n",
              "378  43475.0        7.0  ...       2.0       11.4\n",
              "\n",
              "[2 rows x 8 columns]"
            ]
          },
          "metadata": {},
          "execution_count": 255
        }
      ]
    },
    {
      "cell_type": "code",
      "metadata": {
        "id": "EH-Se2d4iqKt",
        "colab": {
          "base_uri": "https://localhost:8080/"
        },
        "outputId": "d0e0d12c-09da-465e-9407-7db4641fefbd"
      },
      "source": [
        "missingno.matrix(df_trans)"
      ],
      "execution_count": null,
      "outputs": [
        {
          "output_type": "execute_result",
          "data": {
            "text/plain": [
              "<matplotlib.axes._subplots.AxesSubplot at 0x7f99bcd76d10>"
            ]
          },
          "metadata": {},
          "execution_count": 256
        },
        {
          "output_type": "display_data",
          "data": {
            "image/png": "[encoded data removed]",
            "text/plain": [
              "<Figure size 1800x720 with 2 Axes>"
            ]
          },
          "metadata": {
            "needs_background": "light"
          }
        }
      ]
    },
    {
      "cell_type": "markdown",
      "metadata": {
        "id": "N9XB9z7S2Hqn"
      },
      "source": [
        "# Date is not in the right format\n",
        "#\n",
        " Apply function to Date feature in transactionData dataset\n"
      ]
    },
    {
      "cell_type": "code",
      "metadata": {
        "id": "SREAWO2xj_Yr"
      },
      "source": [
        "\n",
        "def xlseriesdate_to_datetime(xlserialdate):\n",
        "    excel_anchor = datetime.datetime(1900, 1, 1)\n",
        "    if(xlserialdate < 60):\n",
        "        delta_in_days = datetime.timedelta(days = (xlserialdate - 1))\n",
        "    else:\n",
        "        delta_in_days = datetime.timedelta(days = (xlserialdate - 2))\n",
        "    converted_date = excel_anchor + delta_in_days\n",
        "    return converted_date\n"
      ],
      "execution_count": null,
      "outputs": []
    },
    {
      "cell_type": "code",
      "metadata": {
        "id": "oMLJtwaEoTNl"
      },
      "source": [
        "\n",
        "df_trans['DATE'] = df_trans['DATE'].apply(xlseriesdate_to_datetime)"
      ],
      "execution_count": null,
      "outputs": []
    },
    {
      "cell_type": "code",
      "metadata": {
        "id": "-akMBLCWo1hH",
        "colab": {
          "base_uri": "https://localhost:8080/"
        },
        "outputId": "22abc84d-3dbc-40c5-f067-3b033de4f494"
      },
      "source": [
        "df_trans.head()"
      ],
      "execution_count": null,
      "outputs": [
        {
          "output_type": "execute_result",
          "data": {
            "text/html": [
              "<div>\n",
              "<style scoped>\n",
              "    .dataframe tbody tr th:only-of-type {\n",
              "        vertical-align: middle;\n",
              "    }\n",
              "\n",
              "    .dataframe tbody tr th {\n",
              "        vertical-align: top;\n",
              "    }\n",
              "\n",
              "    .dataframe thead th {\n",
              "        text-align: right;\n",
              "    }\n",
              "</style>\n",
              "<table border=\"1\" class=\"dataframe\">\n",
              "  <thead>\n",
              "    <tr style=\"text-align: right;\">\n",
              "      <th></th>\n",
              "      <th>DATE</th>\n",
              "      <th>STORE_NBR</th>\n",
              "      <th>LYLTY_CARD_NBR</th>\n",
              "      <th>TXN_ID</th>\n",
              "      <th>PROD_NBR</th>\n",
              "      <th>PROD_NAME</th>\n",
              "      <th>PROD_QTY</th>\n",
              "      <th>TOT_SALES</th>\n",
              "    </tr>\n",
              "  </thead>\n",
              "  <tbody>\n",
              "    <tr>\n",
              "      <th>1</th>\n",
              "      <td>2018-10-17</td>\n",
              "      <td>1.0</td>\n",
              "      <td>1000.0</td>\n",
              "      <td>1.0</td>\n",
              "      <td>5.0</td>\n",
              "      <td>Natural Chip        Compny SeaSalt175g</td>\n",
              "      <td>2.0</td>\n",
              "      <td>6.0</td>\n",
              "    </tr>\n",
              "    <tr>\n",
              "      <th>2</th>\n",
              "      <td>2019-05-14</td>\n",
              "      <td>1.0</td>\n",
              "      <td>1307.0</td>\n",
              "      <td>348.0</td>\n",
              "      <td>66.0</td>\n",
              "      <td>CCs Nacho Cheese    175g</td>\n",
              "      <td>3.0</td>\n",
              "      <td>6.3</td>\n",
              "    </tr>\n",
              "    <tr>\n",
              "      <th>3</th>\n",
              "      <td>2019-05-20</td>\n",
              "      <td>1.0</td>\n",
              "      <td>1343.0</td>\n",
              "      <td>383.0</td>\n",
              "      <td>61.0</td>\n",
              "      <td>Smiths Crinkle Cut  Chips Chicken 170g</td>\n",
              "      <td>2.0</td>\n",
              "      <td>2.9</td>\n",
              "    </tr>\n",
              "    <tr>\n",
              "      <th>4</th>\n",
              "      <td>2018-08-17</td>\n",
              "      <td>2.0</td>\n",
              "      <td>2373.0</td>\n",
              "      <td>974.0</td>\n",
              "      <td>69.0</td>\n",
              "      <td>Smiths Chip Thinly  S/Cream&amp;Onion 175g</td>\n",
              "      <td>5.0</td>\n",
              "      <td>15.0</td>\n",
              "    </tr>\n",
              "    <tr>\n",
              "      <th>5</th>\n",
              "      <td>2018-08-18</td>\n",
              "      <td>2.0</td>\n",
              "      <td>2426.0</td>\n",
              "      <td>1038.0</td>\n",
              "      <td>108.0</td>\n",
              "      <td>Kettle Tortilla ChpsHny&amp;Jlpno Chili 150g</td>\n",
              "      <td>3.0</td>\n",
              "      <td>13.8</td>\n",
              "    </tr>\n",
              "  </tbody>\n",
              "</table>\n",
              "</div>"
            ],
            "text/plain": [
              "        DATE  STORE_NBR  ...  PROD_QTY  TOT_SALES\n",
              "1 2018-10-17        1.0  ...       2.0        6.0\n",
              "2 2019-05-14        1.0  ...       3.0        6.3\n",
              "3 2019-05-20        1.0  ...       2.0        2.9\n",
              "4 2018-08-17        2.0  ...       5.0       15.0\n",
              "5 2018-08-18        2.0  ...       3.0       13.8\n",
              "\n",
              "[5 rows x 8 columns]"
            ]
          },
          "metadata": {},
          "execution_count": 259
        }
      ]
    },
    {
      "cell_type": "code",
      "metadata": {
        "id": "LRn9ADckpNH5",
        "colab": {
          "base_uri": "https://localhost:8080/"
        },
        "outputId": "de6d38bd-7d5e-4b54-820a-3147e1a5bf72"
      },
      "source": [
        "trans_date= df_trans.sort_values(['TOT_SALES'], ascending=False).groupby('DATE').head(10)\n",
        "top10_days = trans_date.head(10)\n",
        "print(top10_days.shape)\n",
        "top10_days.head()"
      ],
      "execution_count": null,
      "outputs": [
        {
          "output_type": "stream",
          "name": "stdout",
          "text": [
            "(10, 8)\n"
          ]
        },
        {
          "output_type": "execute_result",
          "data": {
            "text/html": [
              "<div>\n",
              "<style scoped>\n",
              "    .dataframe tbody tr th:only-of-type {\n",
              "        vertical-align: middle;\n",
              "    }\n",
              "\n",
              "    .dataframe tbody tr th {\n",
              "        vertical-align: top;\n",
              "    }\n",
              "\n",
              "    .dataframe thead th {\n",
              "        text-align: right;\n",
              "    }\n",
              "</style>\n",
              "<table border=\"1\" class=\"dataframe\">\n",
              "  <thead>\n",
              "    <tr style=\"text-align: right;\">\n",
              "      <th></th>\n",
              "      <th>DATE</th>\n",
              "      <th>STORE_NBR</th>\n",
              "      <th>LYLTY_CARD_NBR</th>\n",
              "      <th>TXN_ID</th>\n",
              "      <th>PROD_NBR</th>\n",
              "      <th>PROD_NAME</th>\n",
              "      <th>PROD_QTY</th>\n",
              "      <th>TOT_SALES</th>\n",
              "    </tr>\n",
              "  </thead>\n",
              "  <tbody>\n",
              "    <tr>\n",
              "      <th>69763</th>\n",
              "      <td>2018-08-19</td>\n",
              "      <td>226.0</td>\n",
              "      <td>226000.0</td>\n",
              "      <td>226201.0</td>\n",
              "      <td>4.0</td>\n",
              "      <td>Dorito Corn Chp     Supreme 380g</td>\n",
              "      <td>200.0</td>\n",
              "      <td>650.0</td>\n",
              "    </tr>\n",
              "    <tr>\n",
              "      <th>69764</th>\n",
              "      <td>2019-05-20</td>\n",
              "      <td>226.0</td>\n",
              "      <td>226000.0</td>\n",
              "      <td>226210.0</td>\n",
              "      <td>4.0</td>\n",
              "      <td>Dorito Corn Chp     Supreme 380g</td>\n",
              "      <td>200.0</td>\n",
              "      <td>650.0</td>\n",
              "    </tr>\n",
              "    <tr>\n",
              "      <th>69497</th>\n",
              "      <td>2018-08-15</td>\n",
              "      <td>49.0</td>\n",
              "      <td>49303.0</td>\n",
              "      <td>45789.0</td>\n",
              "      <td>14.0</td>\n",
              "      <td>Smiths Crnkle Chip  Orgnl Big Bag 380g</td>\n",
              "      <td>5.0</td>\n",
              "      <td>29.5</td>\n",
              "    </tr>\n",
              "    <tr>\n",
              "      <th>55559</th>\n",
              "      <td>2019-05-14</td>\n",
              "      <td>190.0</td>\n",
              "      <td>190113.0</td>\n",
              "      <td>190914.0</td>\n",
              "      <td>14.0</td>\n",
              "      <td>Smiths Crnkle Chip  Orgnl Big Bag 380g</td>\n",
              "      <td>5.0</td>\n",
              "      <td>29.5</td>\n",
              "    </tr>\n",
              "    <tr>\n",
              "      <th>171816</th>\n",
              "      <td>2018-08-17</td>\n",
              "      <td>24.0</td>\n",
              "      <td>24095.0</td>\n",
              "      <td>20797.0</td>\n",
              "      <td>14.0</td>\n",
              "      <td>Smiths Crnkle Chip  Orgnl Big Bag 380g</td>\n",
              "      <td>5.0</td>\n",
              "      <td>29.5</td>\n",
              "    </tr>\n",
              "  </tbody>\n",
              "</table>\n",
              "</div>"
            ],
            "text/plain": [
              "             DATE  STORE_NBR  ...  PROD_QTY  TOT_SALES\n",
              "69763  2018-08-19      226.0  ...     200.0      650.0\n",
              "69764  2019-05-20      226.0  ...     200.0      650.0\n",
              "69497  2018-08-15       49.0  ...       5.0       29.5\n",
              "55559  2019-05-14      190.0  ...       5.0       29.5\n",
              "171816 2018-08-17       24.0  ...       5.0       29.5\n",
              "\n",
              "[5 rows x 8 columns]"
            ]
          },
          "metadata": {},
          "execution_count": 260
        }
      ]
    },
    {
      "cell_type": "code",
      "metadata": {
        "id": "EWmnYi9i0wB0",
        "colab": {
          "base_uri": "https://localhost:8080/"
        },
        "outputId": "75c96768-b0b4-40b8-8953-9e964ea0746f"
      },
      "source": [
        "# Extract weights out of 'PROD_NAME'\n",
        "\n",
        "df_trans['PROD_SIZE'] = df_trans['PROD_NAME'].str.extract('(\\d+)')\n",
        "df_trans['PROD_SIZE'] = df_trans['PROD_SIZE'].astype(float)\n",
        "df_trans.head()"
      ],
      "execution_count": null,
      "outputs": [
        {
          "output_type": "execute_result",
          "data": {
            "text/html": [
              "<div>\n",
              "<style scoped>\n",
              "    .dataframe tbody tr th:only-of-type {\n",
              "        vertical-align: middle;\n",
              "    }\n",
              "\n",
              "    .dataframe tbody tr th {\n",
              "        vertical-align: top;\n",
              "    }\n",
              "\n",
              "    .dataframe thead th {\n",
              "        text-align: right;\n",
              "    }\n",
              "</style>\n",
              "<table border=\"1\" class=\"dataframe\">\n",
              "  <thead>\n",
              "    <tr style=\"text-align: right;\">\n",
              "      <th></th>\n",
              "      <th>DATE</th>\n",
              "      <th>STORE_NBR</th>\n",
              "      <th>LYLTY_CARD_NBR</th>\n",
              "      <th>TXN_ID</th>\n",
              "      <th>PROD_NBR</th>\n",
              "      <th>PROD_NAME</th>\n",
              "      <th>PROD_QTY</th>\n",
              "      <th>TOT_SALES</th>\n",
              "      <th>PROD_SIZE</th>\n",
              "    </tr>\n",
              "  </thead>\n",
              "  <tbody>\n",
              "    <tr>\n",
              "      <th>1</th>\n",
              "      <td>2018-10-17</td>\n",
              "      <td>1.0</td>\n",
              "      <td>1000.0</td>\n",
              "      <td>1.0</td>\n",
              "      <td>5.0</td>\n",
              "      <td>Natural Chip        Compny SeaSalt175g</td>\n",
              "      <td>2.0</td>\n",
              "      <td>6.0</td>\n",
              "      <td>175.0</td>\n",
              "    </tr>\n",
              "    <tr>\n",
              "      <th>2</th>\n",
              "      <td>2019-05-14</td>\n",
              "      <td>1.0</td>\n",
              "      <td>1307.0</td>\n",
              "      <td>348.0</td>\n",
              "      <td>66.0</td>\n",
              "      <td>CCs Nacho Cheese    175g</td>\n",
              "      <td>3.0</td>\n",
              "      <td>6.3</td>\n",
              "      <td>175.0</td>\n",
              "    </tr>\n",
              "    <tr>\n",
              "      <th>3</th>\n",
              "      <td>2019-05-20</td>\n",
              "      <td>1.0</td>\n",
              "      <td>1343.0</td>\n",
              "      <td>383.0</td>\n",
              "      <td>61.0</td>\n",
              "      <td>Smiths Crinkle Cut  Chips Chicken 170g</td>\n",
              "      <td>2.0</td>\n",
              "      <td>2.9</td>\n",
              "      <td>170.0</td>\n",
              "    </tr>\n",
              "    <tr>\n",
              "      <th>4</th>\n",
              "      <td>2018-08-17</td>\n",
              "      <td>2.0</td>\n",
              "      <td>2373.0</td>\n",
              "      <td>974.0</td>\n",
              "      <td>69.0</td>\n",
              "      <td>Smiths Chip Thinly  S/Cream&amp;Onion 175g</td>\n",
              "      <td>5.0</td>\n",
              "      <td>15.0</td>\n",
              "      <td>175.0</td>\n",
              "    </tr>\n",
              "    <tr>\n",
              "      <th>5</th>\n",
              "      <td>2018-08-18</td>\n",
              "      <td>2.0</td>\n",
              "      <td>2426.0</td>\n",
              "      <td>1038.0</td>\n",
              "      <td>108.0</td>\n",
              "      <td>Kettle Tortilla ChpsHny&amp;Jlpno Chili 150g</td>\n",
              "      <td>3.0</td>\n",
              "      <td>13.8</td>\n",
              "      <td>150.0</td>\n",
              "    </tr>\n",
              "  </tbody>\n",
              "</table>\n",
              "</div>"
            ],
            "text/plain": [
              "        DATE  STORE_NBR  LYLTY_CARD_NBR  ...  PROD_QTY  TOT_SALES PROD_SIZE\n",
              "1 2018-10-17        1.0          1000.0  ...       2.0        6.0     175.0\n",
              "2 2019-05-14        1.0          1307.0  ...       3.0        6.3     175.0\n",
              "3 2019-05-20        1.0          1343.0  ...       2.0        2.9     170.0\n",
              "4 2018-08-17        2.0          2373.0  ...       5.0       15.0     175.0\n",
              "5 2018-08-18        2.0          2426.0  ...       3.0       13.8     150.0\n",
              "\n",
              "[5 rows x 9 columns]"
            ]
          },
          "metadata": {},
          "execution_count": 261
        }
      ]
    },
    {
      "cell_type": "code",
      "metadata": {
        "id": "z92SpBDs18hB"
      },
      "source": [
        "# Create text cleaning function for PROD_NAME feature\n",
        "\n",
        "def clean_text (text):\n",
        "    text = re.sub('[&/]','',text)\n",
        "    text = re.sub('d\\w','',text)\n",
        "    return text"
      ],
      "execution_count": null,
      "outputs": []
    },
    {
      "cell_type": "code",
      "metadata": {
        "id": "O6DI9E7V1vjO",
        "colab": {
          "base_uri": "https://localhost:8080/"
        },
        "outputId": "ca880e1c-8a21-46b4-f693-4a5e4f196ee3"
      },
      "source": [
        "df_trans['PROD_NAME'] = df_trans['PROD_NAME'].apply(clean_text)\n",
        "df_trans.head()"
      ],
      "execution_count": null,
      "outputs": [
        {
          "output_type": "execute_result",
          "data": {
            "text/html": [
              "<div>\n",
              "<style scoped>\n",
              "    .dataframe tbody tr th:only-of-type {\n",
              "        vertical-align: middle;\n",
              "    }\n",
              "\n",
              "    .dataframe tbody tr th {\n",
              "        vertical-align: top;\n",
              "    }\n",
              "\n",
              "    .dataframe thead th {\n",
              "        text-align: right;\n",
              "    }\n",
              "</style>\n",
              "<table border=\"1\" class=\"dataframe\">\n",
              "  <thead>\n",
              "    <tr style=\"text-align: right;\">\n",
              "      <th></th>\n",
              "      <th>DATE</th>\n",
              "      <th>STORE_NBR</th>\n",
              "      <th>LYLTY_CARD_NBR</th>\n",
              "      <th>TXN_ID</th>\n",
              "      <th>PROD_NBR</th>\n",
              "      <th>PROD_NAME</th>\n",
              "      <th>PROD_QTY</th>\n",
              "      <th>TOT_SALES</th>\n",
              "      <th>PROD_SIZE</th>\n",
              "    </tr>\n",
              "  </thead>\n",
              "  <tbody>\n",
              "    <tr>\n",
              "      <th>1</th>\n",
              "      <td>2018-10-17</td>\n",
              "      <td>1.0</td>\n",
              "      <td>1000.0</td>\n",
              "      <td>1.0</td>\n",
              "      <td>5.0</td>\n",
              "      <td>Natural Chip        Compny SeaSalt175g</td>\n",
              "      <td>2.0</td>\n",
              "      <td>6.0</td>\n",
              "      <td>175.0</td>\n",
              "    </tr>\n",
              "    <tr>\n",
              "      <th>2</th>\n",
              "      <td>2019-05-14</td>\n",
              "      <td>1.0</td>\n",
              "      <td>1307.0</td>\n",
              "      <td>348.0</td>\n",
              "      <td>66.0</td>\n",
              "      <td>CCs Nacho Cheese    175g</td>\n",
              "      <td>3.0</td>\n",
              "      <td>6.3</td>\n",
              "      <td>175.0</td>\n",
              "    </tr>\n",
              "    <tr>\n",
              "      <th>3</th>\n",
              "      <td>2019-05-20</td>\n",
              "      <td>1.0</td>\n",
              "      <td>1343.0</td>\n",
              "      <td>383.0</td>\n",
              "      <td>61.0</td>\n",
              "      <td>Smiths Crinkle Cut  Chips Chicken 170g</td>\n",
              "      <td>2.0</td>\n",
              "      <td>2.9</td>\n",
              "      <td>170.0</td>\n",
              "    </tr>\n",
              "    <tr>\n",
              "      <th>4</th>\n",
              "      <td>2018-08-17</td>\n",
              "      <td>2.0</td>\n",
              "      <td>2373.0</td>\n",
              "      <td>974.0</td>\n",
              "      <td>69.0</td>\n",
              "      <td>Smiths Chip Thinly  SCreamOnion 175g</td>\n",
              "      <td>5.0</td>\n",
              "      <td>15.0</td>\n",
              "      <td>175.0</td>\n",
              "    </tr>\n",
              "    <tr>\n",
              "      <th>5</th>\n",
              "      <td>2018-08-18</td>\n",
              "      <td>2.0</td>\n",
              "      <td>2426.0</td>\n",
              "      <td>1038.0</td>\n",
              "      <td>108.0</td>\n",
              "      <td>Kettle Tortilla ChpsHnyJlpno Chili 150g</td>\n",
              "      <td>3.0</td>\n",
              "      <td>13.8</td>\n",
              "      <td>150.0</td>\n",
              "    </tr>\n",
              "  </tbody>\n",
              "</table>\n",
              "</div>"
            ],
            "text/plain": [
              "        DATE  STORE_NBR  LYLTY_CARD_NBR  ...  PROD_QTY  TOT_SALES PROD_SIZE\n",
              "1 2018-10-17        1.0          1000.0  ...       2.0        6.0     175.0\n",
              "2 2019-05-14        1.0          1307.0  ...       3.0        6.3     175.0\n",
              "3 2019-05-20        1.0          1343.0  ...       2.0        2.9     170.0\n",
              "4 2018-08-17        2.0          2373.0  ...       5.0       15.0     175.0\n",
              "5 2018-08-18        2.0          2426.0  ...       3.0       13.8     150.0\n",
              "\n",
              "[5 rows x 9 columns]"
            ]
          },
          "metadata": {},
          "execution_count": 263
        }
      ]
    },
    {
      "cell_type": "markdown",
      "metadata": {
        "id": "7EKx_NAi3gnX"
      },
      "source": [
        "\n",
        "# anlysis of Value counts of PROD_QTY"
      ]
    },
    {
      "cell_type": "code",
      "metadata": {
        "id": "eVSERKs3300d",
        "colab": {
          "base_uri": "https://localhost:8080/"
        },
        "outputId": "2601d6a1-9f87-4b5c-d6e3-0238c6c3a461"
      },
      "source": [
        "df_trans['PROD_QTY'].value_counts().to_frame()"
      ],
      "execution_count": null,
      "outputs": [
        {
          "output_type": "execute_result",
          "data": {
            "text/html": [
              "<div>\n",
              "<style scoped>\n",
              "    .dataframe tbody tr th:only-of-type {\n",
              "        vertical-align: middle;\n",
              "    }\n",
              "\n",
              "    .dataframe tbody tr th {\n",
              "        vertical-align: top;\n",
              "    }\n",
              "\n",
              "    .dataframe thead th {\n",
              "        text-align: right;\n",
              "    }\n",
              "</style>\n",
              "<table border=\"1\" class=\"dataframe\">\n",
              "  <thead>\n",
              "    <tr style=\"text-align: right;\">\n",
              "      <th></th>\n",
              "      <th>PROD_QTY</th>\n",
              "    </tr>\n",
              "  </thead>\n",
              "  <tbody>\n",
              "    <tr>\n",
              "      <th>2.0</th>\n",
              "      <td>236039</td>\n",
              "    </tr>\n",
              "    <tr>\n",
              "      <th>1.0</th>\n",
              "      <td>27518</td>\n",
              "    </tr>\n",
              "    <tr>\n",
              "      <th>5.0</th>\n",
              "      <td>450</td>\n",
              "    </tr>\n",
              "    <tr>\n",
              "      <th>3.0</th>\n",
              "      <td>430</td>\n",
              "    </tr>\n",
              "    <tr>\n",
              "      <th>4.0</th>\n",
              "      <td>397</td>\n",
              "    </tr>\n",
              "    <tr>\n",
              "      <th>200.0</th>\n",
              "      <td>2</td>\n",
              "    </tr>\n",
              "  </tbody>\n",
              "</table>\n",
              "</div>"
            ],
            "text/plain": [
              "       PROD_QTY\n",
              "2.0      236039\n",
              "1.0       27518\n",
              "5.0         450\n",
              "3.0         430\n",
              "4.0         397\n",
              "200.0         2"
            ]
          },
          "metadata": {},
          "execution_count": 264
        }
      ]
    },
    {
      "cell_type": "code",
      "metadata": {
        "id": "0nLcEANs5JYQ",
        "colab": {
          "base_uri": "https://localhost:8080/"
        },
        "outputId": "cd21b74b-44af-47da-d2af-6c16a30e4208"
      },
      "source": [
        "df_trans.loc[df_trans['PROD_QTY'] == 200, :]"
      ],
      "execution_count": null,
      "outputs": [
        {
          "output_type": "execute_result",
          "data": {
            "text/html": [
              "<div>\n",
              "<style scoped>\n",
              "    .dataframe tbody tr th:only-of-type {\n",
              "        vertical-align: middle;\n",
              "    }\n",
              "\n",
              "    .dataframe tbody tr th {\n",
              "        vertical-align: top;\n",
              "    }\n",
              "\n",
              "    .dataframe thead th {\n",
              "        text-align: right;\n",
              "    }\n",
              "</style>\n",
              "<table border=\"1\" class=\"dataframe\">\n",
              "  <thead>\n",
              "    <tr style=\"text-align: right;\">\n",
              "      <th></th>\n",
              "      <th>DATE</th>\n",
              "      <th>STORE_NBR</th>\n",
              "      <th>LYLTY_CARD_NBR</th>\n",
              "      <th>TXN_ID</th>\n",
              "      <th>PROD_NBR</th>\n",
              "      <th>PROD_NAME</th>\n",
              "      <th>PROD_QTY</th>\n",
              "      <th>TOT_SALES</th>\n",
              "      <th>PROD_SIZE</th>\n",
              "    </tr>\n",
              "  </thead>\n",
              "  <tbody>\n",
              "    <tr>\n",
              "      <th>69763</th>\n",
              "      <td>2018-08-19</td>\n",
              "      <td>226.0</td>\n",
              "      <td>226000.0</td>\n",
              "      <td>226201.0</td>\n",
              "      <td>4.0</td>\n",
              "      <td>Dorito Corn Chp     Supreme 380g</td>\n",
              "      <td>200.0</td>\n",
              "      <td>650.0</td>\n",
              "      <td>380.0</td>\n",
              "    </tr>\n",
              "    <tr>\n",
              "      <th>69764</th>\n",
              "      <td>2019-05-20</td>\n",
              "      <td>226.0</td>\n",
              "      <td>226000.0</td>\n",
              "      <td>226210.0</td>\n",
              "      <td>4.0</td>\n",
              "      <td>Dorito Corn Chp     Supreme 380g</td>\n",
              "      <td>200.0</td>\n",
              "      <td>650.0</td>\n",
              "      <td>380.0</td>\n",
              "    </tr>\n",
              "  </tbody>\n",
              "</table>\n",
              "</div>"
            ],
            "text/plain": [
              "            DATE  STORE_NBR  LYLTY_CARD_NBR  ...  PROD_QTY  TOT_SALES PROD_SIZE\n",
              "69763 2018-08-19      226.0        226000.0  ...     200.0      650.0     380.0\n",
              "69764 2019-05-20      226.0        226000.0  ...     200.0      650.0     380.0\n",
              "\n",
              "[2 rows x 9 columns]"
            ]
          },
          "metadata": {},
          "execution_count": 265
        }
      ]
    },
    {
      "cell_type": "code",
      "metadata": {
        "id": "QRCZAV0R6UeW",
        "colab": {
          "base_uri": "https://localhost:8080/"
        },
        "outputId": "0f423a90-1a91-4983-cfbd-84d4b825b853"
      },
      "source": [
        "df_trans.loc[df_trans['LYLTY_CARD_NBR'] == 226000, :]"
      ],
      "execution_count": null,
      "outputs": [
        {
          "output_type": "execute_result",
          "data": {
            "text/html": [
              "<div>\n",
              "<style scoped>\n",
              "    .dataframe tbody tr th:only-of-type {\n",
              "        vertical-align: middle;\n",
              "    }\n",
              "\n",
              "    .dataframe tbody tr th {\n",
              "        vertical-align: top;\n",
              "    }\n",
              "\n",
              "    .dataframe thead th {\n",
              "        text-align: right;\n",
              "    }\n",
              "</style>\n",
              "<table border=\"1\" class=\"dataframe\">\n",
              "  <thead>\n",
              "    <tr style=\"text-align: right;\">\n",
              "      <th></th>\n",
              "      <th>DATE</th>\n",
              "      <th>STORE_NBR</th>\n",
              "      <th>LYLTY_CARD_NBR</th>\n",
              "      <th>TXN_ID</th>\n",
              "      <th>PROD_NBR</th>\n",
              "      <th>PROD_NAME</th>\n",
              "      <th>PROD_QTY</th>\n",
              "      <th>TOT_SALES</th>\n",
              "      <th>PROD_SIZE</th>\n",
              "    </tr>\n",
              "  </thead>\n",
              "  <tbody>\n",
              "    <tr>\n",
              "      <th>69763</th>\n",
              "      <td>2018-08-19</td>\n",
              "      <td>226.0</td>\n",
              "      <td>226000.0</td>\n",
              "      <td>226201.0</td>\n",
              "      <td>4.0</td>\n",
              "      <td>Dorito Corn Chp     Supreme 380g</td>\n",
              "      <td>200.0</td>\n",
              "      <td>650.0</td>\n",
              "      <td>380.0</td>\n",
              "    </tr>\n",
              "    <tr>\n",
              "      <th>69764</th>\n",
              "      <td>2019-05-20</td>\n",
              "      <td>226.0</td>\n",
              "      <td>226000.0</td>\n",
              "      <td>226210.0</td>\n",
              "      <td>4.0</td>\n",
              "      <td>Dorito Corn Chp     Supreme 380g</td>\n",
              "      <td>200.0</td>\n",
              "      <td>650.0</td>\n",
              "      <td>380.0</td>\n",
              "    </tr>\n",
              "  </tbody>\n",
              "</table>\n",
              "</div>"
            ],
            "text/plain": [
              "            DATE  STORE_NBR  LYLTY_CARD_NBR  ...  PROD_QTY  TOT_SALES PROD_SIZE\n",
              "69763 2018-08-19      226.0        226000.0  ...     200.0      650.0     380.0\n",
              "69764 2019-05-20      226.0        226000.0  ...     200.0      650.0     380.0\n",
              "\n",
              "[2 rows x 9 columns]"
            ]
          },
          "metadata": {},
          "execution_count": 266
        }
      ]
    },
    {
      "cell_type": "code",
      "metadata": {
        "id": "BJYaJ4G75zgW"
      },
      "source": [
        "df_trans.drop(df_trans.index[df_trans['PROD_QTY'] == 20], inplace = True)\n",
        "df_trans.drop(df_trans.index[df_trans['LYLTY_CARD_NBR'] == 226000], inplace = True)"
      ],
      "execution_count": null,
      "outputs": []
    },
    {
      "cell_type": "code",
      "metadata": {
        "id": "vZICsYVl7ZNy",
        "colab": {
          "base_uri": "https://localhost:8080/"
        },
        "outputId": "0fdc7ea8-2a2d-4f09-b912-a1e2f1c4c019"
      },
      "source": [
        "df_trans['DATE'].nunique()"
      ],
      "execution_count": null,
      "outputs": [
        {
          "output_type": "execute_result",
          "data": {
            "text/plain": [
              "364"
            ]
          },
          "metadata": {},
          "execution_count": 268
        }
      ]
    },
    {
      "cell_type": "markdown",
      "metadata": {
        "id": "f3SCgrul1xVI"
      },
      "source": [
        "# sales_per_day"
      ]
    },
    {
      "cell_type": "code",
      "metadata": {
        "id": "tsebDBkh7y0A",
        "colab": {
          "base_uri": "https://localhost:8080/"
        },
        "outputId": "b3ae1f4a-6c50-4a33-c974-c49806e4e243"
      },
      "source": [
        "pd.date_range(start = '2018-07-01', end = '2019-06-30').difference(df_trans['DATE'])"
      ],
      "execution_count": null,
      "outputs": [
        {
          "output_type": "execute_result",
          "data": {
            "text/plain": [
              "DatetimeIndex(['2018-12-25'], dtype='datetime64[ns]', freq=None)"
            ]
          },
          "metadata": {},
          "execution_count": 269
        }
      ]
    },
    {
      "cell_type": "code",
      "metadata": {
        "id": "Kk2mbD6X9zLm",
        "colab": {
          "base_uri": "https://localhost:8080/"
        },
        "outputId": "1ce86e41-d565-4df3-d4e1-055dad97381e"
      },
      "source": [
        "sales = df_trans.groupby('DATE')['TOT_SALES'].sum().to_frame()\n",
        "print(sales.shape)\n",
        "sales.head()"
      ],
      "execution_count": null,
      "outputs": [
        {
          "output_type": "stream",
          "name": "stdout",
          "text": [
            "(364, 1)\n"
          ]
        },
        {
          "output_type": "execute_result",
          "data": {
            "text/html": [
              "<div>\n",
              "<style scoped>\n",
              "    .dataframe tbody tr th:only-of-type {\n",
              "        vertical-align: middle;\n",
              "    }\n",
              "\n",
              "    .dataframe tbody tr th {\n",
              "        vertical-align: top;\n",
              "    }\n",
              "\n",
              "    .dataframe thead th {\n",
              "        text-align: right;\n",
              "    }\n",
              "</style>\n",
              "<table border=\"1\" class=\"dataframe\">\n",
              "  <thead>\n",
              "    <tr style=\"text-align: right;\">\n",
              "      <th></th>\n",
              "      <th>TOT_SALES</th>\n",
              "    </tr>\n",
              "    <tr>\n",
              "      <th>DATE</th>\n",
              "      <th></th>\n",
              "    </tr>\n",
              "  </thead>\n",
              "  <tbody>\n",
              "    <tr>\n",
              "      <th>2018-07-01</th>\n",
              "      <td>5372.2</td>\n",
              "    </tr>\n",
              "    <tr>\n",
              "      <th>2018-07-02</th>\n",
              "      <td>5315.4</td>\n",
              "    </tr>\n",
              "    <tr>\n",
              "      <th>2018-07-03</th>\n",
              "      <td>5321.8</td>\n",
              "    </tr>\n",
              "    <tr>\n",
              "      <th>2018-07-04</th>\n",
              "      <td>5309.9</td>\n",
              "    </tr>\n",
              "    <tr>\n",
              "      <th>2018-07-05</th>\n",
              "      <td>5080.9</td>\n",
              "    </tr>\n",
              "  </tbody>\n",
              "</table>\n",
              "</div>"
            ],
            "text/plain": [
              "            TOT_SALES\n",
              "DATE                 \n",
              "2018-07-01     5372.2\n",
              "2018-07-02     5315.4\n",
              "2018-07-03     5321.8\n",
              "2018-07-04     5309.9\n",
              "2018-07-05     5080.9"
            ]
          },
          "metadata": {},
          "execution_count": 270
        }
      ]
    },
    {
      "cell_type": "code",
      "metadata": {
        "id": "tjZQI7rI_lNE",
        "colab": {
          "base_uri": "https://localhost:8080/"
        },
        "outputId": "2d53b161-fcc4-491a-f41a-07f03f79c4c3"
      },
      "source": [
        "day = pd.DataFrame(index = pd.date_range(start = '2018-07-01', end= '2019-06-30'))\n",
        "day['TOT_SALES'] = 0\n",
        "day.head()"
      ],
      "execution_count": null,
      "outputs": [
        {
          "output_type": "execute_result",
          "data": {
            "text/html": [
              "<div>\n",
              "<style scoped>\n",
              "    .dataframe tbody tr th:only-of-type {\n",
              "        vertical-align: middle;\n",
              "    }\n",
              "\n",
              "    .dataframe tbody tr th {\n",
              "        vertical-align: top;\n",
              "    }\n",
              "\n",
              "    .dataframe thead th {\n",
              "        text-align: right;\n",
              "    }\n",
              "</style>\n",
              "<table border=\"1\" class=\"dataframe\">\n",
              "  <thead>\n",
              "    <tr style=\"text-align: right;\">\n",
              "      <th></th>\n",
              "      <th>TOT_SALES</th>\n",
              "    </tr>\n",
              "  </thead>\n",
              "  <tbody>\n",
              "    <tr>\n",
              "      <th>2018-07-01</th>\n",
              "      <td>0</td>\n",
              "    </tr>\n",
              "    <tr>\n",
              "      <th>2018-07-02</th>\n",
              "      <td>0</td>\n",
              "    </tr>\n",
              "    <tr>\n",
              "      <th>2018-07-03</th>\n",
              "      <td>0</td>\n",
              "    </tr>\n",
              "    <tr>\n",
              "      <th>2018-07-04</th>\n",
              "      <td>0</td>\n",
              "    </tr>\n",
              "    <tr>\n",
              "      <th>2018-07-05</th>\n",
              "      <td>0</td>\n",
              "    </tr>\n",
              "  </tbody>\n",
              "</table>\n",
              "</div>"
            ],
            "text/plain": [
              "            TOT_SALES\n",
              "2018-07-01          0\n",
              "2018-07-02          0\n",
              "2018-07-03          0\n",
              "2018-07-04          0\n",
              "2018-07-05          0"
            ]
          },
          "metadata": {},
          "execution_count": 271
        }
      ]
    },
    {
      "cell_type": "code",
      "metadata": {
        "id": "TXHXrNzqAMiU",
        "colab": {
          "base_uri": "https://localhost:8080/"
        },
        "outputId": "c059ca17-ebf4-4117-94b2-0e7f31d108d1"
      },
      "source": [
        "sales_per_day = sales + day\n",
        "sales_per_day.fillna(0, inplace=True)\n",
        "sales_per_day.head()"
      ],
      "execution_count": null,
      "outputs": [
        {
          "output_type": "execute_result",
          "data": {
            "text/html": [
              "<div>\n",
              "<style scoped>\n",
              "    .dataframe tbody tr th:only-of-type {\n",
              "        vertical-align: middle;\n",
              "    }\n",
              "\n",
              "    .dataframe tbody tr th {\n",
              "        vertical-align: top;\n",
              "    }\n",
              "\n",
              "    .dataframe thead th {\n",
              "        text-align: right;\n",
              "    }\n",
              "</style>\n",
              "<table border=\"1\" class=\"dataframe\">\n",
              "  <thead>\n",
              "    <tr style=\"text-align: right;\">\n",
              "      <th></th>\n",
              "      <th>TOT_SALES</th>\n",
              "    </tr>\n",
              "  </thead>\n",
              "  <tbody>\n",
              "    <tr>\n",
              "      <th>2018-07-01</th>\n",
              "      <td>5372.2</td>\n",
              "    </tr>\n",
              "    <tr>\n",
              "      <th>2018-07-02</th>\n",
              "      <td>5315.4</td>\n",
              "    </tr>\n",
              "    <tr>\n",
              "      <th>2018-07-03</th>\n",
              "      <td>5321.8</td>\n",
              "    </tr>\n",
              "    <tr>\n",
              "      <th>2018-07-04</th>\n",
              "      <td>5309.9</td>\n",
              "    </tr>\n",
              "    <tr>\n",
              "      <th>2018-07-05</th>\n",
              "      <td>5080.9</td>\n",
              "    </tr>\n",
              "  </tbody>\n",
              "</table>\n",
              "</div>"
            ],
            "text/plain": [
              "            TOT_SALES\n",
              "2018-07-01     5372.2\n",
              "2018-07-02     5315.4\n",
              "2018-07-03     5321.8\n",
              "2018-07-04     5309.9\n",
              "2018-07-05     5080.9"
            ]
          },
          "metadata": {},
          "execution_count": 272
        }
      ]
    },
    {
      "cell_type": "code",
      "metadata": {
        "id": "lQhcNd6PEbvo",
        "colab": {
          "base_uri": "https://localhost:8080/"
        },
        "outputId": "f1f88a6d-1ee9-4508-d34c-28cbe27be460"
      },
      "source": [
        "sales_per_day.index.name = 'Date'\n",
        "sales_per_day.rename(columns = {'TOT_SALES': 'Total Sales'}, inplace = True)\n",
        "sales_per_day.head()\n"
      ],
      "execution_count": null,
      "outputs": [
        {
          "output_type": "execute_result",
          "data": {
            "text/html": [
              "<div>\n",
              "<style scoped>\n",
              "    .dataframe tbody tr th:only-of-type {\n",
              "        vertical-align: middle;\n",
              "    }\n",
              "\n",
              "    .dataframe tbody tr th {\n",
              "        vertical-align: top;\n",
              "    }\n",
              "\n",
              "    .dataframe thead th {\n",
              "        text-align: right;\n",
              "    }\n",
              "</style>\n",
              "<table border=\"1\" class=\"dataframe\">\n",
              "  <thead>\n",
              "    <tr style=\"text-align: right;\">\n",
              "      <th></th>\n",
              "      <th>Total Sales</th>\n",
              "    </tr>\n",
              "    <tr>\n",
              "      <th>Date</th>\n",
              "      <th></th>\n",
              "    </tr>\n",
              "  </thead>\n",
              "  <tbody>\n",
              "    <tr>\n",
              "      <th>2018-07-01</th>\n",
              "      <td>5372.2</td>\n",
              "    </tr>\n",
              "    <tr>\n",
              "      <th>2018-07-02</th>\n",
              "      <td>5315.4</td>\n",
              "    </tr>\n",
              "    <tr>\n",
              "      <th>2018-07-03</th>\n",
              "      <td>5321.8</td>\n",
              "    </tr>\n",
              "    <tr>\n",
              "      <th>2018-07-04</th>\n",
              "      <td>5309.9</td>\n",
              "    </tr>\n",
              "    <tr>\n",
              "      <th>2018-07-05</th>\n",
              "      <td>5080.9</td>\n",
              "    </tr>\n",
              "  </tbody>\n",
              "</table>\n",
              "</div>"
            ],
            "text/plain": [
              "            Total Sales\n",
              "Date                   \n",
              "2018-07-01       5372.2\n",
              "2018-07-02       5315.4\n",
              "2018-07-03       5321.8\n",
              "2018-07-04       5309.9\n",
              "2018-07-05       5080.9"
            ]
          },
          "metadata": {},
          "execution_count": 273
        }
      ]
    },
    {
      "cell_type": "code",
      "metadata": {
        "id": "n19FueNOEnvt",
        "colab": {
          "base_uri": "https://localhost:8080/"
        },
        "outputId": "b8b62aa9-b801-4545-8cde-3762e112d920"
      },
      "source": [
        "timeline = sales_per_day.index\n",
        "graph = sales_per_day['Total Sales']\n",
        "\n",
        "fig, ax = plt.subplots(figsize = (10, 5))\n",
        "ax.plot(timeline, graph)\n",
        "\n",
        "date_form = DateFormatter(\"%Y-%m\")\n",
        "ax.xaxis.set_major_formatter(date_form)\n",
        "plt.title('Total Sales from July 2018 to June 2019')\n",
        "plt.xlabel('Time')\n",
        "plt.ylabel('Total Sales')\n",
        "\n",
        "plt.show()"
      ],
      "execution_count": null,
      "outputs": [
        {
          "output_type": "display_data",
          "data": {
            "image/png": "[encoded data removed]",
            "text/plain": [
              "<Figure size 720x360 with 1 Axes>"
            ]
          },
          "metadata": {
            "needs_background": "light"
          }
        }
      ]
    },
    {
      "cell_type": "code",
      "metadata": {
        "id": "fbRFoPDsFCd1",
        "colab": {
          "base_uri": "https://localhost:8080/"
        },
        "outputId": "63ec05b9-4de3-4de6-ab95-cb8d13efd466"
      },
      "source": [
        "sales_per_day[sales_per_day['Total Sales']==0].head()"
      ],
      "execution_count": null,
      "outputs": [
        {
          "output_type": "execute_result",
          "data": {
            "text/html": [
              "<div>\n",
              "<style scoped>\n",
              "    .dataframe tbody tr th:only-of-type {\n",
              "        vertical-align: middle;\n",
              "    }\n",
              "\n",
              "    .dataframe tbody tr th {\n",
              "        vertical-align: top;\n",
              "    }\n",
              "\n",
              "    .dataframe thead th {\n",
              "        text-align: right;\n",
              "    }\n",
              "</style>\n",
              "<table border=\"1\" class=\"dataframe\">\n",
              "  <thead>\n",
              "    <tr style=\"text-align: right;\">\n",
              "      <th></th>\n",
              "      <th>Total Sales</th>\n",
              "    </tr>\n",
              "    <tr>\n",
              "      <th>Date</th>\n",
              "      <th></th>\n",
              "    </tr>\n",
              "  </thead>\n",
              "  <tbody>\n",
              "    <tr>\n",
              "      <th>2018-12-25</th>\n",
              "      <td>0.0</td>\n",
              "    </tr>\n",
              "  </tbody>\n",
              "</table>\n",
              "</div>"
            ],
            "text/plain": [
              "            Total Sales\n",
              "Date                   \n",
              "2018-12-25          0.0"
            ]
          },
          "metadata": {},
          "execution_count": 275
        }
      ]
    },
    {
      "cell_type": "code",
      "metadata": {
        "id": "JHBybYurFqD8",
        "colab": {
          "base_uri": "https://localhost:8080/"
        },
        "outputId": "abd608f6-dd0f-499a-f52f-387bd5604ec1"
      },
      "source": [
        "sales_per_decem = sales_per_day[(sales_per_day.index <'2019-01-01') & (sales_per_day.index > '2018-11-30')]\n",
        "sales_per_day.head()"
      ],
      "execution_count": null,
      "outputs": [
        {
          "output_type": "execute_result",
          "data": {
            "text/html": [
              "<div>\n",
              "<style scoped>\n",
              "    .dataframe tbody tr th:only-of-type {\n",
              "        vertical-align: middle;\n",
              "    }\n",
              "\n",
              "    .dataframe tbody tr th {\n",
              "        vertical-align: top;\n",
              "    }\n",
              "\n",
              "    .dataframe thead th {\n",
              "        text-align: right;\n",
              "    }\n",
              "</style>\n",
              "<table border=\"1\" class=\"dataframe\">\n",
              "  <thead>\n",
              "    <tr style=\"text-align: right;\">\n",
              "      <th></th>\n",
              "      <th>Total Sales</th>\n",
              "    </tr>\n",
              "    <tr>\n",
              "      <th>Date</th>\n",
              "      <th></th>\n",
              "    </tr>\n",
              "  </thead>\n",
              "  <tbody>\n",
              "    <tr>\n",
              "      <th>2018-07-01</th>\n",
              "      <td>5372.2</td>\n",
              "    </tr>\n",
              "    <tr>\n",
              "      <th>2018-07-02</th>\n",
              "      <td>5315.4</td>\n",
              "    </tr>\n",
              "    <tr>\n",
              "      <th>2018-07-03</th>\n",
              "      <td>5321.8</td>\n",
              "    </tr>\n",
              "    <tr>\n",
              "      <th>2018-07-04</th>\n",
              "      <td>5309.9</td>\n",
              "    </tr>\n",
              "    <tr>\n",
              "      <th>2018-07-05</th>\n",
              "      <td>5080.9</td>\n",
              "    </tr>\n",
              "  </tbody>\n",
              "</table>\n",
              "</div>"
            ],
            "text/plain": [
              "            Total Sales\n",
              "Date                   \n",
              "2018-07-01       5372.2\n",
              "2018-07-02       5315.4\n",
              "2018-07-03       5321.8\n",
              "2018-07-04       5309.9\n",
              "2018-07-05       5080.9"
            ]
          },
          "metadata": {},
          "execution_count": 276
        }
      ]
    },
    {
      "cell_type": "code",
      "metadata": {
        "id": "Xg2ZQZbjG76I",
        "colab": {
          "base_uri": "https://localhost:8080/"
        },
        "outputId": "b0cea720-2936-4419-d216-ff996d618fa6"
      },
      "source": [
        "timedecem = sales_per_decem.index\n",
        "graphdcem = sales_per_decem['Total Sales']\n",
        "\n",
        "fig, ax = plt.subplots(figsize = (10, 5))\n",
        "ax.plot(timedecem, graphdcem )\n",
        "\n",
        "date_form = DateFormatter(\"%Y-%m\")\n",
        "ax.xaxis.set_major_formatter(date_form)\n",
        "plt.title('2019-01-01 to 2018-11-30')\n",
        "plt.xlabel('Time')\n",
        "plt.ylabel('Total Sales')\n",
        "\n",
        "plt.show()"
      ],
      "execution_count": null,
      "outputs": [
        {
          "output_type": "display_data",
          "data": {
            "image/png": "[encoded data removed]",
            "text/plain": [
              "<Figure size 720x360 with 1 Axes>"
            ]
          },
          "metadata": {
            "needs_background": "light"
          }
        }
      ]
    },
    {
      "cell_type": "code",
      "metadata": {
        "id": "fudpeE35IUMW",
        "colab": {
          "base_uri": "https://localhost:8080/"
        },
        "outputId": "f98e076a-b2f6-4274-f3dc-c9e2f0c6993a"
      },
      "source": [
        "plt.figure(figsize = (20,10))\n",
        "sns.barplot(x =timedecem , y = graphdcem)"
      ],
      "execution_count": null,
      "outputs": [
        {
          "output_type": "execute_result",
          "data": {
            "text/plain": [
              "<matplotlib.axes._subplots.AxesSubplot at 0x7f99bcd3a9d0>"
            ]
          },
          "metadata": {},
          "execution_count": 278
        },
        {
          "output_type": "display_data",
          "data": {
            "image/png": "[encoded data removed]",
            "text/plain": [
              "<Figure size 1440x720 with 1 Axes>"
            ]
          },
          "metadata": {
            "needs_background": "light"
          }
        }
      ]
    },
    {
      "cell_type": "code",
      "metadata": {
        "id": "Sn7f9SHAqAxZ",
        "colab": {
          "base_uri": "https://localhost:8080/"
        },
        "outputId": "669b4587-f9df-474d-dca9-319eef8147f2"
      },
      "source": [
        "sales_per_decem.reset_index(drop=True, inplace=True)\n",
        "sales_per_decem.head()"
      ],
      "execution_count": null,
      "outputs": [
        {
          "output_type": "execute_result",
          "data": {
            "text/html": [
              "<div>\n",
              "<style scoped>\n",
              "    .dataframe tbody tr th:only-of-type {\n",
              "        vertical-align: middle;\n",
              "    }\n",
              "\n",
              "    .dataframe tbody tr th {\n",
              "        vertical-align: top;\n",
              "    }\n",
              "\n",
              "    .dataframe thead th {\n",
              "        text-align: right;\n",
              "    }\n",
              "</style>\n",
              "<table border=\"1\" class=\"dataframe\">\n",
              "  <thead>\n",
              "    <tr style=\"text-align: right;\">\n",
              "      <th></th>\n",
              "      <th>Total Sales</th>\n",
              "    </tr>\n",
              "  </thead>\n",
              "  <tbody>\n",
              "    <tr>\n",
              "      <th>0</th>\n",
              "      <td>5427.6</td>\n",
              "    </tr>\n",
              "    <tr>\n",
              "      <th>1</th>\n",
              "      <td>5108.2</td>\n",
              "    </tr>\n",
              "    <tr>\n",
              "      <th>2</th>\n",
              "      <td>5353.3</td>\n",
              "    </tr>\n",
              "    <tr>\n",
              "      <th>3</th>\n",
              "      <td>5167.3</td>\n",
              "    </tr>\n",
              "    <tr>\n",
              "      <th>4</th>\n",
              "      <td>5268.0</td>\n",
              "    </tr>\n",
              "  </tbody>\n",
              "</table>\n",
              "</div>"
            ],
            "text/plain": [
              "   Total Sales\n",
              "0       5427.6\n",
              "1       5108.2\n",
              "2       5353.3\n",
              "3       5167.3\n",
              "4       5268.0"
            ]
          },
          "metadata": {},
          "execution_count": 279
        }
      ]
    },
    {
      "cell_type": "code",
      "metadata": {
        "id": "7ABI343nHk5u",
        "colab": {
          "base_uri": "https://localhost:8080/"
        },
        "outputId": "62c94798-253a-4786-9a8e-7a0ce921a301"
      },
      "source": [
        "sales_per_decem['Date'] = sales_per_decem.index +1\n",
        "sales_per_decem.head()"
      ],
      "execution_count": null,
      "outputs": [
        {
          "output_type": "stream",
          "name": "stderr",
          "text": [
            "/usr/local/lib/python3.7/dist-packages/ipykernel_launcher.py:1: SettingWithCopyWarning: \n",
            "A value is trying to be set on a copy of a slice from a DataFrame.\n",
            "Try using .loc[row_indexer,col_indexer] = value instead\n",
            "\n",
            "See the caveats in the documentation: https://pandas.pydata.org/pandas-docs/stable/user_guide/indexing.html#returning-a-view-versus-a-copy\n",
            "  \"\"\"Entry point for launching an IPython kernel.\n"
          ]
        },
        {
          "output_type": "execute_result",
          "data": {
            "text/html": [
              "<div>\n",
              "<style scoped>\n",
              "    .dataframe tbody tr th:only-of-type {\n",
              "        vertical-align: middle;\n",
              "    }\n",
              "\n",
              "    .dataframe tbody tr th {\n",
              "        vertical-align: top;\n",
              "    }\n",
              "\n",
              "    .dataframe thead th {\n",
              "        text-align: right;\n",
              "    }\n",
              "</style>\n",
              "<table border=\"1\" class=\"dataframe\">\n",
              "  <thead>\n",
              "    <tr style=\"text-align: right;\">\n",
              "      <th></th>\n",
              "      <th>Total Sales</th>\n",
              "      <th>Date</th>\n",
              "    </tr>\n",
              "  </thead>\n",
              "  <tbody>\n",
              "    <tr>\n",
              "      <th>0</th>\n",
              "      <td>5427.6</td>\n",
              "      <td>1</td>\n",
              "    </tr>\n",
              "    <tr>\n",
              "      <th>1</th>\n",
              "      <td>5108.2</td>\n",
              "      <td>2</td>\n",
              "    </tr>\n",
              "    <tr>\n",
              "      <th>2</th>\n",
              "      <td>5353.3</td>\n",
              "      <td>3</td>\n",
              "    </tr>\n",
              "    <tr>\n",
              "      <th>3</th>\n",
              "      <td>5167.3</td>\n",
              "      <td>4</td>\n",
              "    </tr>\n",
              "    <tr>\n",
              "      <th>4</th>\n",
              "      <td>5268.0</td>\n",
              "      <td>5</td>\n",
              "    </tr>\n",
              "  </tbody>\n",
              "</table>\n",
              "</div>"
            ],
            "text/plain": [
              "   Total Sales  Date\n",
              "0       5427.6     1\n",
              "1       5108.2     2\n",
              "2       5353.3     3\n",
              "3       5167.3     4\n",
              "4       5268.0     5"
            ]
          },
          "metadata": {},
          "execution_count": 280
        }
      ]
    },
    {
      "cell_type": "code",
      "metadata": {
        "id": "iAluAVVuH00k",
        "colab": {
          "base_uri": "https://localhost:8080/"
        },
        "outputId": "f34acd11-43be-4038-f2d1-9d62d831646b"
      },
      "source": [
        "plt.figure(figsize = (15,5))\n",
        "sns.barplot(x = 'Date', y ='Total Sales', data = sales_per_decem)"
      ],
      "execution_count": null,
      "outputs": [
        {
          "output_type": "execute_result",
          "data": {
            "text/plain": [
              "<matplotlib.axes._subplots.AxesSubplot at 0x7f99c83dac50>"
            ]
          },
          "metadata": {},
          "execution_count": 281
        },
        {
          "output_type": "display_data",
          "data": {
            "image/png": "[encoded data removed]",
            "text/plain": [
              "<Figure size 1080x360 with 1 Axes>"
            ]
          },
          "metadata": {
            "needs_background": "light"
          }
        }
      ]
    },
    {
      "cell_type": "code",
      "metadata": {
        "id": "r7Ruxs-FI4RK",
        "colab": {
          "base_uri": "https://localhost:8080/"
        },
        "outputId": "a9dc75cb-8109-4163-d975-4a2e3ef69dd8"
      },
      "source": [
        "df_trans.groupby('PROD_SIZE')['TOT_SALES'].sum().to_frame()"
      ],
      "execution_count": null,
      "outputs": [
        {
          "output_type": "execute_result",
          "data": {
            "text/html": [
              "<div>\n",
              "<style scoped>\n",
              "    .dataframe tbody tr th:only-of-type {\n",
              "        vertical-align: middle;\n",
              "    }\n",
              "\n",
              "    .dataframe tbody tr th {\n",
              "        vertical-align: top;\n",
              "    }\n",
              "\n",
              "    .dataframe thead th {\n",
              "        text-align: right;\n",
              "    }\n",
              "</style>\n",
              "<table border=\"1\" class=\"dataframe\">\n",
              "  <thead>\n",
              "    <tr style=\"text-align: right;\">\n",
              "      <th></th>\n",
              "      <th>TOT_SALES</th>\n",
              "    </tr>\n",
              "    <tr>\n",
              "      <th>PROD_SIZE</th>\n",
              "      <th></th>\n",
              "    </tr>\n",
              "  </thead>\n",
              "  <tbody>\n",
              "    <tr>\n",
              "      <th>70.0</th>\n",
              "      <td>6852.0</td>\n",
              "    </tr>\n",
              "    <tr>\n",
              "      <th>90.0</th>\n",
              "      <td>9676.4</td>\n",
              "    </tr>\n",
              "    <tr>\n",
              "      <th>110.0</th>\n",
              "      <td>162765.4</td>\n",
              "    </tr>\n",
              "    <tr>\n",
              "      <th>125.0</th>\n",
              "      <td>5733.0</td>\n",
              "    </tr>\n",
              "    <tr>\n",
              "      <th>134.0</th>\n",
              "      <td>177655.5</td>\n",
              "    </tr>\n",
              "    <tr>\n",
              "      <th>135.0</th>\n",
              "      <td>26090.4</td>\n",
              "    </tr>\n",
              "    <tr>\n",
              "      <th>150.0</th>\n",
              "      <td>304288.5</td>\n",
              "    </tr>\n",
              "    <tr>\n",
              "      <th>160.0</th>\n",
              "      <td>10647.6</td>\n",
              "    </tr>\n",
              "    <tr>\n",
              "      <th>165.0</th>\n",
              "      <td>101360.6</td>\n",
              "    </tr>\n",
              "    <tr>\n",
              "      <th>170.0</th>\n",
              "      <td>146673.0</td>\n",
              "    </tr>\n",
              "    <tr>\n",
              "      <th>175.0</th>\n",
              "      <td>485437.4</td>\n",
              "    </tr>\n",
              "    <tr>\n",
              "      <th>180.0</th>\n",
              "      <td>8568.4</td>\n",
              "    </tr>\n",
              "    <tr>\n",
              "      <th>190.0</th>\n",
              "      <td>14412.9</td>\n",
              "    </tr>\n",
              "    <tr>\n",
              "      <th>200.0</th>\n",
              "      <td>16007.5</td>\n",
              "    </tr>\n",
              "    <tr>\n",
              "      <th>210.0</th>\n",
              "      <td>43048.8</td>\n",
              "    </tr>\n",
              "    <tr>\n",
              "      <th>220.0</th>\n",
              "      <td>6831.0</td>\n",
              "    </tr>\n",
              "    <tr>\n",
              "      <th>250.0</th>\n",
              "      <td>26096.7</td>\n",
              "    </tr>\n",
              "    <tr>\n",
              "      <th>270.0</th>\n",
              "      <td>55425.4</td>\n",
              "    </tr>\n",
              "    <tr>\n",
              "      <th>300.0</th>\n",
              "      <td>113330.6</td>\n",
              "    </tr>\n",
              "    <tr>\n",
              "      <th>330.0</th>\n",
              "      <td>136794.3</td>\n",
              "    </tr>\n",
              "    <tr>\n",
              "      <th>380.0</th>\n",
              "      <td>75419.6</td>\n",
              "    </tr>\n",
              "  </tbody>\n",
              "</table>\n",
              "</div>"
            ],
            "text/plain": [
              "           TOT_SALES\n",
              "PROD_SIZE           \n",
              "70.0          6852.0\n",
              "90.0          9676.4\n",
              "110.0       162765.4\n",
              "125.0         5733.0\n",
              "134.0       177655.5\n",
              "135.0        26090.4\n",
              "150.0       304288.5\n",
              "160.0        10647.6\n",
              "165.0       101360.6\n",
              "170.0       146673.0\n",
              "175.0       485437.4\n",
              "180.0         8568.4\n",
              "190.0        14412.9\n",
              "200.0        16007.5\n",
              "210.0        43048.8\n",
              "220.0         6831.0\n",
              "250.0        26096.7\n",
              "270.0        55425.4\n",
              "300.0       113330.6\n",
              "330.0       136794.3\n",
              "380.0        75419.6"
            ]
          },
          "metadata": {},
          "execution_count": 282
        }
      ]
    },
    {
      "cell_type": "code",
      "metadata": {
        "id": "sXMf9NwsKXti",
        "colab": {
          "base_uri": "https://localhost:8080/"
        },
        "outputId": "bf47303e-5641-48f1-d736-e1871b87c73a"
      },
      "source": [
        "plt.figure(figsize = (10,5))\n",
        "plt.hist(df_trans['PROD_SIZE'])"
      ],
      "execution_count": null,
      "outputs": [
        {
          "output_type": "execute_result",
          "data": {
            "text/plain": [
              "(array([  4515.,  23841.,  74460., 106133.,  12309.,   3169.,   6285.,\n",
              "         15166.,  12540.,   6416.]),\n",
              " array([ 70., 101., 132., 163., 194., 225., 256., 287., 318., 349., 380.]),\n",
              " <a list of 10 Patch objects>)"
            ]
          },
          "metadata": {},
          "execution_count": 283
        },
        {
          "output_type": "display_data",
          "data": {
            "image/png": "[encoded data removed]",
            "text/plain": [
              "<Figure size 720x360 with 1 Axes>"
            ]
          },
          "metadata": {
            "needs_background": "light"
          }
        }
      ]
    },
    {
      "cell_type": "code",
      "metadata": {
        "id": "RtfrKymuqLR5",
        "colab": {
          "base_uri": "https://localhost:8080/"
        },
        "outputId": "9ea609b7-4dd5-4f07-86bb-b99b346ae38f"
      },
      "source": [
        "part = df_trans['PROD_NAME'].str.partition()\n",
        "df_trans['BRAND'] = part[0]\n",
        "df_trans.head()"
      ],
      "execution_count": null,
      "outputs": [
        {
          "output_type": "execute_result",
          "data": {
            "text/html": [
              "<div>\n",
              "<style scoped>\n",
              "    .dataframe tbody tr th:only-of-type {\n",
              "        vertical-align: middle;\n",
              "    }\n",
              "\n",
              "    .dataframe tbody tr th {\n",
              "        vertical-align: top;\n",
              "    }\n",
              "\n",
              "    .dataframe thead th {\n",
              "        text-align: right;\n",
              "    }\n",
              "</style>\n",
              "<table border=\"1\" class=\"dataframe\">\n",
              "  <thead>\n",
              "    <tr style=\"text-align: right;\">\n",
              "      <th></th>\n",
              "      <th>DATE</th>\n",
              "      <th>STORE_NBR</th>\n",
              "      <th>LYLTY_CARD_NBR</th>\n",
              "      <th>TXN_ID</th>\n",
              "      <th>PROD_NBR</th>\n",
              "      <th>PROD_NAME</th>\n",
              "      <th>PROD_QTY</th>\n",
              "      <th>TOT_SALES</th>\n",
              "      <th>PROD_SIZE</th>\n",
              "      <th>BRAND</th>\n",
              "    </tr>\n",
              "  </thead>\n",
              "  <tbody>\n",
              "    <tr>\n",
              "      <th>1</th>\n",
              "      <td>2018-10-17</td>\n",
              "      <td>1.0</td>\n",
              "      <td>1000.0</td>\n",
              "      <td>1.0</td>\n",
              "      <td>5.0</td>\n",
              "      <td>Natural Chip        Compny SeaSalt175g</td>\n",
              "      <td>2.0</td>\n",
              "      <td>6.0</td>\n",
              "      <td>175.0</td>\n",
              "      <td>Natural</td>\n",
              "    </tr>\n",
              "    <tr>\n",
              "      <th>2</th>\n",
              "      <td>2019-05-14</td>\n",
              "      <td>1.0</td>\n",
              "      <td>1307.0</td>\n",
              "      <td>348.0</td>\n",
              "      <td>66.0</td>\n",
              "      <td>CCs Nacho Cheese    175g</td>\n",
              "      <td>3.0</td>\n",
              "      <td>6.3</td>\n",
              "      <td>175.0</td>\n",
              "      <td>CCs</td>\n",
              "    </tr>\n",
              "    <tr>\n",
              "      <th>3</th>\n",
              "      <td>2019-05-20</td>\n",
              "      <td>1.0</td>\n",
              "      <td>1343.0</td>\n",
              "      <td>383.0</td>\n",
              "      <td>61.0</td>\n",
              "      <td>Smiths Crinkle Cut  Chips Chicken 170g</td>\n",
              "      <td>2.0</td>\n",
              "      <td>2.9</td>\n",
              "      <td>170.0</td>\n",
              "      <td>Smiths</td>\n",
              "    </tr>\n",
              "    <tr>\n",
              "      <th>4</th>\n",
              "      <td>2018-08-17</td>\n",
              "      <td>2.0</td>\n",
              "      <td>2373.0</td>\n",
              "      <td>974.0</td>\n",
              "      <td>69.0</td>\n",
              "      <td>Smiths Chip Thinly  SCreamOnion 175g</td>\n",
              "      <td>5.0</td>\n",
              "      <td>15.0</td>\n",
              "      <td>175.0</td>\n",
              "      <td>Smiths</td>\n",
              "    </tr>\n",
              "    <tr>\n",
              "      <th>5</th>\n",
              "      <td>2018-08-18</td>\n",
              "      <td>2.0</td>\n",
              "      <td>2426.0</td>\n",
              "      <td>1038.0</td>\n",
              "      <td>108.0</td>\n",
              "      <td>Kettle Tortilla ChpsHnyJlpno Chili 150g</td>\n",
              "      <td>3.0</td>\n",
              "      <td>13.8</td>\n",
              "      <td>150.0</td>\n",
              "      <td>Kettle</td>\n",
              "    </tr>\n",
              "  </tbody>\n",
              "</table>\n",
              "</div>"
            ],
            "text/plain": [
              "        DATE  STORE_NBR  LYLTY_CARD_NBR  ...  TOT_SALES  PROD_SIZE    BRAND\n",
              "1 2018-10-17        1.0          1000.0  ...        6.0      175.0  Natural\n",
              "2 2019-05-14        1.0          1307.0  ...        6.3      175.0      CCs\n",
              "3 2019-05-20        1.0          1343.0  ...        2.9      170.0   Smiths\n",
              "4 2018-08-17        2.0          2373.0  ...       15.0      175.0   Smiths\n",
              "5 2018-08-18        2.0          2426.0  ...       13.8      150.0   Kettle\n",
              "\n",
              "[5 rows x 10 columns]"
            ]
          },
          "metadata": {},
          "execution_count": 284
        }
      ]
    },
    {
      "cell_type": "code",
      "metadata": {
        "id": "SRV8-WmNq0wo",
        "colab": {
          "base_uri": "https://localhost:8080/"
        },
        "outputId": "227714ba-2db9-44dd-8027-f087ec360f7b"
      },
      "source": [
        "df_trans['BRAND'].unique()"
      ],
      "execution_count": null,
      "outputs": [
        {
          "output_type": "execute_result",
          "data": {
            "text/plain": [
              "array(['Natural', 'CCs', 'Smiths', 'Kettle', 'Old', 'Grain', 'Doritos',\n",
              "       'Twisties', 'WW', 'Thins', 'Burger', 'NCC', 'Cheezels', 'Infzns',\n",
              "       'Red', 'Pringles', 'Dorito', 'Infuzions', 'Smith', 'GrnWves',\n",
              "       'Tyrrells', 'Cobs', 'Woolworths', 'French', 'RRD', 'Tostitos',\n",
              "       'Cheetos', 'Snbts', 'Sunbites'], dtype=object)"
            ]
          },
          "metadata": {},
          "execution_count": 285
        }
      ]
    },
    {
      "cell_type": "code",
      "metadata": {
        "id": "AimPmSocq_d-",
        "colab": {
          "base_uri": "https://localhost:8080/"
        },
        "outputId": "b5e12200-6a5a-46d5-ee8e-9f13db971a37"
      },
      "source": [
        "df_trans['BRAND'].replace('Ncc', 'Natural', inplace = True)\n",
        "df_trans['BRAND'].replace('Ccs', 'CCS', inplace = True)\n",
        "df_trans['BRAND'].replace('Smith', 'Smiths', inplace = True)\n",
        "df_trans['BRAND'].replace(['Grain', 'Grnwves'], 'Grainwaves', inplace = True)\n",
        "df_trans['BRAND'].replace('Dorito', 'Doritos', inplace = True)\n",
        "df_trans['BRAND'].replace('Ww', 'Woolworths', inplace = True)\n",
        "df_trans['BRAND'].replace('Infzns', 'Infuzions', inplace = True)\n",
        "df_trans['BRAND'].replace(['Red', 'Rrd'], 'Red Rock Deli', inplace = True)\n",
        "df_trans['BRAND'].replace('Snbts', 'Sunbites', inplace = True)\n",
        "\n",
        "df_trans['BRAND'].unique()\n"
      ],
      "execution_count": null,
      "outputs": [
        {
          "output_type": "execute_result",
          "data": {
            "text/plain": [
              "array(['Natural', 'CCs', 'Smiths', 'Kettle', 'Old', 'Grainwaves',\n",
              "       'Doritos', 'Twisties', 'WW', 'Thins', 'Burger', 'NCC', 'Cheezels',\n",
              "       'Infuzions', 'Red Rock Deli', 'Pringles', 'GrnWves', 'Tyrrells',\n",
              "       'Cobs', 'Woolworths', 'French', 'RRD', 'Tostitos', 'Cheetos',\n",
              "       'Sunbites'], dtype=object)"
            ]
          },
          "metadata": {},
          "execution_count": 286
        }
      ]
    },
    {
      "cell_type": "markdown",
      "metadata": {
        "id": "KAcNCm371BS0"
      },
      "source": [
        "## Which `brand had the most sales`"
      ]
    },
    {
      "cell_type": "code",
      "metadata": {
        "id": "QIqYy3Tmrs24",
        "colab": {
          "base_uri": "https://localhost:8080/"
        },
        "outputId": "06547fb4-cade-4427-f7b8-3ef486296f98"
      },
      "source": [
        "\n",
        "df_trans.groupby('BRAND')['TOT_SALES'].sum().sort_values(ascending = False)\n"
      ],
      "execution_count": null,
      "outputs": [
        {
          "output_type": "execute_result",
          "data": {
            "text/plain": [
              "BRAND\n",
              "Kettle           390239.8\n",
              "Doritos          240590.9\n",
              "Smiths           224660.2\n",
              "Pringles         177655.5\n",
              "Infuzions         99047.6\n",
              "Old               90785.1\n",
              "Thins             88852.5\n",
              "Twisties          81522.1\n",
              "Tostitos          79789.6\n",
              "Cobs              70569.8\n",
              "RRD               64954.5\n",
              "Tyrrells          51647.4\n",
              "Grainwaves        43048.8\n",
              "Cheezels          40029.9\n",
              "WW                35889.5\n",
              "Natural           34272.0\n",
              "Red Rock Deli     30091.5\n",
              "CCs               18078.9\n",
              "Cheetos           16884.5\n",
              "Woolworths        13454.1\n",
              "Sunbites           9676.4\n",
              "GrnWves            8568.4\n",
              "NCC                8046.0\n",
              "French             7929.0\n",
              "Burger             6831.0\n",
              "Name: TOT_SALES, dtype: float64"
            ]
          },
          "metadata": {},
          "execution_count": 287
        }
      ]
    },
    {
      "cell_type": "code",
      "metadata": {
        "id": "t31vzbobsRso",
        "colab": {
          "base_uri": "https://localhost:8080/"
        },
        "outputId": "433a7efe-b201-44b3-cb0b-b6151d3081ae"
      },
      "source": [
        "brand_most_sales = pd.DataFrame(df_trans.groupby('BRAND')['TOT_SALES'].sum().sort_values(ascending = False))\n",
        "brand_most_sales.reset_index(drop=True, inplace=True)\n",
        "print(brand_most_sales.shape)\n",
        "brand_most_sales.head()"
      ],
      "execution_count": null,
      "outputs": [
        {
          "output_type": "stream",
          "name": "stdout",
          "text": [
            "(25, 1)\n"
          ]
        },
        {
          "output_type": "execute_result",
          "data": {
            "text/html": [
              "<div>\n",
              "<style scoped>\n",
              "    .dataframe tbody tr th:only-of-type {\n",
              "        vertical-align: middle;\n",
              "    }\n",
              "\n",
              "    .dataframe tbody tr th {\n",
              "        vertical-align: top;\n",
              "    }\n",
              "\n",
              "    .dataframe thead th {\n",
              "        text-align: right;\n",
              "    }\n",
              "</style>\n",
              "<table border=\"1\" class=\"dataframe\">\n",
              "  <thead>\n",
              "    <tr style=\"text-align: right;\">\n",
              "      <th></th>\n",
              "      <th>TOT_SALES</th>\n",
              "    </tr>\n",
              "  </thead>\n",
              "  <tbody>\n",
              "    <tr>\n",
              "      <th>0</th>\n",
              "      <td>390239.8</td>\n",
              "    </tr>\n",
              "    <tr>\n",
              "      <th>1</th>\n",
              "      <td>240590.9</td>\n",
              "    </tr>\n",
              "    <tr>\n",
              "      <th>2</th>\n",
              "      <td>224660.2</td>\n",
              "    </tr>\n",
              "    <tr>\n",
              "      <th>3</th>\n",
              "      <td>177655.5</td>\n",
              "    </tr>\n",
              "    <tr>\n",
              "      <th>4</th>\n",
              "      <td>99047.6</td>\n",
              "    </tr>\n",
              "  </tbody>\n",
              "</table>\n",
              "</div>"
            ],
            "text/plain": [
              "   TOT_SALES\n",
              "0   390239.8\n",
              "1   240590.9\n",
              "2   224660.2\n",
              "3   177655.5\n",
              "4    99047.6"
            ]
          },
          "metadata": {},
          "execution_count": 288
        }
      ]
    },
    {
      "cell_type": "code",
      "metadata": {
        "id": "lfHsjxwGv2Ri",
        "colab": {
          "base_uri": "https://localhost:8080/"
        },
        "outputId": "25e571a1-7851-4261-f723-b893adc9791a"
      },
      "source": [
        "brand_most_sales['BRAND'] =['Kettle','Doritos','Smiths','Pringles','Infuzions',\n",
        "                            'Old','Thins','Twisties','Tostitos','Cobs','RRD',\n",
        "                            'Tyrrells','Grainwaves','Cheezels','WW','Natural',\n",
        "                            'Red Rock Deli','CCs','Cheetos','Woolworths',\n",
        "                            'Sunbites','GrnWves','NNC','French','Burger']\n",
        "\n",
        "\n",
        "brand_most_sales.head()"
      ],
      "execution_count": null,
      "outputs": [
        {
          "output_type": "execute_result",
          "data": {
            "text/html": [
              "<div>\n",
              "<style scoped>\n",
              "    .dataframe tbody tr th:only-of-type {\n",
              "        vertical-align: middle;\n",
              "    }\n",
              "\n",
              "    .dataframe tbody tr th {\n",
              "        vertical-align: top;\n",
              "    }\n",
              "\n",
              "    .dataframe thead th {\n",
              "        text-align: right;\n",
              "    }\n",
              "</style>\n",
              "<table border=\"1\" class=\"dataframe\">\n",
              "  <thead>\n",
              "    <tr style=\"text-align: right;\">\n",
              "      <th></th>\n",
              "      <th>TOT_SALES</th>\n",
              "      <th>BRAND</th>\n",
              "    </tr>\n",
              "  </thead>\n",
              "  <tbody>\n",
              "    <tr>\n",
              "      <th>0</th>\n",
              "      <td>390239.8</td>\n",
              "      <td>Kettle</td>\n",
              "    </tr>\n",
              "    <tr>\n",
              "      <th>1</th>\n",
              "      <td>240590.9</td>\n",
              "      <td>Doritos</td>\n",
              "    </tr>\n",
              "    <tr>\n",
              "      <th>2</th>\n",
              "      <td>224660.2</td>\n",
              "      <td>Smiths</td>\n",
              "    </tr>\n",
              "    <tr>\n",
              "      <th>3</th>\n",
              "      <td>177655.5</td>\n",
              "      <td>Pringles</td>\n",
              "    </tr>\n",
              "    <tr>\n",
              "      <th>4</th>\n",
              "      <td>99047.6</td>\n",
              "      <td>Infuzions</td>\n",
              "    </tr>\n",
              "  </tbody>\n",
              "</table>\n",
              "</div>"
            ],
            "text/plain": [
              "   TOT_SALES      BRAND\n",
              "0   390239.8     Kettle\n",
              "1   240590.9    Doritos\n",
              "2   224660.2     Smiths\n",
              "3   177655.5   Pringles\n",
              "4    99047.6  Infuzions"
            ]
          },
          "metadata": {},
          "execution_count": 289
        }
      ]
    },
    {
      "cell_type": "code",
      "metadata": {
        "id": "H9kdVCxjz1UA",
        "colab": {
          "base_uri": "https://localhost:8080/"
        },
        "outputId": "b3bf9a9f-b2cf-4422-b7f5-57b68989fa38"
      },
      "source": [
        "plt.figure(figsize = (25,10))\n",
        "sns.barplot(data = brand_most_sales, x = 'BRAND', y = 'TOT_SALES')"
      ],
      "execution_count": null,
      "outputs": [
        {
          "output_type": "execute_result",
          "data": {
            "text/plain": [
              "<matplotlib.axes._subplots.AxesSubplot at 0x7f99c3b272d0>"
            ]
          },
          "metadata": {},
          "execution_count": 290
        },
        {
          "output_type": "display_data",
          "data": {
            "image/png": "[encoded data removed]",
            "text/plain": [
              "<Figure size 1800x720 with 1 Axes>"
            ]
          },
          "metadata": {
            "needs_background": "light"
          }
        }
      ]
    },
    {
      "cell_type": "markdown",
      "metadata": {
        "id": "x2YUWFLr0x-z"
      },
      "source": [
        "# Customer Data\n"
      ]
    },
    {
      "cell_type": "code",
      "metadata": {
        "id": "hE8lHvEs04SD",
        "colab": {
          "base_uri": "https://localhost:8080/"
        },
        "outputId": "81964008-ec2c-4fc8-8ddc-7beb4a785aa0"
      },
      "source": [
        "list(df_behav.columns)"
      ],
      "execution_count": null,
      "outputs": [
        {
          "output_type": "execute_result",
          "data": {
            "text/plain": [
              "['LYLTY_CARD_NBR', 'LIFESTAGE', 'PREMIUM_CUSTOMER']"
            ]
          },
          "metadata": {},
          "execution_count": 291
        }
      ]
    },
    {
      "cell_type": "code",
      "metadata": {
        "id": "m-cLsbG-_TNe",
        "colab": {
          "base_uri": "https://localhost:8080/"
        },
        "outputId": "ecc5e50a-eaaf-42e0-ed31-ae0ac6e20204"
      },
      "source": [
        "missingno.matrix(df_behav)"
      ],
      "execution_count": null,
      "outputs": [
        {
          "output_type": "execute_result",
          "data": {
            "text/plain": [
              "<matplotlib.axes._subplots.AxesSubplot at 0x7f99bc8d0810>"
            ]
          },
          "metadata": {},
          "execution_count": 292
        },
        {
          "output_type": "display_data",
          "data": {
            "image/png": "[encoded data removed]",
            "text/plain": [
              "<Figure size 1800x720 with 2 Axes>"
            ]
          },
          "metadata": {
            "needs_background": "light"
          }
        }
      ]
    },
    {
      "cell_type": "code",
      "metadata": {
        "id": "RKZ6E9jP-YOj",
        "colab": {
          "base_uri": "https://localhost:8080/"
        },
        "outputId": "23d38540-4ca5-4343-b083-77f4caaaade9"
      },
      "source": [
        "print(df_behav.shape)\n",
        "df_behav['LYLTY_CARD_NBR'].nunique()"
      ],
      "execution_count": null,
      "outputs": [
        {
          "output_type": "stream",
          "name": "stdout",
          "text": [
            "(72637, 3)\n"
          ]
        },
        {
          "output_type": "execute_result",
          "data": {
            "text/plain": [
              "72637"
            ]
          },
          "metadata": {},
          "execution_count": 293
        }
      ]
    },
    {
      "cell_type": "code",
      "metadata": {
        "id": "rscSsV9u-uCF",
        "colab": {
          "base_uri": "https://localhost:8080/"
        },
        "outputId": "dcf788a6-6dfa-477f-8d42-30d052a42b8e"
      },
      "source": [
        "print(df_behav['LIFESTAGE'].nunique())\n",
        "df_behav['LIFESTAGE'].unique()"
      ],
      "execution_count": null,
      "outputs": [
        {
          "output_type": "stream",
          "name": "stdout",
          "text": [
            "7\n"
          ]
        },
        {
          "output_type": "execute_result",
          "data": {
            "text/plain": [
              "array(['YOUNG SINGLES/COUPLES', 'YOUNG FAMILIES', 'OLDER SINGLES/COUPLES',\n",
              "       'MIDAGE SINGLES/COUPLES', 'NEW FAMILIES', 'OLDER FAMILIES',\n",
              "       'RETIREES'], dtype=object)"
            ]
          },
          "metadata": {},
          "execution_count": 294
        }
      ]
    },
    {
      "cell_type": "code",
      "metadata": {
        "id": "QtjeoojY_dmG",
        "colab": {
          "base_uri": "https://localhost:8080/"
        },
        "outputId": "97e6467e-81aa-4689-a927-2c7e5e49cf92"
      },
      "source": [
        "df_behav['LIFESTAGE'].value_counts(ascending = False).to_frame()"
      ],
      "execution_count": null,
      "outputs": [
        {
          "output_type": "execute_result",
          "data": {
            "text/html": [
              "<div>\n",
              "<style scoped>\n",
              "    .dataframe tbody tr th:only-of-type {\n",
              "        vertical-align: middle;\n",
              "    }\n",
              "\n",
              "    .dataframe tbody tr th {\n",
              "        vertical-align: top;\n",
              "    }\n",
              "\n",
              "    .dataframe thead th {\n",
              "        text-align: right;\n",
              "    }\n",
              "</style>\n",
              "<table border=\"1\" class=\"dataframe\">\n",
              "  <thead>\n",
              "    <tr style=\"text-align: right;\">\n",
              "      <th></th>\n",
              "      <th>LIFESTAGE</th>\n",
              "    </tr>\n",
              "  </thead>\n",
              "  <tbody>\n",
              "    <tr>\n",
              "      <th>RETIREES</th>\n",
              "      <td>14805</td>\n",
              "    </tr>\n",
              "    <tr>\n",
              "      <th>OLDER SINGLES/COUPLES</th>\n",
              "      <td>14609</td>\n",
              "    </tr>\n",
              "    <tr>\n",
              "      <th>YOUNG SINGLES/COUPLES</th>\n",
              "      <td>14441</td>\n",
              "    </tr>\n",
              "    <tr>\n",
              "      <th>OLDER FAMILIES</th>\n",
              "      <td>9780</td>\n",
              "    </tr>\n",
              "    <tr>\n",
              "      <th>YOUNG FAMILIES</th>\n",
              "      <td>9178</td>\n",
              "    </tr>\n",
              "    <tr>\n",
              "      <th>MIDAGE SINGLES/COUPLES</th>\n",
              "      <td>7275</td>\n",
              "    </tr>\n",
              "    <tr>\n",
              "      <th>NEW FAMILIES</th>\n",
              "      <td>2549</td>\n",
              "    </tr>\n",
              "  </tbody>\n",
              "</table>\n",
              "</div>"
            ],
            "text/plain": [
              "                        LIFESTAGE\n",
              "RETIREES                    14805\n",
              "OLDER SINGLES/COUPLES       14609\n",
              "YOUNG SINGLES/COUPLES       14441\n",
              "OLDER FAMILIES               9780\n",
              "YOUNG FAMILIES               9178\n",
              "MIDAGE SINGLES/COUPLES       7275\n",
              "NEW FAMILIES                 2549"
            ]
          },
          "metadata": {},
          "execution_count": 295
        }
      ]
    },
    {
      "cell_type": "code",
      "metadata": {
        "id": "Ufe-8mAmASH8",
        "colab": {
          "base_uri": "https://localhost:8080/"
        },
        "outputId": "f014aa8f-11f5-459b-a0d8-bc38c4d6cb50"
      },
      "source": [
        "plt.figure(figsize=(10,5))\n",
        "sns.countplot(y= df_behav['LIFESTAGE'], order =df_behav['LIFESTAGE'].value_counts().index)"
      ],
      "execution_count": null,
      "outputs": [
        {
          "output_type": "execute_result",
          "data": {
            "text/plain": [
              "<matplotlib.axes._subplots.AxesSubplot at 0x7f99d8f18910>"
            ]
          },
          "metadata": {},
          "execution_count": 296
        },
        {
          "output_type": "display_data",
          "data": {
            "image/png": "[encoded data removed]",
            "text/plain": [
              "<Figure size 720x360 with 1 Axes>"
            ]
          },
          "metadata": {
            "needs_background": "light"
          }
        }
      ]
    },
    {
      "cell_type": "code",
      "metadata": {
        "id": "G6z59Y81Bh5y",
        "colab": {
          "base_uri": "https://localhost:8080/"
        },
        "outputId": "34b10f04-9398-4530-8406-7503ccb30925"
      },
      "source": [
        "print(df_behav['PREMIUM_CUSTOMER'].nunique())\n",
        "df_behav['PREMIUM_CUSTOMER'].unique()"
      ],
      "execution_count": null,
      "outputs": [
        {
          "output_type": "stream",
          "name": "stdout",
          "text": [
            "3\n"
          ]
        },
        {
          "output_type": "execute_result",
          "data": {
            "text/plain": [
              "array(['Premium', 'Mainstream', 'Budget'], dtype=object)"
            ]
          },
          "metadata": {},
          "execution_count": 297
        }
      ]
    },
    {
      "cell_type": "code",
      "metadata": {
        "id": "8pe4BO2tB1uQ",
        "colab": {
          "base_uri": "https://localhost:8080/"
        },
        "outputId": "60d3b59d-be07-43e9-d6de-d49ea7a99a60"
      },
      "source": [
        "df_behav['PREMIUM_CUSTOMER'].value_counts(ascending = False).to_frame()"
      ],
      "execution_count": null,
      "outputs": [
        {
          "output_type": "execute_result",
          "data": {
            "text/html": [
              "<div>\n",
              "<style scoped>\n",
              "    .dataframe tbody tr th:only-of-type {\n",
              "        vertical-align: middle;\n",
              "    }\n",
              "\n",
              "    .dataframe tbody tr th {\n",
              "        vertical-align: top;\n",
              "    }\n",
              "\n",
              "    .dataframe thead th {\n",
              "        text-align: right;\n",
              "    }\n",
              "</style>\n",
              "<table border=\"1\" class=\"dataframe\">\n",
              "  <thead>\n",
              "    <tr style=\"text-align: right;\">\n",
              "      <th></th>\n",
              "      <th>PREMIUM_CUSTOMER</th>\n",
              "    </tr>\n",
              "  </thead>\n",
              "  <tbody>\n",
              "    <tr>\n",
              "      <th>Mainstream</th>\n",
              "      <td>29245</td>\n",
              "    </tr>\n",
              "    <tr>\n",
              "      <th>Budget</th>\n",
              "      <td>24470</td>\n",
              "    </tr>\n",
              "    <tr>\n",
              "      <th>Premium</th>\n",
              "      <td>18922</td>\n",
              "    </tr>\n",
              "  </tbody>\n",
              "</table>\n",
              "</div>"
            ],
            "text/plain": [
              "            PREMIUM_CUSTOMER\n",
              "Mainstream             29245\n",
              "Budget                 24470\n",
              "Premium                18922"
            ]
          },
          "metadata": {},
          "execution_count": 298
        }
      ]
    },
    {
      "cell_type": "code",
      "metadata": {
        "id": "xHNOcDwXCVbG",
        "colab": {
          "base_uri": "https://localhost:8080/"
        },
        "outputId": "d2dfba33-2447-418f-cabc-233e40e186ba"
      },
      "source": [
        "plt.figure(figsize=(10,3))\n",
        "sns.countplot(y = df_behav['PREMIUM_CUSTOMER'], order= df_behav['PREMIUM_CUSTOMER'].value_counts(ascending = False).index)"
      ],
      "execution_count": null,
      "outputs": [
        {
          "output_type": "execute_result",
          "data": {
            "text/plain": [
              "<matplotlib.axes._subplots.AxesSubplot at 0x7f99d77bc650>"
            ]
          },
          "metadata": {},
          "execution_count": 299
        },
        {
          "output_type": "display_data",
          "data": {
            "image/png": "[encoded data removed]",
            "text/plain": [
              "<Figure size 720x216 with 1 Axes>"
            ]
          },
          "metadata": {
            "needs_background": "light"
          }
        }
      ]
    },
    {
      "cell_type": "markdown",
      "metadata": {
        "id": "2nyqszsQFixV"
      },
      "source": [
        "# Merge transaction Data and customer Data together\n"
      ]
    },
    {
      "cell_type": "code",
      "metadata": {
        "id": "lbbHuKIwKTcF",
        "colab": {
          "base_uri": "https://localhost:8080/"
        },
        "outputId": "ee008ac5-f0f7-4119-fbd7-396b492d71bd"
      },
      "source": [
        "df_behav['LYLTY_CARD_NBR'] = df_behav['LYLTY_CARD_NBR'].astype(float)\n",
        "data = pd.merge(df_trans, df_behav)\n",
        "data.head()"
      ],
      "execution_count": null,
      "outputs": [
        {
          "output_type": "execute_result",
          "data": {
            "text/html": [
              "<div>\n",
              "<style scoped>\n",
              "    .dataframe tbody tr th:only-of-type {\n",
              "        vertical-align: middle;\n",
              "    }\n",
              "\n",
              "    .dataframe tbody tr th {\n",
              "        vertical-align: top;\n",
              "    }\n",
              "\n",
              "    .dataframe thead th {\n",
              "        text-align: right;\n",
              "    }\n",
              "</style>\n",
              "<table border=\"1\" class=\"dataframe\">\n",
              "  <thead>\n",
              "    <tr style=\"text-align: right;\">\n",
              "      <th></th>\n",
              "      <th>DATE</th>\n",
              "      <th>STORE_NBR</th>\n",
              "      <th>LYLTY_CARD_NBR</th>\n",
              "      <th>TXN_ID</th>\n",
              "      <th>PROD_NBR</th>\n",
              "      <th>PROD_NAME</th>\n",
              "      <th>PROD_QTY</th>\n",
              "      <th>TOT_SALES</th>\n",
              "      <th>PROD_SIZE</th>\n",
              "      <th>BRAND</th>\n",
              "      <th>LIFESTAGE</th>\n",
              "      <th>PREMIUM_CUSTOMER</th>\n",
              "    </tr>\n",
              "  </thead>\n",
              "  <tbody>\n",
              "    <tr>\n",
              "      <th>0</th>\n",
              "      <td>2018-10-17</td>\n",
              "      <td>1.0</td>\n",
              "      <td>1000.0</td>\n",
              "      <td>1.0</td>\n",
              "      <td>5.0</td>\n",
              "      <td>Natural Chip        Compny SeaSalt175g</td>\n",
              "      <td>2.0</td>\n",
              "      <td>6.0</td>\n",
              "      <td>175.0</td>\n",
              "      <td>Natural</td>\n",
              "      <td>YOUNG SINGLES/COUPLES</td>\n",
              "      <td>Premium</td>\n",
              "    </tr>\n",
              "    <tr>\n",
              "      <th>1</th>\n",
              "      <td>2019-05-14</td>\n",
              "      <td>1.0</td>\n",
              "      <td>1307.0</td>\n",
              "      <td>348.0</td>\n",
              "      <td>66.0</td>\n",
              "      <td>CCs Nacho Cheese    175g</td>\n",
              "      <td>3.0</td>\n",
              "      <td>6.3</td>\n",
              "      <td>175.0</td>\n",
              "      <td>CCs</td>\n",
              "      <td>MIDAGE SINGLES/COUPLES</td>\n",
              "      <td>Budget</td>\n",
              "    </tr>\n",
              "    <tr>\n",
              "      <th>2</th>\n",
              "      <td>2018-11-10</td>\n",
              "      <td>1.0</td>\n",
              "      <td>1307.0</td>\n",
              "      <td>346.0</td>\n",
              "      <td>96.0</td>\n",
              "      <td>WW Original Stacked Chips 160g</td>\n",
              "      <td>2.0</td>\n",
              "      <td>3.8</td>\n",
              "      <td>160.0</td>\n",
              "      <td>WW</td>\n",
              "      <td>MIDAGE SINGLES/COUPLES</td>\n",
              "      <td>Budget</td>\n",
              "    </tr>\n",
              "    <tr>\n",
              "      <th>3</th>\n",
              "      <td>2019-03-09</td>\n",
              "      <td>1.0</td>\n",
              "      <td>1307.0</td>\n",
              "      <td>347.0</td>\n",
              "      <td>54.0</td>\n",
              "      <td>CCs Original 175g</td>\n",
              "      <td>1.0</td>\n",
              "      <td>2.1</td>\n",
              "      <td>175.0</td>\n",
              "      <td>CCs</td>\n",
              "      <td>MIDAGE SINGLES/COUPLES</td>\n",
              "      <td>Budget</td>\n",
              "    </tr>\n",
              "    <tr>\n",
              "      <th>4</th>\n",
              "      <td>2019-05-20</td>\n",
              "      <td>1.0</td>\n",
              "      <td>1343.0</td>\n",
              "      <td>383.0</td>\n",
              "      <td>61.0</td>\n",
              "      <td>Smiths Crinkle Cut  Chips Chicken 170g</td>\n",
              "      <td>2.0</td>\n",
              "      <td>2.9</td>\n",
              "      <td>170.0</td>\n",
              "      <td>Smiths</td>\n",
              "      <td>MIDAGE SINGLES/COUPLES</td>\n",
              "      <td>Budget</td>\n",
              "    </tr>\n",
              "  </tbody>\n",
              "</table>\n",
              "</div>"
            ],
            "text/plain": [
              "        DATE  STORE_NBR  ...               LIFESTAGE  PREMIUM_CUSTOMER\n",
              "0 2018-10-17        1.0  ...   YOUNG SINGLES/COUPLES           Premium\n",
              "1 2019-05-14        1.0  ...  MIDAGE SINGLES/COUPLES            Budget\n",
              "2 2018-11-10        1.0  ...  MIDAGE SINGLES/COUPLES            Budget\n",
              "3 2019-03-09        1.0  ...  MIDAGE SINGLES/COUPLES            Budget\n",
              "4 2019-05-20        1.0  ...  MIDAGE SINGLES/COUPLES            Budget\n",
              "\n",
              "[5 rows x 12 columns]"
            ]
          },
          "metadata": {},
          "execution_count": 300
        }
      ]
    },
    {
      "cell_type": "code",
      "metadata": {
        "id": "F67vKciSKqWU",
        "colab": {
          "base_uri": "https://localhost:8080/"
        },
        "outputId": "121f98ba-0ddb-4321-bd0b-536779edea7e"
      },
      "source": [
        "data.isnull().sum().to_frame()"
      ],
      "execution_count": null,
      "outputs": [
        {
          "output_type": "execute_result",
          "data": {
            "text/html": [
              "<div>\n",
              "<style scoped>\n",
              "    .dataframe tbody tr th:only-of-type {\n",
              "        vertical-align: middle;\n",
              "    }\n",
              "\n",
              "    .dataframe tbody tr th {\n",
              "        vertical-align: top;\n",
              "    }\n",
              "\n",
              "    .dataframe thead th {\n",
              "        text-align: right;\n",
              "    }\n",
              "</style>\n",
              "<table border=\"1\" class=\"dataframe\">\n",
              "  <thead>\n",
              "    <tr style=\"text-align: right;\">\n",
              "      <th></th>\n",
              "      <th>0</th>\n",
              "    </tr>\n",
              "  </thead>\n",
              "  <tbody>\n",
              "    <tr>\n",
              "      <th>DATE</th>\n",
              "      <td>0</td>\n",
              "    </tr>\n",
              "    <tr>\n",
              "      <th>STORE_NBR</th>\n",
              "      <td>0</td>\n",
              "    </tr>\n",
              "    <tr>\n",
              "      <th>LYLTY_CARD_NBR</th>\n",
              "      <td>0</td>\n",
              "    </tr>\n",
              "    <tr>\n",
              "      <th>TXN_ID</th>\n",
              "      <td>0</td>\n",
              "    </tr>\n",
              "    <tr>\n",
              "      <th>PROD_NBR</th>\n",
              "      <td>0</td>\n",
              "    </tr>\n",
              "    <tr>\n",
              "      <th>PROD_NAME</th>\n",
              "      <td>0</td>\n",
              "    </tr>\n",
              "    <tr>\n",
              "      <th>PROD_QTY</th>\n",
              "      <td>0</td>\n",
              "    </tr>\n",
              "    <tr>\n",
              "      <th>TOT_SALES</th>\n",
              "      <td>0</td>\n",
              "    </tr>\n",
              "    <tr>\n",
              "      <th>PROD_SIZE</th>\n",
              "      <td>0</td>\n",
              "    </tr>\n",
              "    <tr>\n",
              "      <th>BRAND</th>\n",
              "      <td>0</td>\n",
              "    </tr>\n",
              "    <tr>\n",
              "      <th>LIFESTAGE</th>\n",
              "      <td>0</td>\n",
              "    </tr>\n",
              "    <tr>\n",
              "      <th>PREMIUM_CUSTOMER</th>\n",
              "      <td>0</td>\n",
              "    </tr>\n",
              "  </tbody>\n",
              "</table>\n",
              "</div>"
            ],
            "text/plain": [
              "                  0\n",
              "DATE              0\n",
              "STORE_NBR         0\n",
              "LYLTY_CARD_NBR    0\n",
              "TXN_ID            0\n",
              "PROD_NBR          0\n",
              "PROD_NAME         0\n",
              "PROD_QTY          0\n",
              "TOT_SALES         0\n",
              "PROD_SIZE         0\n",
              "BRAND             0\n",
              "LIFESTAGE         0\n",
              "PREMIUM_CUSTOMER  0"
            ]
          },
          "metadata": {},
          "execution_count": 301
        }
      ]
    },
    {
      "cell_type": "code",
      "metadata": {
        "id": "aYcScB-UZ7w_",
        "colab": {
          "base_uri": "https://localhost:8080/"
        },
        "outputId": "ac91b73f-15a0-44f3-e0db-ec5a14c0cdc4"
      },
      "source": [
        "missingno.matrix(data)"
      ],
      "execution_count": null,
      "outputs": [
        {
          "output_type": "execute_result",
          "data": {
            "text/plain": [
              "<matplotlib.axes._subplots.AxesSubplot at 0x7f99d6f7b910>"
            ]
          },
          "metadata": {},
          "execution_count": 302
        },
        {
          "output_type": "display_data",
          "data": {
            "image/png": "[encoded data removed]",
            "text/plain": [
              "<Figure size 1800x720 with 2 Axes>"
            ]
          },
          "metadata": {
            "needs_background": "light"
          }
        }
      ]
    },
    {
      "cell_type": "markdown",
      "metadata": {
        "id": "nAhLJ1j8emWd"
      },
      "source": [
        "# Data analysis on customer segments\n",
        "Now that our data is ready for analysis, we can define some metrics of interest to the client:\n",
        "\n",
        "Who spends the most on chips, describing customers by lifestage and how premium their general purchasing behaviour is\n",
        "How many customers are in each segment\n",
        "How many chips are bought per customer by segment\n",
        "What is the average chip price by customer segment"
      ]
    },
    {
      "cell_type": "code",
      "metadata": {
        "id": "ywhMN3goaE9p",
        "colab": {
          "base_uri": "https://localhost:8080/"
        },
        "outputId": "355f5a1e-db82-421a-8738-aaa6ee724a3f"
      },
      "source": [
        "sale = data.groupby(['LIFESTAGE', 'PREMIUM_CUSTOMER'])['TOT_SALES'].sum().to_frame()\n",
        "sale.rename(columns= {'TOT_SALES':'tot_sales'}, inplace = True)\n",
        "sale.sort_values('tot_sales', inplace= False)"
      ],
      "execution_count": null,
      "outputs": [
        {
          "output_type": "execute_result",
          "data": {
            "text/html": [
              "<div>\n",
              "<style scoped>\n",
              "    .dataframe tbody tr th:only-of-type {\n",
              "        vertical-align: middle;\n",
              "    }\n",
              "\n",
              "    .dataframe tbody tr th {\n",
              "        vertical-align: top;\n",
              "    }\n",
              "\n",
              "    .dataframe thead th {\n",
              "        text-align: right;\n",
              "    }\n",
              "</style>\n",
              "<table border=\"1\" class=\"dataframe\">\n",
              "  <thead>\n",
              "    <tr style=\"text-align: right;\">\n",
              "      <th></th>\n",
              "      <th></th>\n",
              "      <th>tot_sales</th>\n",
              "    </tr>\n",
              "    <tr>\n",
              "      <th>LIFESTAGE</th>\n",
              "      <th>PREMIUM_CUSTOMER</th>\n",
              "      <th></th>\n",
              "    </tr>\n",
              "  </thead>\n",
              "  <tbody>\n",
              "    <tr>\n",
              "      <th rowspan=\"3\" valign=\"top\">NEW FAMILIES</th>\n",
              "      <th>Premium</th>\n",
              "      <td>11491.10</td>\n",
              "    </tr>\n",
              "    <tr>\n",
              "      <th>Mainstream</th>\n",
              "      <td>17013.90</td>\n",
              "    </tr>\n",
              "    <tr>\n",
              "      <th>Budget</th>\n",
              "      <td>21928.45</td>\n",
              "    </tr>\n",
              "    <tr>\n",
              "      <th>MIDAGE SINGLES/COUPLES</th>\n",
              "      <th>Budget</th>\n",
              "      <td>35514.80</td>\n",
              "    </tr>\n",
              "    <tr>\n",
              "      <th>YOUNG SINGLES/COUPLES</th>\n",
              "      <th>Premium</th>\n",
              "      <td>41642.10</td>\n",
              "    </tr>\n",
              "    <tr>\n",
              "      <th>MIDAGE SINGLES/COUPLES</th>\n",
              "      <th>Premium</th>\n",
              "      <td>58432.65</td>\n",
              "    </tr>\n",
              "    <tr>\n",
              "      <th>YOUNG SINGLES/COUPLES</th>\n",
              "      <th>Budget</th>\n",
              "      <td>61141.60</td>\n",
              "    </tr>\n",
              "    <tr>\n",
              "      <th>OLDER FAMILIES</th>\n",
              "      <th>Premium</th>\n",
              "      <td>80658.40</td>\n",
              "    </tr>\n",
              "    <tr>\n",
              "      <th>YOUNG FAMILIES</th>\n",
              "      <th>Premium</th>\n",
              "      <td>84025.50</td>\n",
              "    </tr>\n",
              "    <tr>\n",
              "      <th>MIDAGE SINGLES/COUPLES</th>\n",
              "      <th>Mainstream</th>\n",
              "      <td>90803.85</td>\n",
              "    </tr>\n",
              "    <tr>\n",
              "      <th>YOUNG FAMILIES</th>\n",
              "      <th>Mainstream</th>\n",
              "      <td>92788.75</td>\n",
              "    </tr>\n",
              "    <tr>\n",
              "      <th>RETIREES</th>\n",
              "      <th>Premium</th>\n",
              "      <td>97646.05</td>\n",
              "    </tr>\n",
              "    <tr>\n",
              "      <th>OLDER FAMILIES</th>\n",
              "      <th>Mainstream</th>\n",
              "      <td>103445.55</td>\n",
              "    </tr>\n",
              "    <tr>\n",
              "      <th>RETIREES</th>\n",
              "      <th>Budget</th>\n",
              "      <td>113147.80</td>\n",
              "    </tr>\n",
              "    <tr>\n",
              "      <th rowspan=\"3\" valign=\"top\">OLDER SINGLES/COUPLES</th>\n",
              "      <th>Premium</th>\n",
              "      <td>132263.15</td>\n",
              "    </tr>\n",
              "    <tr>\n",
              "      <th>Mainstream</th>\n",
              "      <td>133393.80</td>\n",
              "    </tr>\n",
              "    <tr>\n",
              "      <th>Budget</th>\n",
              "      <td>136769.80</td>\n",
              "    </tr>\n",
              "    <tr>\n",
              "      <th>YOUNG FAMILIES</th>\n",
              "      <th>Budget</th>\n",
              "      <td>139345.85</td>\n",
              "    </tr>\n",
              "    <tr>\n",
              "      <th>RETIREES</th>\n",
              "      <th>Mainstream</th>\n",
              "      <td>155677.05</td>\n",
              "    </tr>\n",
              "    <tr>\n",
              "      <th>YOUNG SINGLES/COUPLES</th>\n",
              "      <th>Mainstream</th>\n",
              "      <td>157621.60</td>\n",
              "    </tr>\n",
              "    <tr>\n",
              "      <th>OLDER FAMILIES</th>\n",
              "      <th>Budget</th>\n",
              "      <td>168363.25</td>\n",
              "    </tr>\n",
              "  </tbody>\n",
              "</table>\n",
              "</div>"
            ],
            "text/plain": [
              "                                         tot_sales\n",
              "LIFESTAGE              PREMIUM_CUSTOMER           \n",
              "NEW FAMILIES           Premium            11491.10\n",
              "                       Mainstream         17013.90\n",
              "                       Budget             21928.45\n",
              "MIDAGE SINGLES/COUPLES Budget             35514.80\n",
              "YOUNG SINGLES/COUPLES  Premium            41642.10\n",
              "MIDAGE SINGLES/COUPLES Premium            58432.65\n",
              "YOUNG SINGLES/COUPLES  Budget             61141.60\n",
              "OLDER FAMILIES         Premium            80658.40\n",
              "YOUNG FAMILIES         Premium            84025.50\n",
              "MIDAGE SINGLES/COUPLES Mainstream         90803.85\n",
              "YOUNG FAMILIES         Mainstream         92788.75\n",
              "RETIREES               Premium            97646.05\n",
              "OLDER FAMILIES         Mainstream        103445.55\n",
              "RETIREES               Budget            113147.80\n",
              "OLDER SINGLES/COUPLES  Premium           132263.15\n",
              "                       Mainstream        133393.80\n",
              "                       Budget            136769.80\n",
              "YOUNG FAMILIES         Budget            139345.85\n",
              "RETIREES               Mainstream        155677.05\n",
              "YOUNG SINGLES/COUPLES  Mainstream        157621.60\n",
              "OLDER FAMILIES         Budget            168363.25"
            ]
          },
          "metadata": {},
          "execution_count": 303
        }
      ]
    },
    {
      "cell_type": "code",
      "metadata": {
        "id": "fgL7w7NVcimb",
        "colab": {
          "base_uri": "https://localhost:8080/"
        },
        "outputId": "8bb31d7c-6676-4759-d533-db8ef97b6681"
      },
      "source": [
        "sale.unstack().plot(kind = 'bar', figsize = (10,7), stacked = True,title = 'Total Sales by Customer Segment')\n",
        "plt.ylabel('Total Sales')"
      ],
      "execution_count": null,
      "outputs": [
        {
          "output_type": "execute_result",
          "data": {
            "text/plain": [
              "Text(0, 0.5, 'Total Sales')"
            ]
          },
          "metadata": {},
          "execution_count": 304
        },
        {
          "output_type": "display_data",
          "data": {
            "image/png": "[encoded data removed]",
            "text/plain": [
              "<Figure size 720x504 with 1 Axes>"
            ]
          },
          "metadata": {
            "needs_background": "light"
          }
        }
      ]
    },
    {
      "cell_type": "markdown",
      "metadata": {
        "id": "-_5SsS6TfQIx"
      },
      "source": [
        "Top 3 sales come from budget older families, mainstream young singles/couples and mainstream retirees.\n",
        "\n"
      ]
    },
    {
      "cell_type": "code",
      "metadata": {
        "id": "MTTov1Sedgvu",
        "colab": {
          "base_uri": "https://localhost:8080/"
        },
        "outputId": "bca07239-b798-492c-a0c2-474cdec06d71"
      },
      "source": [
        "customers = pd.DataFrame(data.groupby(['LIFESTAGE','PREMIUM_CUSTOMER'])['LYLTY_CARD_NBR'].nunique())\n",
        "customers.rename(columns = {'LYLTY_CARD_NBR': 'Number of Customers'}, inplace = True)\n",
        "customers.sort_values(by = 'Number of Customers', ascending = False).head(10)"
      ],
      "execution_count": null,
      "outputs": [
        {
          "output_type": "execute_result",
          "data": {
            "text/html": [
              "<div>\n",
              "<style scoped>\n",
              "    .dataframe tbody tr th:only-of-type {\n",
              "        vertical-align: middle;\n",
              "    }\n",
              "\n",
              "    .dataframe tbody tr th {\n",
              "        vertical-align: top;\n",
              "    }\n",
              "\n",
              "    .dataframe thead th {\n",
              "        text-align: right;\n",
              "    }\n",
              "</style>\n",
              "<table border=\"1\" class=\"dataframe\">\n",
              "  <thead>\n",
              "    <tr style=\"text-align: right;\">\n",
              "      <th></th>\n",
              "      <th></th>\n",
              "      <th>Number of Customers</th>\n",
              "    </tr>\n",
              "    <tr>\n",
              "      <th>LIFESTAGE</th>\n",
              "      <th>PREMIUM_CUSTOMER</th>\n",
              "      <th></th>\n",
              "    </tr>\n",
              "  </thead>\n",
              "  <tbody>\n",
              "    <tr>\n",
              "      <th>YOUNG SINGLES/COUPLES</th>\n",
              "      <th>Mainstream</th>\n",
              "      <td>8088</td>\n",
              "    </tr>\n",
              "    <tr>\n",
              "      <th>RETIREES</th>\n",
              "      <th>Mainstream</th>\n",
              "      <td>6479</td>\n",
              "    </tr>\n",
              "    <tr>\n",
              "      <th rowspan=\"3\" valign=\"top\">OLDER SINGLES/COUPLES</th>\n",
              "      <th>Mainstream</th>\n",
              "      <td>4930</td>\n",
              "    </tr>\n",
              "    <tr>\n",
              "      <th>Budget</th>\n",
              "      <td>4929</td>\n",
              "    </tr>\n",
              "    <tr>\n",
              "      <th>Premium</th>\n",
              "      <td>4750</td>\n",
              "    </tr>\n",
              "    <tr>\n",
              "      <th>OLDER FAMILIES</th>\n",
              "      <th>Budget</th>\n",
              "      <td>4675</td>\n",
              "    </tr>\n",
              "    <tr>\n",
              "      <th>RETIREES</th>\n",
              "      <th>Budget</th>\n",
              "      <td>4454</td>\n",
              "    </tr>\n",
              "    <tr>\n",
              "      <th>YOUNG FAMILIES</th>\n",
              "      <th>Budget</th>\n",
              "      <td>4017</td>\n",
              "    </tr>\n",
              "    <tr>\n",
              "      <th>RETIREES</th>\n",
              "      <th>Premium</th>\n",
              "      <td>3872</td>\n",
              "    </tr>\n",
              "    <tr>\n",
              "      <th>YOUNG SINGLES/COUPLES</th>\n",
              "      <th>Budget</th>\n",
              "      <td>3779</td>\n",
              "    </tr>\n",
              "  </tbody>\n",
              "</table>\n",
              "</div>"
            ],
            "text/plain": [
              "                                        Number of Customers\n",
              "LIFESTAGE             PREMIUM_CUSTOMER                     \n",
              "YOUNG SINGLES/COUPLES Mainstream                       8088\n",
              "RETIREES              Mainstream                       6479\n",
              "OLDER SINGLES/COUPLES Mainstream                       4930\n",
              "                      Budget                           4929\n",
              "                      Premium                          4750\n",
              "OLDER FAMILIES        Budget                           4675\n",
              "RETIREES              Budget                           4454\n",
              "YOUNG FAMILIES        Budget                           4017\n",
              "RETIREES              Premium                          3872\n",
              "YOUNG SINGLES/COUPLES Budget                           3779"
            ]
          },
          "metadata": {},
          "execution_count": 305
        }
      ]
    },
    {
      "cell_type": "code",
      "metadata": {
        "id": "R-Oqq4Z9fnKx",
        "colab": {
          "base_uri": "https://localhost:8080/"
        },
        "outputId": "ee2dd3f1-1f17-42de-e040-bb6c3c533cd1"
      },
      "source": [
        "customers.unstack().plot(kind = 'bar', figsize = (10,7), \n",
        "                         title = 'Number of Customers by Customer Segment')"
      ],
      "execution_count": null,
      "outputs": [
        {
          "output_type": "execute_result",
          "data": {
            "text/plain": [
              "<matplotlib.axes._subplots.AxesSubplot at 0x7f99dc487450>"
            ]
          },
          "metadata": {},
          "execution_count": 306
        },
        {
          "output_type": "display_data",
          "data": {
            "image/png": "[encoded data removed]",
            "text/plain": [
              "<Figure size 720x504 with 1 Axes>"
            ]
          },
          "metadata": {
            "needs_background": "light"
          }
        }
      ]
    },
    {
      "cell_type": "code",
      "metadata": {
        "id": "nHCNvT5Qw2Y5",
        "colab": {
          "base_uri": "https://localhost:8080/"
        },
        "outputId": "150d9cc2-1224-41cc-918e-224275375a80"
      },
      "source": [
        "# Average units per customer by PREMIUM_CUSTOMER and LIFESTAGE\n",
        "\n",
        "avg_units = data.groupby(['PREMIUM_CUSTOMER', 'LIFESTAGE']).PROD_QTY.sum() / data.groupby(['PREMIUM_CUSTOMER', 'LIFESTAGE'])['LYLTY_CARD_NBR'].nunique()\n",
        "avg_units = pd.DataFrame(avg_units, columns = {'Average Unit per Customer'})\n",
        "avg_units.sort_values(by = 'Average Unit per Customer', ascending = False).head()"
      ],
      "execution_count": null,
      "outputs": [
        {
          "output_type": "execute_result",
          "data": {
            "text/html": [
              "<div>\n",
              "<style scoped>\n",
              "    .dataframe tbody tr th:only-of-type {\n",
              "        vertical-align: middle;\n",
              "    }\n",
              "\n",
              "    .dataframe tbody tr th {\n",
              "        vertical-align: top;\n",
              "    }\n",
              "\n",
              "    .dataframe thead th {\n",
              "        text-align: right;\n",
              "    }\n",
              "</style>\n",
              "<table border=\"1\" class=\"dataframe\">\n",
              "  <thead>\n",
              "    <tr style=\"text-align: right;\">\n",
              "      <th></th>\n",
              "      <th></th>\n",
              "      <th>Average Unit per Customer</th>\n",
              "    </tr>\n",
              "    <tr>\n",
              "      <th>PREMIUM_CUSTOMER</th>\n",
              "      <th>LIFESTAGE</th>\n",
              "      <th></th>\n",
              "    </tr>\n",
              "  </thead>\n",
              "  <tbody>\n",
              "    <tr>\n",
              "      <th>Mainstream</th>\n",
              "      <th>OLDER FAMILIES</th>\n",
              "      <td>9.804309</td>\n",
              "    </tr>\n",
              "    <tr>\n",
              "      <th>Budget</th>\n",
              "      <th>OLDER FAMILIES</th>\n",
              "      <td>9.639572</td>\n",
              "    </tr>\n",
              "    <tr>\n",
              "      <th>Premium</th>\n",
              "      <th>OLDER FAMILIES</th>\n",
              "      <td>9.578091</td>\n",
              "    </tr>\n",
              "    <tr>\n",
              "      <th>Budget</th>\n",
              "      <th>YOUNG FAMILIES</th>\n",
              "      <td>9.238486</td>\n",
              "    </tr>\n",
              "    <tr>\n",
              "      <th>Premium</th>\n",
              "      <th>YOUNG FAMILIES</th>\n",
              "      <td>9.209207</td>\n",
              "    </tr>\n",
              "  </tbody>\n",
              "</table>\n",
              "</div>"
            ],
            "text/plain": [
              "                                 Average Unit per Customer\n",
              "PREMIUM_CUSTOMER LIFESTAGE                                \n",
              "Mainstream       OLDER FAMILIES                   9.804309\n",
              "Budget           OLDER FAMILIES                   9.639572\n",
              "Premium          OLDER FAMILIES                   9.578091\n",
              "Budget           YOUNG FAMILIES                   9.238486\n",
              "Premium          YOUNG FAMILIES                   9.209207"
            ]
          },
          "metadata": {},
          "execution_count": 307
        }
      ]
    },
    {
      "cell_type": "code",
      "metadata": {
        "id": "njLAMT4xxSpZ",
        "colab": {
          "base_uri": "https://localhost:8080/"
        },
        "outputId": "a2c40ad2-745f-4df3-d06f-cceb050ee71f"
      },
      "source": [
        "avg_units.unstack().plot(kind = 'bar', figsize = (12, 7), title = 'Average Unit by Customer Segment')\n",
        "plt.ylabel('Average Number of Units')\n",
        "plt.legend(['Budget', 'Mainstream', 'Premium'], loc = 2)"
      ],
      "execution_count": null,
      "outputs": [
        {
          "output_type": "execute_result",
          "data": {
            "text/plain": [
              "<matplotlib.legend.Legend at 0x7f99de42cf10>"
            ]
          },
          "metadata": {},
          "execution_count": 308
        },
        {
          "output_type": "display_data",
          "data": {
            "image/png": "[encoded data removed]",
            "text/plain": [
              "<Figure size 864x504 with 1 Axes>"
            ]
          },
          "metadata": {
            "needs_background": "light"
          }
        }
      ]
    },
    {
      "cell_type": "markdown",
      "metadata": {
        "id": "niuRpFSUtQGo"
      },
      "source": [
        "Older families and young families buy more chips per customer.\n",
        "\n"
      ]
    },
    {
      "cell_type": "code",
      "metadata": {
        "colab": {
          "base_uri": "https://localhost:8080/"
        },
        "id": "vjdFC0f_mDma",
        "outputId": "c9f53c05-a189-43c8-e085-3b8f8a691f46"
      },
      "source": [
        "# Average price per unit by PREMIUM_CUSTOMER and LIFESTAGE\n",
        "avg_price = data.groupby(['PREMIUM_CUSTOMER', 'LIFESTAGE']).TOT_SALES.sum() /data.groupby(['PREMIUM_CUSTOMER', 'LIFESTAGE']).PROD_QTY.sum()\n",
        "avg_price = pd.DataFrame(avg_price, columns = {'Price per Unit'})\n",
        "avg_price.sort_values(by = 'Price per Unit', ascending = False).head()"
      ],
      "execution_count": null,
      "outputs": [
        {
          "output_type": "execute_result",
          "data": {
            "text/html": [
              "<div>\n",
              "<style scoped>\n",
              "    .dataframe tbody tr th:only-of-type {\n",
              "        vertical-align: middle;\n",
              "    }\n",
              "\n",
              "    .dataframe tbody tr th {\n",
              "        vertical-align: top;\n",
              "    }\n",
              "\n",
              "    .dataframe thead th {\n",
              "        text-align: right;\n",
              "    }\n",
              "</style>\n",
              "<table border=\"1\" class=\"dataframe\">\n",
              "  <thead>\n",
              "    <tr style=\"text-align: right;\">\n",
              "      <th></th>\n",
              "      <th></th>\n",
              "      <th>Price per Unit</th>\n",
              "    </tr>\n",
              "    <tr>\n",
              "      <th>PREMIUM_CUSTOMER</th>\n",
              "      <th>LIFESTAGE</th>\n",
              "      <th></th>\n",
              "    </tr>\n",
              "  </thead>\n",
              "  <tbody>\n",
              "    <tr>\n",
              "      <th rowspan=\"3\" valign=\"top\">Mainstream</th>\n",
              "      <th>YOUNG SINGLES/COUPLES</th>\n",
              "      <td>4.080079</td>\n",
              "    </tr>\n",
              "    <tr>\n",
              "      <th>MIDAGE SINGLES/COUPLES</th>\n",
              "      <td>4.000346</td>\n",
              "    </tr>\n",
              "    <tr>\n",
              "      <th>NEW FAMILIES</th>\n",
              "      <td>3.939315</td>\n",
              "    </tr>\n",
              "    <tr>\n",
              "      <th rowspan=\"2\" valign=\"top\">Budget</th>\n",
              "      <th>NEW FAMILIES</th>\n",
              "      <td>3.936178</td>\n",
              "    </tr>\n",
              "    <tr>\n",
              "      <th>RETIREES</th>\n",
              "      <td>3.933660</td>\n",
              "    </tr>\n",
              "  </tbody>\n",
              "</table>\n",
              "</div>"
            ],
            "text/plain": [
              "                                         Price per Unit\n",
              "PREMIUM_CUSTOMER LIFESTAGE                             \n",
              "Mainstream       YOUNG SINGLES/COUPLES         4.080079\n",
              "                 MIDAGE SINGLES/COUPLES        4.000346\n",
              "                 NEW FAMILIES                  3.939315\n",
              "Budget           NEW FAMILIES                  3.936178\n",
              "                 RETIREES                      3.933660"
            ]
          },
          "metadata": {},
          "execution_count": 309
        }
      ]
    },
    {
      "cell_type": "code",
      "metadata": {
        "colab": {
          "base_uri": "https://localhost:8080/"
        },
        "id": "rSsY3YnBtruI",
        "outputId": "71dd4303-7758-4920-89f7-88ec1b1a0868"
      },
      "source": [
        "avg_price.unstack().plot(kind = 'bar', figsize = (12, 7), title = 'Average Price by Customer Segment', ylim = (0, 6))\n",
        "plt.ylabel('Average Price')\n",
        "plt.legend(['Budget', 'Mainstream', 'Premium'], loc = 2)"
      ],
      "execution_count": null,
      "outputs": [
        {
          "output_type": "execute_result",
          "data": {
            "text/plain": [
              "<matplotlib.legend.Legend at 0x7f99d8cb9590>"
            ]
          },
          "metadata": {},
          "execution_count": 310
        },
        {
          "output_type": "display_data",
          "data": {
            "image/png": "[encoded data removed]",
            "text/plain": [
              "<Figure size 864x504 with 1 Axes>"
            ]
          },
          "metadata": {
            "needs_background": "light"
          }
        }
      ]
    },
    {
      "cell_type": "markdown",
      "metadata": {
        "id": "KUvKHeB6t8so"
      },
      "source": [
        "\n",
        "Mainstream midage and young singles and couples are more willing to pay more per packet of chips compared to their budget and premium counterparts. This may be due to premium shoppers being more likely to buy healthy snacks and when they do buy chips, it is mainly for entertainment purposes rather than their own consumption. This is also supported by there being fewer premium midage and young singles and couples buying chips compared to their mainstream counterparts."
      ]
    },
    {
      "cell_type": "markdown",
      "metadata": {
        "id": "4f1BA6RBwGhr"
      },
      "source": [
        "#creat price unit to make anlysis to undersatnd more about which life stage is most buy in minstream \n"
      ]
    },
    {
      "cell_type": "code",
      "metadata": {
        "colab": {
          "base_uri": "https://localhost:8080/"
        },
        "id": "lGWauJ7fuBFg",
        "outputId": "39482f90-4e5a-4c9b-cce1-1b8826d5f553"
      },
      "source": [
        "pricePerUnit = data\n",
        "pricePerUnit['unit price'] = price_unit['TOT_SALES']/pricePerUnit['PROD_QTY']\n",
        "pricePerUnit.head()"
      ],
      "execution_count": null,
      "outputs": [
        {
          "output_type": "execute_result",
          "data": {
            "text/html": [
              "<div>\n",
              "<style scoped>\n",
              "    .dataframe tbody tr th:only-of-type {\n",
              "        vertical-align: middle;\n",
              "    }\n",
              "\n",
              "    .dataframe tbody tr th {\n",
              "        vertical-align: top;\n",
              "    }\n",
              "\n",
              "    .dataframe thead th {\n",
              "        text-align: right;\n",
              "    }\n",
              "</style>\n",
              "<table border=\"1\" class=\"dataframe\">\n",
              "  <thead>\n",
              "    <tr style=\"text-align: right;\">\n",
              "      <th></th>\n",
              "      <th>DATE</th>\n",
              "      <th>STORE_NBR</th>\n",
              "      <th>LYLTY_CARD_NBR</th>\n",
              "      <th>TXN_ID</th>\n",
              "      <th>PROD_NBR</th>\n",
              "      <th>PROD_NAME</th>\n",
              "      <th>PROD_QTY</th>\n",
              "      <th>TOT_SALES</th>\n",
              "      <th>PROD_SIZE</th>\n",
              "      <th>BRAND</th>\n",
              "      <th>LIFESTAGE</th>\n",
              "      <th>PREMIUM_CUSTOMER</th>\n",
              "      <th>unit price</th>\n",
              "    </tr>\n",
              "  </thead>\n",
              "  <tbody>\n",
              "    <tr>\n",
              "      <th>0</th>\n",
              "      <td>2018-10-17</td>\n",
              "      <td>1.0</td>\n",
              "      <td>1000.0</td>\n",
              "      <td>1.0</td>\n",
              "      <td>5.0</td>\n",
              "      <td>Natural Chip        Compny SeaSalt175g</td>\n",
              "      <td>2.0</td>\n",
              "      <td>6.0</td>\n",
              "      <td>175.0</td>\n",
              "      <td>Natural</td>\n",
              "      <td>YOUNG SINGLES/COUPLES</td>\n",
              "      <td>Premium</td>\n",
              "      <td>3.00</td>\n",
              "    </tr>\n",
              "    <tr>\n",
              "      <th>1</th>\n",
              "      <td>2019-05-14</td>\n",
              "      <td>1.0</td>\n",
              "      <td>1307.0</td>\n",
              "      <td>348.0</td>\n",
              "      <td>66.0</td>\n",
              "      <td>CCs Nacho Cheese    175g</td>\n",
              "      <td>3.0</td>\n",
              "      <td>6.3</td>\n",
              "      <td>175.0</td>\n",
              "      <td>CCs</td>\n",
              "      <td>MIDAGE SINGLES/COUPLES</td>\n",
              "      <td>Budget</td>\n",
              "      <td>2.10</td>\n",
              "    </tr>\n",
              "    <tr>\n",
              "      <th>2</th>\n",
              "      <td>2018-11-10</td>\n",
              "      <td>1.0</td>\n",
              "      <td>1307.0</td>\n",
              "      <td>346.0</td>\n",
              "      <td>96.0</td>\n",
              "      <td>WW Original Stacked Chips 160g</td>\n",
              "      <td>2.0</td>\n",
              "      <td>3.8</td>\n",
              "      <td>160.0</td>\n",
              "      <td>WW</td>\n",
              "      <td>MIDAGE SINGLES/COUPLES</td>\n",
              "      <td>Budget</td>\n",
              "      <td>1.90</td>\n",
              "    </tr>\n",
              "    <tr>\n",
              "      <th>3</th>\n",
              "      <td>2019-03-09</td>\n",
              "      <td>1.0</td>\n",
              "      <td>1307.0</td>\n",
              "      <td>347.0</td>\n",
              "      <td>54.0</td>\n",
              "      <td>CCs Original 175g</td>\n",
              "      <td>1.0</td>\n",
              "      <td>2.1</td>\n",
              "      <td>175.0</td>\n",
              "      <td>CCs</td>\n",
              "      <td>MIDAGE SINGLES/COUPLES</td>\n",
              "      <td>Budget</td>\n",
              "      <td>2.10</td>\n",
              "    </tr>\n",
              "    <tr>\n",
              "      <th>4</th>\n",
              "      <td>2019-05-20</td>\n",
              "      <td>1.0</td>\n",
              "      <td>1343.0</td>\n",
              "      <td>383.0</td>\n",
              "      <td>61.0</td>\n",
              "      <td>Smiths Crinkle Cut  Chips Chicken 170g</td>\n",
              "      <td>2.0</td>\n",
              "      <td>2.9</td>\n",
              "      <td>170.0</td>\n",
              "      <td>Smiths</td>\n",
              "      <td>MIDAGE SINGLES/COUPLES</td>\n",
              "      <td>Budget</td>\n",
              "      <td>1.45</td>\n",
              "    </tr>\n",
              "  </tbody>\n",
              "</table>\n",
              "</div>"
            ],
            "text/plain": [
              "        DATE  STORE_NBR  ...  PREMIUM_CUSTOMER  unit price\n",
              "0 2018-10-17        1.0  ...           Premium        3.00\n",
              "1 2019-05-14        1.0  ...            Budget        2.10\n",
              "2 2018-11-10        1.0  ...            Budget        1.90\n",
              "3 2019-03-09        1.0  ...            Budget        2.10\n",
              "4 2019-05-20        1.0  ...            Budget        1.45\n",
              "\n",
              "[5 rows x 13 columns]"
            ]
          },
          "metadata": {},
          "execution_count": 311
        }
      ]
    },
    {
      "cell_type": "code",
      "metadata": {
        "id": "tz7Ag9KNvkt_"
      },
      "source": [
        " #Let's group our data into mainstream and non-mainstream\n",
        "\n",
        "mainstream=pricePerUnit.loc[(pricePerUnit['PREMIUM_CUSTOMER']=='Mainstream')&( (pricePerUnit['LIFESTAGE']=='YOUNG SINGLES/COUPLES')|(pricePerUnit['LIFESTAGE']=='MIDAGE SINGLES/COUPLES') ),'unit price']\n",
        "\n",
        "nonMainstream=pricePerUnit.loc[(pricePerUnit['PREMIUM_CUSTOMER']!='Mainstream')&( (pricePerUnit['LIFESTAGE']=='YOUNG SINGLES/COUPLES')|(pricePerUnit['LIFESTAGE']=='MIDAGE SINGLES/COUPLES') ),'unit price']"
      ],
      "execution_count": null,
      "outputs": []
    },
    {
      "cell_type": "code",
      "metadata": {
        "colab": {
          "base_uri": "https://localhost:8080/"
        },
        "id": "Cgxz0Nay25fL",
        "outputId": "1313191a-f303-4600-ff37-0bf78f54c031"
      },
      "source": [
        "mainstream.head()"
      ],
      "execution_count": null,
      "outputs": [
        {
          "output_type": "execute_result",
          "data": {
            "text/plain": [
              "5021    4.4\n",
              "5022    5.4\n",
              "5023    3.7\n",
              "5024    4.4\n",
              "5025    4.6\n",
              "Name: unit price, dtype: float64"
            ]
          },
          "metadata": {},
          "execution_count": 313
        }
      ]
    },
    {
      "cell_type": "code",
      "metadata": {
        "colab": {
          "base_uri": "https://localhost:8080/"
        },
        "id": "AsaqrEIe0Tfb",
        "outputId": "14289628-3ae7-4eac-e5d3-46b035a335a0"
      },
      "source": [
        "# Compare histograms of mainstream and non-mainstream customers\n",
        "\n",
        "plt.figure(figsize = (10, 5))\n",
        "plt.hist(mainstream, label = 'Mainstream')\n",
        "plt.hist(nonMainstream, label = 'Premium & Budget')\n",
        "plt.legend()\n",
        "plt.xlabel('Price per Unit')"
      ],
      "execution_count": null,
      "outputs": [
        {
          "output_type": "execute_result",
          "data": {
            "text/plain": [
              "Text(0.5, 0, 'Price per Unit')"
            ]
          },
          "metadata": {},
          "execution_count": 314
        },
        {
          "output_type": "display_data",
          "data": {
            "image/png": "[encoded data removed]",
            "text/plain": [
              "<Figure size 720x360 with 1 Axes>"
            ]
          },
          "metadata": {
            "needs_background": "light"
          }
        }
      ]
    },
    {
      "cell_type": "code",
      "metadata": {
        "colab": {
          "base_uri": "https://localhost:8080/"
        },
        "id": "mEXUh5aS0ryr",
        "outputId": "b9203a08-bf59-4f50-ed90-acba25471cfd"
      },
      "source": [
        "\n",
        "print(\"Mainstream average price per unit: ${:.2f}\".format(np.mean(mainstream)))\n",
        "print(\"Non-mainstream average price per unit: ${:.2f}\".format(np.mean(nonMainstream)))\n",
        "if np.mean(mainstream) > np.mean(nonMainstream):\n",
        "    print(\"Mainstream customers have higher average price per unit. \")\n",
        "else:\n",
        "    print(\"Non-mainstream customers have a higher average price per unit. \")"
      ],
      "execution_count": null,
      "outputs": [
        {
          "output_type": "stream",
          "name": "stdout",
          "text": [
            "Mainstream average price per unit: $4.05\n",
            "Non-mainstream average price per unit: $3.69\n",
            "Mainstream customers have higher average price per unit. \n"
          ]
        }
      ]
    },
    {
      "cell_type": "markdown",
      "metadata": {
        "id": "x4fu77wi0-ua"
      },
      "source": [
        "Mainstream customers have higher average price per unit than that of non-mainstream customers.\n",
        "\n"
      ]
    },
    {
      "cell_type": "markdown",
      "metadata": {
        "id": "J8426FXJ0_5_"
      },
      "source": [
        "we might want to target customers segments that contribute the most to sales to retain them to further increase sales. Let's examine mainstream young singles/couples against the rest of the cutomer segments to see if they prefer any particular brand of chips."
      ]
    },
    {
      "cell_type": "code",
      "metadata": {
        "colab": {
          "base_uri": "https://localhost:8080/"
        },
        "id": "MZW0dI-61Evf",
        "outputId": "7142f7cb-faf8-4884-a6ae-6bc010a6d644"
      },
      "source": [
        "target = data.loc[(data['LIFESTAGE'] == 'YOUNG SINGLES/COUPLES') & (data['PREMIUM_CUSTOMER'] == 'Mainstream'), :]\n",
        "nonTarget = data.loc[(data['LIFESTAGE'] != 'YOUNG SINGLES/COUPLES' ) & (data['PREMIUM_CUSTOMER'] != 'Mainstream'), :]\n",
        "target.head()"
      ],
      "execution_count": null,
      "outputs": [
        {
          "output_type": "execute_result",
          "data": {
            "text/html": [
              "<div>\n",
              "<style scoped>\n",
              "    .dataframe tbody tr th:only-of-type {\n",
              "        vertical-align: middle;\n",
              "    }\n",
              "\n",
              "    .dataframe tbody tr th {\n",
              "        vertical-align: top;\n",
              "    }\n",
              "\n",
              "    .dataframe thead th {\n",
              "        text-align: right;\n",
              "    }\n",
              "</style>\n",
              "<table border=\"1\" class=\"dataframe\">\n",
              "  <thead>\n",
              "    <tr style=\"text-align: right;\">\n",
              "      <th></th>\n",
              "      <th>DATE</th>\n",
              "      <th>STORE_NBR</th>\n",
              "      <th>LYLTY_CARD_NBR</th>\n",
              "      <th>TXN_ID</th>\n",
              "      <th>PROD_NBR</th>\n",
              "      <th>PROD_NAME</th>\n",
              "      <th>PROD_QTY</th>\n",
              "      <th>TOT_SALES</th>\n",
              "      <th>PROD_SIZE</th>\n",
              "      <th>BRAND</th>\n",
              "      <th>LIFESTAGE</th>\n",
              "      <th>PREMIUM_CUSTOMER</th>\n",
              "      <th>unit price</th>\n",
              "    </tr>\n",
              "  </thead>\n",
              "  <tbody>\n",
              "    <tr>\n",
              "      <th>237700</th>\n",
              "      <td>2018-08-16</td>\n",
              "      <td>1.0</td>\n",
              "      <td>1020.0</td>\n",
              "      <td>26.0</td>\n",
              "      <td>19.0</td>\n",
              "      <td>Smiths Crinkle Cut  SnagSauce 150g</td>\n",
              "      <td>1.0</td>\n",
              "      <td>2.6</td>\n",
              "      <td>150.0</td>\n",
              "      <td>Smiths</td>\n",
              "      <td>YOUNG SINGLES/COUPLES</td>\n",
              "      <td>Mainstream</td>\n",
              "      <td>2.6</td>\n",
              "    </tr>\n",
              "    <tr>\n",
              "      <th>237701</th>\n",
              "      <td>2018-10-02</td>\n",
              "      <td>1.0</td>\n",
              "      <td>1020.0</td>\n",
              "      <td>27.0</td>\n",
              "      <td>7.0</td>\n",
              "      <td>Smiths Crinkle      Original 330g</td>\n",
              "      <td>1.0</td>\n",
              "      <td>5.7</td>\n",
              "      <td>330.0</td>\n",
              "      <td>Smiths</td>\n",
              "      <td>YOUNG SINGLES/COUPLES</td>\n",
              "      <td>Mainstream</td>\n",
              "      <td>5.7</td>\n",
              "    </tr>\n",
              "    <tr>\n",
              "      <th>237702</th>\n",
              "      <td>2019-05-02</td>\n",
              "      <td>1.0</td>\n",
              "      <td>1020.0</td>\n",
              "      <td>28.0</td>\n",
              "      <td>84.0</td>\n",
              "      <td>GrnWves Plus Btroot  Chilli Jam 180g</td>\n",
              "      <td>1.0</td>\n",
              "      <td>3.1</td>\n",
              "      <td>180.0</td>\n",
              "      <td>GrnWves</td>\n",
              "      <td>YOUNG SINGLES/COUPLES</td>\n",
              "      <td>Mainstream</td>\n",
              "      <td>3.1</td>\n",
              "    </tr>\n",
              "    <tr>\n",
              "      <th>237703</th>\n",
              "      <td>2018-08-17</td>\n",
              "      <td>1.0</td>\n",
              "      <td>1163.0</td>\n",
              "      <td>188.0</td>\n",
              "      <td>46.0</td>\n",
              "      <td>Kettle Original 175g</td>\n",
              "      <td>1.0</td>\n",
              "      <td>5.4</td>\n",
              "      <td>175.0</td>\n",
              "      <td>Kettle</td>\n",
              "      <td>YOUNG SINGLES/COUPLES</td>\n",
              "      <td>Mainstream</td>\n",
              "      <td>5.4</td>\n",
              "    </tr>\n",
              "    <tr>\n",
              "      <th>237704</th>\n",
              "      <td>2019-02-07</td>\n",
              "      <td>1.0</td>\n",
              "      <td>1163.0</td>\n",
              "      <td>189.0</td>\n",
              "      <td>12.0</td>\n",
              "      <td>Natural Chip Co     Tmato HrbSpce 175g</td>\n",
              "      <td>1.0</td>\n",
              "      <td>3.0</td>\n",
              "      <td>175.0</td>\n",
              "      <td>Natural</td>\n",
              "      <td>YOUNG SINGLES/COUPLES</td>\n",
              "      <td>Mainstream</td>\n",
              "      <td>3.0</td>\n",
              "    </tr>\n",
              "  </tbody>\n",
              "</table>\n",
              "</div>"
            ],
            "text/plain": [
              "             DATE  STORE_NBR  ...  PREMIUM_CUSTOMER  unit price\n",
              "237700 2018-08-16        1.0  ...        Mainstream         2.6\n",
              "237701 2018-10-02        1.0  ...        Mainstream         5.7\n",
              "237702 2019-05-02        1.0  ...        Mainstream         3.1\n",
              "237703 2018-08-17        1.0  ...        Mainstream         5.4\n",
              "237704 2019-02-07        1.0  ...        Mainstream         3.0\n",
              "\n",
              "[5 rows x 13 columns]"
            ]
          },
          "metadata": {},
          "execution_count": 316
        }
      ]
    },
    {
      "cell_type": "markdown",
      "metadata": {
        "id": "zGb3PQzA3s_w"
      },
      "source": [
        "# Affinity to brand"
      ]
    },
    {
      "cell_type": "code",
      "metadata": {
        "id": "gRhlYOTB1ioF"
      },
      "source": [
        "# Target Segment\n",
        "targetBrand = target.loc[:, ['BRAND', 'PROD_QTY']]\n",
        "targetSum = targetBrand['PROD_QTY'].sum()\n",
        "targetBrand['Target Brand Affinity'] = targetBrand['PROD_QTY'] / targetSum\n",
        "targetBrand = pd.DataFrame(targetBrand.groupby('BRAND')['Target Brand Affinity'].sum())\n",
        "\n",
        "# Non-target segment\n",
        "nonTargetBrand = nonTarget.loc[:, ['BRAND', 'PROD_QTY']]\n",
        "nonTargetSum = nonTargetBrand['PROD_QTY'].sum()\n",
        "nonTargetBrand['Non-Target Brand Affinity'] = nonTargetBrand['PROD_QTY'] / nonTargetSum\n",
        "nonTargetBrand = pd.DataFrame(nonTargetBrand.groupby('BRAND')['Non-Target Brand Affinity'].sum())"
      ],
      "execution_count": null,
      "outputs": []
    },
    {
      "cell_type": "code",
      "metadata": {
        "colab": {
          "base_uri": "https://localhost:8080/"
        },
        "id": "bSL70J8O3bBV",
        "outputId": "6e3d336f-7074-4bd9-c5dc-ccfe543191b8"
      },
      "source": [
        "targetBrand.head()\n"
      ],
      "execution_count": null,
      "outputs": [
        {
          "output_type": "execute_result",
          "data": {
            "text/html": [
              "<div>\n",
              "<style scoped>\n",
              "    .dataframe tbody tr th:only-of-type {\n",
              "        vertical-align: middle;\n",
              "    }\n",
              "\n",
              "    .dataframe tbody tr th {\n",
              "        vertical-align: top;\n",
              "    }\n",
              "\n",
              "    .dataframe thead th {\n",
              "        text-align: right;\n",
              "    }\n",
              "</style>\n",
              "<table border=\"1\" class=\"dataframe\">\n",
              "  <thead>\n",
              "    <tr style=\"text-align: right;\">\n",
              "      <th></th>\n",
              "      <th>Target Brand Affinity</th>\n",
              "    </tr>\n",
              "    <tr>\n",
              "      <th>BRAND</th>\n",
              "      <th></th>\n",
              "    </tr>\n",
              "  </thead>\n",
              "  <tbody>\n",
              "    <tr>\n",
              "      <th>Burger</th>\n",
              "      <td>0.002744</td>\n",
              "    </tr>\n",
              "    <tr>\n",
              "      <th>CCs</th>\n",
              "      <td>0.010484</td>\n",
              "    </tr>\n",
              "    <tr>\n",
              "      <th>Cheetos</th>\n",
              "      <td>0.007533</td>\n",
              "    </tr>\n",
              "    <tr>\n",
              "      <th>Cheezels</th>\n",
              "      <td>0.016851</td>\n",
              "    </tr>\n",
              "    <tr>\n",
              "      <th>Cobs</th>\n",
              "      <td>0.041856</td>\n",
              "    </tr>\n",
              "  </tbody>\n",
              "</table>\n",
              "</div>"
            ],
            "text/plain": [
              "          Target Brand Affinity\n",
              "BRAND                          \n",
              "Burger                 0.002744\n",
              "CCs                    0.010484\n",
              "Cheetos                0.007533\n",
              "Cheezels               0.016851\n",
              "Cobs                   0.041856"
            ]
          },
          "metadata": {},
          "execution_count": 318
        }
      ]
    },
    {
      "cell_type": "code",
      "metadata": {
        "colab": {
          "base_uri": "https://localhost:8080/"
        },
        "id": "Ec7YNh9A4Dab",
        "outputId": "c6d2e63a-afe8-420b-a2b8-6a382cd08199"
      },
      "source": [
        "# Merge the two dataframes together\n",
        "\n",
        "brand_proportions = pd.merge(targetBrand, nonTargetBrand, left_index = True, right_index = True)\n",
        "brand_proportions.head()\n"
      ],
      "execution_count": null,
      "outputs": [
        {
          "output_type": "execute_result",
          "data": {
            "text/html": [
              "<div>\n",
              "<style scoped>\n",
              "    .dataframe tbody tr th:only-of-type {\n",
              "        vertical-align: middle;\n",
              "    }\n",
              "\n",
              "    .dataframe tbody tr th {\n",
              "        vertical-align: top;\n",
              "    }\n",
              "\n",
              "    .dataframe thead th {\n",
              "        text-align: right;\n",
              "    }\n",
              "</style>\n",
              "<table border=\"1\" class=\"dataframe\">\n",
              "  <thead>\n",
              "    <tr style=\"text-align: right;\">\n",
              "      <th></th>\n",
              "      <th>Target Brand Affinity</th>\n",
              "      <th>Non-Target Brand Affinity</th>\n",
              "    </tr>\n",
              "    <tr>\n",
              "      <th>BRAND</th>\n",
              "      <th></th>\n",
              "      <th></th>\n",
              "    </tr>\n",
              "  </thead>\n",
              "  <tbody>\n",
              "    <tr>\n",
              "      <th>Burger</th>\n",
              "      <td>0.002744</td>\n",
              "      <td>0.006094</td>\n",
              "    </tr>\n",
              "    <tr>\n",
              "      <th>CCs</th>\n",
              "      <td>0.010484</td>\n",
              "      <td>0.017191</td>\n",
              "    </tr>\n",
              "    <tr>\n",
              "      <th>Cheetos</th>\n",
              "      <td>0.007533</td>\n",
              "      <td>0.010960</td>\n",
              "    </tr>\n",
              "    <tr>\n",
              "      <th>Cheezels</th>\n",
              "      <td>0.016851</td>\n",
              "      <td>0.017619</td>\n",
              "    </tr>\n",
              "    <tr>\n",
              "      <th>Cobs</th>\n",
              "      <td>0.041856</td>\n",
              "      <td>0.035836</td>\n",
              "    </tr>\n",
              "  </tbody>\n",
              "</table>\n",
              "</div>"
            ],
            "text/plain": [
              "          Target Brand Affinity  Non-Target Brand Affinity\n",
              "BRAND                                                     \n",
              "Burger                 0.002744                   0.006094\n",
              "CCs                    0.010484                   0.017191\n",
              "Cheetos                0.007533                   0.010960\n",
              "Cheezels               0.016851                   0.017619\n",
              "Cobs                   0.041856                   0.035836"
            ]
          },
          "metadata": {},
          "execution_count": 319
        }
      ]
    },
    {
      "cell_type": "code",
      "metadata": {
        "colab": {
          "base_uri": "https://localhost:8080/"
        },
        "id": "XdXnlkzH4M91",
        "outputId": "c68041e6-a830-43e4-c000-14f2bb2090c2"
      },
      "source": [
        "brand_proportions['Affinity to Brand'] = brand_proportions['Target Brand Affinity'] / brand_proportions['Non-Target Brand Affinity']\n",
        "brand_proportions.sort_values(by = 'Affinity to Brand', ascending = False)"
      ],
      "execution_count": null,
      "outputs": [
        {
          "output_type": "execute_result",
          "data": {
            "text/html": [
              "<div>\n",
              "<style scoped>\n",
              "    .dataframe tbody tr th:only-of-type {\n",
              "        vertical-align: middle;\n",
              "    }\n",
              "\n",
              "    .dataframe tbody tr th {\n",
              "        vertical-align: top;\n",
              "    }\n",
              "\n",
              "    .dataframe thead th {\n",
              "        text-align: right;\n",
              "    }\n",
              "</style>\n",
              "<table border=\"1\" class=\"dataframe\">\n",
              "  <thead>\n",
              "    <tr style=\"text-align: right;\">\n",
              "      <th></th>\n",
              "      <th>Target Brand Affinity</th>\n",
              "      <th>Non-Target Brand Affinity</th>\n",
              "      <th>Affinity to Brand</th>\n",
              "    </tr>\n",
              "    <tr>\n",
              "      <th>BRAND</th>\n",
              "      <th></th>\n",
              "      <th></th>\n",
              "      <th></th>\n",
              "    </tr>\n",
              "  </thead>\n",
              "  <tbody>\n",
              "    <tr>\n",
              "      <th>Tyrrells</th>\n",
              "      <td>0.029587</td>\n",
              "      <td>0.023968</td>\n",
              "      <td>1.234454</td>\n",
              "    </tr>\n",
              "    <tr>\n",
              "      <th>Twisties</th>\n",
              "      <td>0.043306</td>\n",
              "      <td>0.035355</td>\n",
              "      <td>1.224877</td>\n",
              "    </tr>\n",
              "    <tr>\n",
              "      <th>Kettle</th>\n",
              "      <td>0.185649</td>\n",
              "      <td>0.155243</td>\n",
              "      <td>1.195863</td>\n",
              "    </tr>\n",
              "    <tr>\n",
              "      <th>Tostitos</th>\n",
              "      <td>0.042581</td>\n",
              "      <td>0.035744</td>\n",
              "      <td>1.191269</td>\n",
              "    </tr>\n",
              "    <tr>\n",
              "      <th>Old</th>\n",
              "      <td>0.041598</td>\n",
              "      <td>0.034931</td>\n",
              "      <td>1.190850</td>\n",
              "    </tr>\n",
              "    <tr>\n",
              "      <th>Pringles</th>\n",
              "      <td>0.111980</td>\n",
              "      <td>0.094240</td>\n",
              "      <td>1.188241</td>\n",
              "    </tr>\n",
              "    <tr>\n",
              "      <th>Grainwaves</th>\n",
              "      <td>0.027309</td>\n",
              "      <td>0.023200</td>\n",
              "      <td>1.177104</td>\n",
              "    </tr>\n",
              "    <tr>\n",
              "      <th>Cobs</th>\n",
              "      <td>0.041856</td>\n",
              "      <td>0.035836</td>\n",
              "      <td>1.167987</td>\n",
              "    </tr>\n",
              "    <tr>\n",
              "      <th>Doritos</th>\n",
              "      <td>0.122877</td>\n",
              "      <td>0.105278</td>\n",
              "      <td>1.167174</td>\n",
              "    </tr>\n",
              "    <tr>\n",
              "      <th>Infuzions</th>\n",
              "      <td>0.060649</td>\n",
              "      <td>0.053509</td>\n",
              "      <td>1.133443</td>\n",
              "    </tr>\n",
              "    <tr>\n",
              "      <th>Thins</th>\n",
              "      <td>0.056611</td>\n",
              "      <td>0.053275</td>\n",
              "      <td>1.062612</td>\n",
              "    </tr>\n",
              "    <tr>\n",
              "      <th>Cheezels</th>\n",
              "      <td>0.016851</td>\n",
              "      <td>0.017619</td>\n",
              "      <td>0.956409</td>\n",
              "    </tr>\n",
              "    <tr>\n",
              "      <th>Smiths</th>\n",
              "      <td>0.093420</td>\n",
              "      <td>0.121327</td>\n",
              "      <td>0.769986</td>\n",
              "    </tr>\n",
              "    <tr>\n",
              "      <th>French</th>\n",
              "      <td>0.003702</td>\n",
              "      <td>0.005319</td>\n",
              "      <td>0.695912</td>\n",
              "    </tr>\n",
              "    <tr>\n",
              "      <th>Cheetos</th>\n",
              "      <td>0.007533</td>\n",
              "      <td>0.010960</td>\n",
              "      <td>0.687286</td>\n",
              "    </tr>\n",
              "    <tr>\n",
              "      <th>Red Rock Deli</th>\n",
              "      <td>0.015350</td>\n",
              "      <td>0.022737</td>\n",
              "      <td>0.675115</td>\n",
              "    </tr>\n",
              "    <tr>\n",
              "      <th>RRD</th>\n",
              "      <td>0.030027</td>\n",
              "      <td>0.045573</td>\n",
              "      <td>0.658880</td>\n",
              "    </tr>\n",
              "    <tr>\n",
              "      <th>Natural</th>\n",
              "      <td>0.014962</td>\n",
              "      <td>0.023207</td>\n",
              "      <td>0.644700</td>\n",
              "    </tr>\n",
              "    <tr>\n",
              "      <th>CCs</th>\n",
              "      <td>0.010484</td>\n",
              "      <td>0.017191</td>\n",
              "      <td>0.609811</td>\n",
              "    </tr>\n",
              "    <tr>\n",
              "      <th>NCC</th>\n",
              "      <td>0.003417</td>\n",
              "      <td>0.005648</td>\n",
              "      <td>0.604972</td>\n",
              "    </tr>\n",
              "    <tr>\n",
              "      <th>GrnWves</th>\n",
              "      <td>0.003365</td>\n",
              "      <td>0.005758</td>\n",
              "      <td>0.584460</td>\n",
              "    </tr>\n",
              "    <tr>\n",
              "      <th>Sunbites</th>\n",
              "      <td>0.005954</td>\n",
              "      <td>0.011756</td>\n",
              "      <td>0.506446</td>\n",
              "    </tr>\n",
              "    <tr>\n",
              "      <th>WW</th>\n",
              "      <td>0.019932</td>\n",
              "      <td>0.039759</td>\n",
              "      <td>0.501318</td>\n",
              "    </tr>\n",
              "    <tr>\n",
              "      <th>Woolworths</th>\n",
              "      <td>0.008257</td>\n",
              "      <td>0.016474</td>\n",
              "      <td>0.501253</td>\n",
              "    </tr>\n",
              "    <tr>\n",
              "      <th>Burger</th>\n",
              "      <td>0.002744</td>\n",
              "      <td>0.006094</td>\n",
              "      <td>0.450284</td>\n",
              "    </tr>\n",
              "  </tbody>\n",
              "</table>\n",
              "</div>"
            ],
            "text/plain": [
              "               Target Brand Affinity  ...  Affinity to Brand\n",
              "BRAND                                 ...                   \n",
              "Tyrrells                    0.029587  ...           1.234454\n",
              "Twisties                    0.043306  ...           1.224877\n",
              "Kettle                      0.185649  ...           1.195863\n",
              "Tostitos                    0.042581  ...           1.191269\n",
              "Old                         0.041598  ...           1.190850\n",
              "Pringles                    0.111980  ...           1.188241\n",
              "Grainwaves                  0.027309  ...           1.177104\n",
              "Cobs                        0.041856  ...           1.167987\n",
              "Doritos                     0.122877  ...           1.167174\n",
              "Infuzions                   0.060649  ...           1.133443\n",
              "Thins                       0.056611  ...           1.062612\n",
              "Cheezels                    0.016851  ...           0.956409\n",
              "Smiths                      0.093420  ...           0.769986\n",
              "French                      0.003702  ...           0.695912\n",
              "Cheetos                     0.007533  ...           0.687286\n",
              "Red Rock Deli               0.015350  ...           0.675115\n",
              "RRD                         0.030027  ...           0.658880\n",
              "Natural                     0.014962  ...           0.644700\n",
              "CCs                         0.010484  ...           0.609811\n",
              "NCC                         0.003417  ...           0.604972\n",
              "GrnWves                     0.003365  ...           0.584460\n",
              "Sunbites                    0.005954  ...           0.506446\n",
              "WW                          0.019932  ...           0.501318\n",
              "Woolworths                  0.008257  ...           0.501253\n",
              "Burger                      0.002744  ...           0.450284\n",
              "\n",
              "[25 rows x 3 columns]"
            ]
          },
          "metadata": {},
          "execution_count": 320
        }
      ]
    },
    {
      "cell_type": "markdown",
      "metadata": {
        "id": "4MEg33WW4WQW"
      },
      "source": [
        "# Affinity to pack size"
      ]
    },
    {
      "cell_type": "code",
      "metadata": {
        "id": "Z36LfaSt4YLF"
      },
      "source": [
        "# Target segment \n",
        "targetSize = target.loc[:,['PROD_SIZE','PROD_QTY']]\n",
        "targetSum = targetSize['PROD_QTY'].sum()\n",
        "targetSize['Target Pack Affinity'] = targetSize['PROD_QTY'] / targetSum\n",
        "targetSize = pd.DataFrame(targetSize.groupby('PROD_SIZE')['Target Pack Affinity'].sum())\n",
        "\n",
        "# Non-target segment\n",
        "nonTargetSize = nonTarget.loc[:, ['PROD_SIZE', 'PROD_QTY']]\n",
        "nonTargetSum = nonTargetSize['PROD_QTY'].sum()\n",
        "nonTargetSize['Non-Target Pack Affinity'] = nonTargetSize['PROD_QTY'] / nonTargetSum\n",
        "nonTargetSize = pd.DataFrame(nonTargetSize.groupby('PROD_SIZE')['Non-Target Pack Affinity'].sum())"
      ],
      "execution_count": null,
      "outputs": []
    },
    {
      "cell_type": "code",
      "metadata": {
        "colab": {
          "base_uri": "https://localhost:8080/"
        },
        "id": "ewcogETl6V0r",
        "outputId": "6344d42a-d56a-4233-d156-78575cae9758"
      },
      "source": [
        "# Merge the two dataframes together\n",
        "\n",
        "pack_proportions = pd.merge(targetSize, nonTargetSize, left_index = True, right_index = True)\n",
        "pack_proportions.head()"
      ],
      "execution_count": null,
      "outputs": [
        {
          "output_type": "execute_result",
          "data": {
            "text/html": [
              "<div>\n",
              "<style scoped>\n",
              "    .dataframe tbody tr th:only-of-type {\n",
              "        vertical-align: middle;\n",
              "    }\n",
              "\n",
              "    .dataframe tbody tr th {\n",
              "        vertical-align: top;\n",
              "    }\n",
              "\n",
              "    .dataframe thead th {\n",
              "        text-align: right;\n",
              "    }\n",
              "</style>\n",
              "<table border=\"1\" class=\"dataframe\">\n",
              "  <thead>\n",
              "    <tr style=\"text-align: right;\">\n",
              "      <th></th>\n",
              "      <th>Target Pack Affinity</th>\n",
              "      <th>Non-Target Pack Affinity</th>\n",
              "    </tr>\n",
              "    <tr>\n",
              "      <th>PROD_SIZE</th>\n",
              "      <th></th>\n",
              "      <th></th>\n",
              "    </tr>\n",
              "  </thead>\n",
              "  <tbody>\n",
              "    <tr>\n",
              "      <th>70.0</th>\n",
              "      <td>0.002847</td>\n",
              "      <td>0.005857</td>\n",
              "    </tr>\n",
              "    <tr>\n",
              "      <th>90.0</th>\n",
              "      <td>0.005954</td>\n",
              "      <td>0.011756</td>\n",
              "    </tr>\n",
              "    <tr>\n",
              "      <th>110.0</th>\n",
              "      <td>0.099658</td>\n",
              "      <td>0.083489</td>\n",
              "    </tr>\n",
              "    <tr>\n",
              "      <th>125.0</th>\n",
              "      <td>0.002821</td>\n",
              "      <td>0.005570</td>\n",
              "    </tr>\n",
              "    <tr>\n",
              "      <th>134.0</th>\n",
              "      <td>0.111980</td>\n",
              "      <td>0.094240</td>\n",
              "    </tr>\n",
              "  </tbody>\n",
              "</table>\n",
              "</div>"
            ],
            "text/plain": [
              "           Target Pack Affinity  Non-Target Pack Affinity\n",
              "PROD_SIZE                                                \n",
              "70.0                   0.002847                  0.005857\n",
              "90.0                   0.005954                  0.011756\n",
              "110.0                  0.099658                  0.083489\n",
              "125.0                  0.002821                  0.005570\n",
              "134.0                  0.111980                  0.094240"
            ]
          },
          "metadata": {},
          "execution_count": 322
        }
      ]
    },
    {
      "cell_type": "code",
      "metadata": {
        "colab": {
          "base_uri": "https://localhost:8080/"
        },
        "id": "8ORf7OAv4Sua",
        "outputId": "04ef98fc-b760-49de-d99a-051d7635831c"
      },
      "source": [
        "pack_proportions['Affinity to Pack'] = pack_proportions['Target Pack Affinity'] / pack_proportions['Non-Target Pack Affinity']\n",
        "pack_proportions.sort_values(by = 'Affinity to Pack', ascending = False)"
      ],
      "execution_count": null,
      "outputs": [
        {
          "output_type": "execute_result",
          "data": {
            "text/html": [
              "<div>\n",
              "<style scoped>\n",
              "    .dataframe tbody tr th:only-of-type {\n",
              "        vertical-align: middle;\n",
              "    }\n",
              "\n",
              "    .dataframe tbody tr th {\n",
              "        vertical-align: top;\n",
              "    }\n",
              "\n",
              "    .dataframe thead th {\n",
              "        text-align: right;\n",
              "    }\n",
              "</style>\n",
              "<table border=\"1\" class=\"dataframe\">\n",
              "  <thead>\n",
              "    <tr style=\"text-align: right;\">\n",
              "      <th></th>\n",
              "      <th>Target Pack Affinity</th>\n",
              "      <th>Non-Target Pack Affinity</th>\n",
              "      <th>Affinity to Pack</th>\n",
              "    </tr>\n",
              "    <tr>\n",
              "      <th>PROD_SIZE</th>\n",
              "      <th></th>\n",
              "      <th></th>\n",
              "      <th></th>\n",
              "    </tr>\n",
              "  </thead>\n",
              "  <tbody>\n",
              "    <tr>\n",
              "      <th>270.0</th>\n",
              "      <td>0.029846</td>\n",
              "      <td>0.023366</td>\n",
              "      <td>1.277295</td>\n",
              "    </tr>\n",
              "    <tr>\n",
              "      <th>380.0</th>\n",
              "      <td>0.030156</td>\n",
              "      <td>0.023964</td>\n",
              "      <td>1.258400</td>\n",
              "    </tr>\n",
              "    <tr>\n",
              "      <th>330.0</th>\n",
              "      <td>0.057465</td>\n",
              "      <td>0.047511</td>\n",
              "      <td>1.209522</td>\n",
              "    </tr>\n",
              "    <tr>\n",
              "      <th>110.0</th>\n",
              "      <td>0.099658</td>\n",
              "      <td>0.083489</td>\n",
              "      <td>1.193675</td>\n",
              "    </tr>\n",
              "    <tr>\n",
              "      <th>134.0</th>\n",
              "      <td>0.111980</td>\n",
              "      <td>0.094240</td>\n",
              "      <td>1.188241</td>\n",
              "    </tr>\n",
              "    <tr>\n",
              "      <th>210.0</th>\n",
              "      <td>0.027309</td>\n",
              "      <td>0.023200</td>\n",
              "      <td>1.177104</td>\n",
              "    </tr>\n",
              "    <tr>\n",
              "      <th>135.0</th>\n",
              "      <td>0.013849</td>\n",
              "      <td>0.012053</td>\n",
              "      <td>1.149001</td>\n",
              "    </tr>\n",
              "    <tr>\n",
              "      <th>250.0</th>\n",
              "      <td>0.013460</td>\n",
              "      <td>0.011989</td>\n",
              "      <td>1.122716</td>\n",
              "    </tr>\n",
              "    <tr>\n",
              "      <th>170.0</th>\n",
              "      <td>0.075740</td>\n",
              "      <td>0.074888</td>\n",
              "      <td>1.011386</td>\n",
              "    </tr>\n",
              "    <tr>\n",
              "      <th>300.0</th>\n",
              "      <td>0.054954</td>\n",
              "      <td>0.056709</td>\n",
              "      <td>0.969052</td>\n",
              "    </tr>\n",
              "    <tr>\n",
              "      <th>150.0</th>\n",
              "      <td>0.155130</td>\n",
              "      <td>0.163228</td>\n",
              "      <td>0.950388</td>\n",
              "    </tr>\n",
              "    <tr>\n",
              "      <th>175.0</th>\n",
              "      <td>0.239102</td>\n",
              "      <td>0.253012</td>\n",
              "      <td>0.945022</td>\n",
              "    </tr>\n",
              "    <tr>\n",
              "      <th>165.0</th>\n",
              "      <td>0.052185</td>\n",
              "      <td>0.057403</td>\n",
              "      <td>0.909100</td>\n",
              "    </tr>\n",
              "    <tr>\n",
              "      <th>190.0</th>\n",
              "      <td>0.007015</td>\n",
              "      <td>0.011307</td>\n",
              "      <td>0.620430</td>\n",
              "    </tr>\n",
              "    <tr>\n",
              "      <th>180.0</th>\n",
              "      <td>0.003365</td>\n",
              "      <td>0.005758</td>\n",
              "      <td>0.584460</td>\n",
              "    </tr>\n",
              "    <tr>\n",
              "      <th>160.0</th>\n",
              "      <td>0.006005</td>\n",
              "      <td>0.011391</td>\n",
              "      <td>0.527185</td>\n",
              "    </tr>\n",
              "    <tr>\n",
              "      <th>125.0</th>\n",
              "      <td>0.002821</td>\n",
              "      <td>0.005570</td>\n",
              "      <td>0.506538</td>\n",
              "    </tr>\n",
              "    <tr>\n",
              "      <th>90.0</th>\n",
              "      <td>0.005954</td>\n",
              "      <td>0.011756</td>\n",
              "      <td>0.506446</td>\n",
              "    </tr>\n",
              "    <tr>\n",
              "      <th>200.0</th>\n",
              "      <td>0.008413</td>\n",
              "      <td>0.017216</td>\n",
              "      <td>0.488651</td>\n",
              "    </tr>\n",
              "    <tr>\n",
              "      <th>70.0</th>\n",
              "      <td>0.002847</td>\n",
              "      <td>0.005857</td>\n",
              "      <td>0.486182</td>\n",
              "    </tr>\n",
              "    <tr>\n",
              "      <th>220.0</th>\n",
              "      <td>0.002744</td>\n",
              "      <td>0.006094</td>\n",
              "      <td>0.450284</td>\n",
              "    </tr>\n",
              "  </tbody>\n",
              "</table>\n",
              "</div>"
            ],
            "text/plain": [
              "           Target Pack Affinity  Non-Target Pack Affinity  Affinity to Pack\n",
              "PROD_SIZE                                                                  \n",
              "270.0                  0.029846                  0.023366          1.277295\n",
              "380.0                  0.030156                  0.023964          1.258400\n",
              "330.0                  0.057465                  0.047511          1.209522\n",
              "110.0                  0.099658                  0.083489          1.193675\n",
              "134.0                  0.111980                  0.094240          1.188241\n",
              "210.0                  0.027309                  0.023200          1.177104\n",
              "135.0                  0.013849                  0.012053          1.149001\n",
              "250.0                  0.013460                  0.011989          1.122716\n",
              "170.0                  0.075740                  0.074888          1.011386\n",
              "300.0                  0.054954                  0.056709          0.969052\n",
              "150.0                  0.155130                  0.163228          0.950388\n",
              "175.0                  0.239102                  0.253012          0.945022\n",
              "165.0                  0.052185                  0.057403          0.909100\n",
              "190.0                  0.007015                  0.011307          0.620430\n",
              "180.0                  0.003365                  0.005758          0.584460\n",
              "160.0                  0.006005                  0.011391          0.527185\n",
              "125.0                  0.002821                  0.005570          0.506538\n",
              "90.0                   0.005954                  0.011756          0.506446\n",
              "200.0                  0.008413                  0.017216          0.488651\n",
              "70.0                   0.002847                  0.005857          0.486182\n",
              "220.0                  0.002744                  0.006094          0.450284"
            ]
          },
          "metadata": {},
          "execution_count": 323
        }
      ]
    },
    {
      "cell_type": "markdown",
      "metadata": {
        "id": "7wx9tWiI45IE"
      },
      "source": [
        "It looks like mainstream singles/couples are more likely to purchase a 270g pack size compared to other pack sizes."
      ]
    },
    {
      "cell_type": "code",
      "metadata": {
        "colab": {
          "base_uri": "https://localhost:8080/"
        },
        "id": "30xmV83l43Md",
        "outputId": "1536a5ab-8e53-4ef3-c2c7-15eb07dd2baa"
      },
      "source": [
        "# Which brand offers 270g pack size?\n",
        "\n",
        "data.loc[data['PROD_SIZE'] == 270, :].head(10)"
      ],
      "execution_count": null,
      "outputs": [
        {
          "output_type": "execute_result",
          "data": {
            "text/html": [
              "<div>\n",
              "<style scoped>\n",
              "    .dataframe tbody tr th:only-of-type {\n",
              "        vertical-align: middle;\n",
              "    }\n",
              "\n",
              "    .dataframe tbody tr th {\n",
              "        vertical-align: top;\n",
              "    }\n",
              "\n",
              "    .dataframe thead th {\n",
              "        text-align: right;\n",
              "    }\n",
              "</style>\n",
              "<table border=\"1\" class=\"dataframe\">\n",
              "  <thead>\n",
              "    <tr style=\"text-align: right;\">\n",
              "      <th></th>\n",
              "      <th>DATE</th>\n",
              "      <th>STORE_NBR</th>\n",
              "      <th>LYLTY_CARD_NBR</th>\n",
              "      <th>TXN_ID</th>\n",
              "      <th>PROD_NBR</th>\n",
              "      <th>PROD_NAME</th>\n",
              "      <th>PROD_QTY</th>\n",
              "      <th>TOT_SALES</th>\n",
              "      <th>PROD_SIZE</th>\n",
              "      <th>BRAND</th>\n",
              "      <th>LIFESTAGE</th>\n",
              "      <th>PREMIUM_CUSTOMER</th>\n",
              "      <th>unit price</th>\n",
              "    </tr>\n",
              "  </thead>\n",
              "  <tbody>\n",
              "    <tr>\n",
              "      <th>40</th>\n",
              "      <td>2019-05-18</td>\n",
              "      <td>9.0</td>\n",
              "      <td>9208.0</td>\n",
              "      <td>8634.0</td>\n",
              "      <td>15.0</td>\n",
              "      <td>Twisties Cheese     270g</td>\n",
              "      <td>2.0</td>\n",
              "      <td>9.2</td>\n",
              "      <td>270.0</td>\n",
              "      <td>Twisties</td>\n",
              "      <td>MIDAGE SINGLES/COUPLES</td>\n",
              "      <td>Budget</td>\n",
              "      <td>4.6</td>\n",
              "    </tr>\n",
              "    <tr>\n",
              "      <th>96</th>\n",
              "      <td>2018-08-24</td>\n",
              "      <td>39.0</td>\n",
              "      <td>39167.0</td>\n",
              "      <td>35639.0</td>\n",
              "      <td>113.0</td>\n",
              "      <td>Twisties Chicken270g</td>\n",
              "      <td>2.0</td>\n",
              "      <td>9.2</td>\n",
              "      <td>270.0</td>\n",
              "      <td>Twisties</td>\n",
              "      <td>MIDAGE SINGLES/COUPLES</td>\n",
              "      <td>Budget</td>\n",
              "      <td>4.6</td>\n",
              "    </tr>\n",
              "    <tr>\n",
              "      <th>148</th>\n",
              "      <td>2019-05-06</td>\n",
              "      <td>54.0</td>\n",
              "      <td>54305.0</td>\n",
              "      <td>48304.0</td>\n",
              "      <td>15.0</td>\n",
              "      <td>Twisties Cheese     270g</td>\n",
              "      <td>2.0</td>\n",
              "      <td>9.2</td>\n",
              "      <td>270.0</td>\n",
              "      <td>Twisties</td>\n",
              "      <td>MIDAGE SINGLES/COUPLES</td>\n",
              "      <td>Budget</td>\n",
              "      <td>4.6</td>\n",
              "    </tr>\n",
              "    <tr>\n",
              "      <th>155</th>\n",
              "      <td>2019-05-20</td>\n",
              "      <td>55.0</td>\n",
              "      <td>55073.0</td>\n",
              "      <td>48887.0</td>\n",
              "      <td>113.0</td>\n",
              "      <td>Twisties Chicken270g</td>\n",
              "      <td>1.0</td>\n",
              "      <td>4.6</td>\n",
              "      <td>270.0</td>\n",
              "      <td>Twisties</td>\n",
              "      <td>MIDAGE SINGLES/COUPLES</td>\n",
              "      <td>Budget</td>\n",
              "      <td>4.6</td>\n",
              "    </tr>\n",
              "    <tr>\n",
              "      <th>245</th>\n",
              "      <td>2019-01-01</td>\n",
              "      <td>80.0</td>\n",
              "      <td>80182.0</td>\n",
              "      <td>78980.0</td>\n",
              "      <td>15.0</td>\n",
              "      <td>Twisties Cheese     270g</td>\n",
              "      <td>2.0</td>\n",
              "      <td>9.2</td>\n",
              "      <td>270.0</td>\n",
              "      <td>Twisties</td>\n",
              "      <td>MIDAGE SINGLES/COUPLES</td>\n",
              "      <td>Budget</td>\n",
              "      <td>4.6</td>\n",
              "    </tr>\n",
              "    <tr>\n",
              "      <th>293</th>\n",
              "      <td>2018-11-18</td>\n",
              "      <td>84.0</td>\n",
              "      <td>84096.0</td>\n",
              "      <td>83672.0</td>\n",
              "      <td>113.0</td>\n",
              "      <td>Twisties Chicken270g</td>\n",
              "      <td>2.0</td>\n",
              "      <td>9.2</td>\n",
              "      <td>270.0</td>\n",
              "      <td>Twisties</td>\n",
              "      <td>MIDAGE SINGLES/COUPLES</td>\n",
              "      <td>Budget</td>\n",
              "      <td>4.6</td>\n",
              "    </tr>\n",
              "    <tr>\n",
              "      <th>294</th>\n",
              "      <td>2019-05-20</td>\n",
              "      <td>88.0</td>\n",
              "      <td>88320.0</td>\n",
              "      <td>87811.0</td>\n",
              "      <td>113.0</td>\n",
              "      <td>Twisties Chicken270g</td>\n",
              "      <td>2.0</td>\n",
              "      <td>9.2</td>\n",
              "      <td>270.0</td>\n",
              "      <td>Twisties</td>\n",
              "      <td>MIDAGE SINGLES/COUPLES</td>\n",
              "      <td>Budget</td>\n",
              "      <td>4.6</td>\n",
              "    </tr>\n",
              "    <tr>\n",
              "      <th>339</th>\n",
              "      <td>2018-07-11</td>\n",
              "      <td>102.0</td>\n",
              "      <td>102115.0</td>\n",
              "      <td>102207.0</td>\n",
              "      <td>15.0</td>\n",
              "      <td>Twisties Cheese     270g</td>\n",
              "      <td>2.0</td>\n",
              "      <td>9.2</td>\n",
              "      <td>270.0</td>\n",
              "      <td>Twisties</td>\n",
              "      <td>MIDAGE SINGLES/COUPLES</td>\n",
              "      <td>Budget</td>\n",
              "      <td>4.6</td>\n",
              "    </tr>\n",
              "    <tr>\n",
              "      <th>412</th>\n",
              "      <td>2019-04-05</td>\n",
              "      <td>118.0</td>\n",
              "      <td>118007.0</td>\n",
              "      <td>120735.0</td>\n",
              "      <td>113.0</td>\n",
              "      <td>Twisties Chicken270g</td>\n",
              "      <td>2.0</td>\n",
              "      <td>9.2</td>\n",
              "      <td>270.0</td>\n",
              "      <td>Twisties</td>\n",
              "      <td>MIDAGE SINGLES/COUPLES</td>\n",
              "      <td>Budget</td>\n",
              "      <td>4.6</td>\n",
              "    </tr>\n",
              "    <tr>\n",
              "      <th>415</th>\n",
              "      <td>2018-07-01</td>\n",
              "      <td>119.0</td>\n",
              "      <td>119051.0</td>\n",
              "      <td>122360.0</td>\n",
              "      <td>113.0</td>\n",
              "      <td>Twisties Chicken270g</td>\n",
              "      <td>2.0</td>\n",
              "      <td>9.2</td>\n",
              "      <td>270.0</td>\n",
              "      <td>Twisties</td>\n",
              "      <td>MIDAGE SINGLES/COUPLES</td>\n",
              "      <td>Budget</td>\n",
              "      <td>4.6</td>\n",
              "    </tr>\n",
              "  </tbody>\n",
              "</table>\n",
              "</div>"
            ],
            "text/plain": [
              "          DATE  STORE_NBR  ...  PREMIUM_CUSTOMER  unit price\n",
              "40  2019-05-18        9.0  ...            Budget         4.6\n",
              "96  2018-08-24       39.0  ...            Budget         4.6\n",
              "148 2019-05-06       54.0  ...            Budget         4.6\n",
              "155 2019-05-20       55.0  ...            Budget         4.6\n",
              "245 2019-01-01       80.0  ...            Budget         4.6\n",
              "293 2018-11-18       84.0  ...            Budget         4.6\n",
              "294 2019-05-20       88.0  ...            Budget         4.6\n",
              "339 2018-07-11      102.0  ...            Budget         4.6\n",
              "412 2019-04-05      118.0  ...            Budget         4.6\n",
              "415 2018-07-01      119.0  ...            Budget         4.6\n",
              "\n",
              "[10 rows x 13 columns]"
            ]
          },
          "metadata": {},
          "execution_count": 324
        }
      ]
    },
    {
      "cell_type": "code",
      "metadata": {
        "colab": {
          "base_uri": "https://localhost:8080/"
        },
        "id": "5D0PacCV4-RL",
        "outputId": "8776a187-ca2f-429e-f35e-d759d20651ba"
      },
      "source": [
        "# Is Twisties the only brand who sells 270g pack size?\n",
        "\n",
        "data.loc[data['PROD_SIZE'] == 270, 'BRAND'].unique()"
      ],
      "execution_count": null,
      "outputs": [
        {
          "output_type": "execute_result",
          "data": {
            "text/plain": [
              "array(['Twisties'], dtype=object)"
            ]
          },
          "metadata": {},
          "execution_count": 325
        }
      ]
    },
    {
      "cell_type": "markdown",
      "metadata": {
        "id": "D4Lf4nDx5DjW"
      },
      "source": [
        "Twisties is the only brand that offers 270g pack size."
      ]
    },
    {
      "cell_type": "markdown",
      "metadata": {
        "id": "4LL4SyBr5G-Z"
      },
      "source": [
        "# Conclusion\n",
        "**bold text**Sales are highest for (Budget, OLDER FAMILIES), (Mainstream, YOUNG SINGLES/COUPLES) and (Mainstream, RETIREES)\n",
        "We found that (Mainstream, YOUNG SINGLES/COUPLES) and (Mainstream, RETIREES) are mainly due to the fact that there are more customers in these segments\n",
        "(Mainstream, YOUNG SINGLES/COUPLES) are more likely to pay more per packet of chips than their premium and budget counterparts\n",
        "They are also more likely to purchase 'Tyrrells' and '270g' pack sizes than the rest of the population"
      ]
    }
  ]
}